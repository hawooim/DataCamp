{
 "cells": [
  {
   "cell_type": "markdown",
   "id": "d068bb4c",
   "metadata": {},
   "source": [
    "## Hacker statistics - Simulating 4 coin flips"
   ]
  },
  {
   "cell_type": "code",
   "execution_count": 1,
   "id": "f4f73aa0",
   "metadata": {},
   "outputs": [
    {
     "data": {
      "text/plain": [
       "array([0.37454012, 0.95071431, 0.73199394, 0.59865848])"
      ]
     },
     "execution_count": 1,
     "metadata": {},
     "output_type": "execute_result"
    }
   ],
   "source": [
    "import numpy as np\n",
    "np.random.seed(42)\n",
    "random_numbers = np.random.random(size=4)\n",
    "random_numbers"
   ]
  },
  {
   "cell_type": "code",
   "execution_count": 2,
   "id": "053f6d24",
   "metadata": {},
   "outputs": [
    {
     "data": {
      "text/plain": [
       "array([ True, False, False, False])"
      ]
     },
     "execution_count": 2,
     "metadata": {},
     "output_type": "execute_result"
    }
   ],
   "source": [
    "heads = random_numbers < 0.5\n",
    "heads"
   ]
  },
  {
   "cell_type": "code",
   "execution_count": 3,
   "id": "8f7835ad",
   "metadata": {},
   "outputs": [
    {
     "data": {
      "text/plain": [
       "1"
      ]
     },
     "execution_count": 3,
     "metadata": {},
     "output_type": "execute_result"
    }
   ],
   "source": [
    "np.sum(heads)"
   ]
  },
  {
   "cell_type": "code",
   "execution_count": 4,
   "id": "4eb6b622",
   "metadata": {},
   "outputs": [
    {
     "data": {
      "text/plain": [
       "0.0619"
      ]
     },
     "execution_count": 4,
     "metadata": {},
     "output_type": "execute_result"
    }
   ],
   "source": [
    "n_all_heads = 0  # Initialize number of 4-heads trials\n",
    "for _ in range(10000):\n",
    "    heads = np.random.random(size=4) < 0.5\n",
    "    n_heads = np.sum(heads)\n",
    "    if n_heads == 4:\n",
    "        n_all_heads += 1\n",
    "\n",
    "n_all_heads / 10000"
   ]
  },
  {
   "cell_type": "markdown",
   "id": "5a281ed6",
   "metadata": {},
   "source": [
    "## Exercise: Generating random numbers using the np.random module"
   ]
  },
  {
   "cell_type": "code",
   "execution_count": 5,
   "id": "5ebdc098",
   "metadata": {},
   "outputs": [
    {
     "data": {
      "image/png": "[encoded data removed]",
      "text/plain": [
       "<Figure size 432x288 with 1 Axes>"
      ]
     },
     "metadata": {},
     "output_type": "display_data"
    }
   ],
   "source": [
    "import matplotlib.pyplot as plt\n",
    "import seaborn as sns\n",
    "sns.set()\n",
    "\n",
    "# Seed the random number generator\n",
    "np.random.seed(42)\n",
    "\n",
    "# Initialize random numbers: random_numbers\n",
    "random_numbers = np.empty(100000)\n",
    "\n",
    "# Generate random numbers by looping over range(100000)\n",
    "for i in range(100000):\n",
    "    random_numbers[i] = np.random.random()\n",
    "\n",
    "# Plot a histogram\n",
    "_ = plt.hist(random_numbers)\n",
    "\n",
    "# Show the plot\n",
    "plt.show()"
   ]
  },
  {
   "cell_type": "markdown",
   "id": "6872241e",
   "metadata": {},
   "source": [
    "## Exercise: The np.random module and Bernoulli trials"
   ]
  },
  {
   "cell_type": "code",
   "execution_count": 6,
   "id": "98709730",
   "metadata": {},
   "outputs": [],
   "source": [
    "def perform_bernoulli_trials(n, p):\n",
    "    \"\"\"Perform n Bernoulli trials with success probability p\n",
    "    and return number of successes.\"\"\"\n",
    "    # Initialize number of successes: n_success\n",
    "    n_success = 0\n",
    "\n",
    "    # Perform trials\n",
    "    for i in range(n):\n",
    "        # Choose random number between zero and one: random_number\n",
    "        random_number = np.random.random()\n",
    "\n",
    "        # If less than p, it's a success so add one to n_success\n",
    "        if random_number < p:\n",
    "            n_success += 1\n",
    "\n",
    "    return n_success"
   ]
  },
  {
   "cell_type": "markdown",
   "id": "12f823f2",
   "metadata": {},
   "source": [
    "## How many defaults might we expect?\n",
    " - Let's say a bank made 100 mortgage loans. It is possible that anywhere between 0 and 100 of the loans will be defaulted upon. You would like to know the probability of getting a given number of defaults, given that the probability of a default is p = 0.05.\n",
    " - To investigate this, you will do a simulation. You will perform 100 Bernoulli trials using the perform_bernoulli_trials() function you wrote in the previous exercise and record how many defaults we get. Here, a success is a default. (Remember that the word \"success\" just means that the Bernoulli trial evaluates to True, i.e., did the loan recipient default?) \n",
    " - You will do this for another 100 Bernoulli trials. And again and again until we have tried it 1000 times. Then, you will plot a histogram describing the probability of the number of defaults."
   ]
  },
  {
   "cell_type": "code",
   "execution_count": 7,
   "id": "6999332f",
   "metadata": {},
   "outputs": [
    {
     "data": {
      "image/png": "[encoded data removed]",
      "text/plain": [
       "<Figure size 432x288 with 1 Axes>"
      ]
     },
     "metadata": {},
     "output_type": "display_data"
    }
   ],
   "source": [
    "# Seed random number generator\n",
    "np.random.seed(42)\n",
    "\n",
    "# Initialize the number of defaults: n_defaults\n",
    "n_defaults = np.empty(1000)\n",
    "\n",
    "# Compute the number of defaults\n",
    "for i in range(1000):\n",
    "    n_defaults[i] = perform_bernoulli_trials(100, 0.05)\n",
    "\n",
    "# Plot the histogram with default number of bins; label your axes\n",
    "_ = plt.hist(n_defaults, density=True)  # the height of the bars of the histogram indicates the probability\n",
    "_ = plt.xlabel('number of defaults out of 100 loans')\n",
    "_ = plt.ylabel('probability')\n",
    "\n",
    "# Show the plot\n",
    "plt.show()"
   ]
  },
  {
   "cell_type": "markdown",
   "id": "fdc3c1d7",
   "metadata": {},
   "source": [
    "## Exercise: Will the bank fail?"
   ]
  },
  {
   "cell_type": "code",
   "execution_count": 8,
   "id": "a4e7aa08",
   "metadata": {},
   "outputs": [],
   "source": [
    "# ECDF(Empirical cumulative distribution function)\n",
    "def ecdf(data):\n",
    "    \"\"\"Compute ECDF for a one-dimensional array of measurements.\"\"\"\n",
    "    # Number of data points: n\n",
    "    n = len(data)\n",
    "\n",
    "    # x-data for the ECDF: x\n",
    "    x = np.sort(data)\n",
    "\n",
    "    # y-data for the ECDF: y\n",
    "    y = np.arange(1, n+1) / n\n",
    "\n",
    "    return x, y"
   ]
  },
  {
   "cell_type": "code",
   "execution_count": 9,
   "id": "e2e11b8a",
   "metadata": {},
   "outputs": [
    {
     "data": {
      "image/png": "[encoded data removed]",
      "text/plain": [
       "<Figure size 432x288 with 1 Axes>"
      ]
     },
     "metadata": {},
     "output_type": "display_data"
    },
    {
     "name": "stdout",
     "output_type": "stream",
     "text": [
      "Probability of losing money = 0.022\n"
     ]
    }
   ],
   "source": [
    "# Compute ECDF: x, y\n",
    "x, y = ecdf(n_defaults)\n",
    "\n",
    "# Plot the ECDF with labeled axes\n",
    "plt.plot(x, y, marker='.', linestyle='none')\n",
    "plt.xlabel('number of defaults out of 100 loans')\n",
    "plt.ylabel('ECDF')\n",
    "plt.margins(0.02)  # Keeps data of plot edges\n",
    "\n",
    "# Show the plot\n",
    "plt.show()\n",
    "\n",
    "# Compute the number of 100-loan simulations with 10 or more defaults: n_lose_money\n",
    "n_lose_money = np.sum(n_defaults >= 10)\n",
    "\n",
    "# Compute and print probability of losing money\n",
    "print('Probability of losing money =', n_lose_money / len(n_defaults))"
   ]
  },
  {
   "cell_type": "markdown",
   "id": "99f96b73",
   "metadata": {},
   "source": [
    "## Binomial distribution: the story\n",
    " - The number r of successes in n Bernoulli trials with probability p of success, is Binomially distributed\n",
    " - The number r of heads in 4 coin flips with probability 0.5 of heads, is Binomially distributed"
   ]
  },
  {
   "cell_type": "markdown",
   "id": "48188823",
   "metadata": {},
   "source": [
    "## Sampling from the Binomial distribution"
   ]
  },
  {
   "cell_type": "code",
   "execution_count": 10,
   "id": "97002927",
   "metadata": {},
   "outputs": [
    {
     "data": {
      "text/plain": [
       "2"
      ]
     },
     "execution_count": 10,
     "metadata": {},
     "output_type": "execute_result"
    }
   ],
   "source": [
    "np.random.binomial(4, 0.5)"
   ]
  },
  {
   "cell_type": "code",
   "execution_count": 11,
   "id": "06d149bd",
   "metadata": {},
   "outputs": [
    {
     "data": {
      "text/plain": [
       "array([2, 2, 2, 2, 2, 3, 3, 2, 2, 0])"
      ]
     },
     "execution_count": 11,
     "metadata": {},
     "output_type": "execute_result"
    }
   ],
   "source": [
    "np.random.binomial(4, 0.5, size=10)"
   ]
  },
  {
   "cell_type": "code",
   "execution_count": 12,
   "id": "cf166ef9",
   "metadata": {},
   "outputs": [
    {
     "data": {
      "text/plain": [
       "1.997"
      ]
     },
     "execution_count": 12,
     "metadata": {},
     "output_type": "execute_result"
    }
   ],
   "source": [
    "np.mean(np.random.binomial(4, 0.5, size=10000))"
   ]
  },
  {
   "cell_type": "markdown",
   "id": "642a527c",
   "metadata": {},
   "source": [
    "## The Binomial PMF\n",
    " - PMF (Probability mass function): The set of probabilities of discrete outcomes"
   ]
  },
  {
   "cell_type": "code",
   "execution_count": 13,
   "id": "e8b2b2c2",
   "metadata": {},
   "outputs": [],
   "source": [
    "n = 60\n",
    "p = 0.1\n",
    "samples = np.random.binomial(n, p, size=10000)"
   ]
  },
  {
   "cell_type": "code",
   "execution_count": 14,
   "id": "bbaefbaa",
   "metadata": {},
   "outputs": [
    {
     "data": {
      "image/png": "[encoded data removed]",
      "text/plain": [
       "<Figure size 1080x360 with 1 Axes>"
      ]
     },
     "metadata": {},
     "output_type": "display_data"
    }
   ],
   "source": [
    "plt.figure(figsize=(15, 5))\n",
    "plt.hist(samples, density=True, bins=len(np.unique(samples))-1)\n",
    "plt.xlabel('number of success')\n",
    "plt.ylabel('probability')\n",
    "plt.show()"
   ]
  },
  {
   "cell_type": "markdown",
   "id": "fb2913f0",
   "metadata": {},
   "source": [
    "## The Binomial CDF"
   ]
  },
  {
   "cell_type": "code",
   "execution_count": 15,
   "id": "311808af",
   "metadata": {},
   "outputs": [
    {
     "data": {
      "image/png": "[encoded data removed]",
      "text/plain": [
       "<Figure size 1080x360 with 1 Axes>"
      ]
     },
     "metadata": {},
     "output_type": "display_data"
    }
   ],
   "source": [
    "x, y = ecdf(samples)\n",
    "\n",
    "plt.figure(figsize=(15, 5))\n",
    "plt.plot(x, y, marker='.', linestyle='none')\n",
    "plt.xlabel('number of success')\n",
    "plt.ylabel('ECDF')\n",
    "plt.margins(0.02)  # Keeps data of plot edges\n",
    "\n",
    "plt.show()"
   ]
  },
  {
   "cell_type": "markdown",
   "id": "0d1d0802",
   "metadata": {},
   "source": [
    "## Exercise: Sampling out of the Binomial distribution"
   ]
  },
  {
   "cell_type": "code",
   "execution_count": 16,
   "id": "fccc12fe",
   "metadata": {
    "scrolled": true
   },
   "outputs": [
    {
     "data": {
      "image/png": "[encoded data removed]",
      "text/plain": [
       "<Figure size 1080x360 with 1 Axes>"
      ]
     },
     "metadata": {},
     "output_type": "display_data"
    }
   ],
   "source": [
    "np.random.seed(42)\n",
    "\n",
    "# Take 10,000 samples out of the binomial distribution: n_defaults\n",
    "n_defaults = np.random.binomial(100, 0.05, size=10000)\n",
    "\n",
    "# Compute CDF: x, y\n",
    "x, y = ecdf(n_defaults)\n",
    "\n",
    "# Plot the CDF with axis labels\n",
    "plt.figure(figsize=(15, 5))\n",
    "plt.plot(x, y, marker='.', linestyle='none')\n",
    "plt.xlabel('number of success')\n",
    "plt.ylabel('ECDF')\n",
    "plt.margins(0.02)  # Keeps data of plot edges\n",
    "\n",
    "# Show the plot\n",
    "plt.show()"
   ]
  },
  {
   "cell_type": "markdown",
   "id": "34393a7c",
   "metadata": {},
   "source": [
    "## Exercise: Plotting the Binomial PMF"
   ]
  },
  {
   "cell_type": "code",
   "execution_count": 17,
   "id": "886c0240",
   "metadata": {},
   "outputs": [
    {
     "data": {
      "image/png": "[encoded data removed]",
      "text/plain": [
       "<Figure size 1080x360 with 1 Axes>"
      ]
     },
     "metadata": {},
     "output_type": "display_data"
    }
   ],
   "source": [
    "# Compute bin edges: bins\n",
    "bins = np.arange(0, max(n_defaults) + 1.5) - 0.5\n",
    "\n",
    "# Generate histogram\n",
    "plt.figure(figsize=(15, 5))\n",
    "plt.hist(n_defaults, density=True, bins=bins)\n",
    "\n",
    "# Label axes\n",
    "plt.xlabel('number of success')\n",
    "plt.ylabel('probability')\n",
    "\n",
    "# Show the plot\n",
    "plt.show()"
   ]
  },
  {
   "cell_type": "markdown",
   "id": "bbebd25a",
   "metadata": {},
   "source": [
    "## Poisson process\n",
    " - The timing of the next event is completely independent of when the previous event happened\n",
    " \n",
    "## Examples of Poisson processes\n",
    " - Natural births in a given hospital\n",
    " - Hit on a website during a given hour\n",
    " - Meteor strikes\n",
    " - Molecular collisions in a gas\n",
    " - Aviation incidents\n",
    " - Buses in Poissonville"
   ]
  },
  {
   "cell_type": "markdown",
   "id": "53653d83",
   "metadata": {},
   "source": [
    "## The Poisson CDF\n",
    " - The number r of hits on a website in one hour with an average hit rate of 6 hits per hour is Poisson distributed\n",
    " - So, the Poisson distribution with arrival rate equal to 'np' approximates a Binomial distribution for 'n' Bernoulli trials with probability 'p' of success (with 'n' large and 'p' small)"
   ]
  },
  {
   "cell_type": "code",
   "execution_count": 18,
   "id": "a1175758",
   "metadata": {},
   "outputs": [
    {
     "data": {
      "image/png": "[encoded data removed]",
      "text/plain": [
       "<Figure size 1080x360 with 1 Axes>"
      ]
     },
     "metadata": {},
     "output_type": "display_data"
    }
   ],
   "source": [
    "n_p = 6\n",
    "samples = np.random.poisson(n_p, size=10000)\n",
    "\n",
    "x, y = ecdf(samples)\n",
    "\n",
    "plt.figure(figsize=(15, 5))\n",
    "plt.plot(x, y, marker='.', linestyle='none')\n",
    "plt.xlabel('number of success')\n",
    "plt.ylabel('ECDF')\n",
    "plt.margins(0.02)  # Keeps data of plot edges\n",
    "\n",
    "plt.show()"
   ]
  },
  {
   "cell_type": "code",
   "execution_count": 19,
   "id": "3581c1d6",
   "metadata": {},
   "outputs": [
    {
     "name": "stdout",
     "output_type": "stream",
     "text": [
      "Poisson:      10.0421 3.1718334745065038\n",
      "n = 20 Binom: 10.0064 2.2476563438390667\n",
      "n = 100 Binom: 9.9371 2.980091204980143\n",
      "n = 1000 Binom: 10.0357 3.16430490155421\n"
     ]
    }
   ],
   "source": [
    "# Draw 10,000 samples out of Poisson distribution: samples_poisson\n",
    "samples_poisson = np.random.poisson(10, 10000)\n",
    "\n",
    "# Print the mean and standard deviation\n",
    "print('Poisson:     ', np.mean(samples_poisson),\n",
    "                       np.std(samples_poisson))\n",
    "\n",
    "# Specify values of n and p to consider for Binomial: n, p (such that n_p is always 10)\n",
    "n = [20, 100, 1000]\n",
    "p = [0.5, 0.1, 0.01]\n",
    "\n",
    "# Draw 10,000 samples for each n,p pair: samples_binomial\n",
    "for i in range(3):\n",
    "    samples_binomial = np.random.binomial(n[i], p[i], 10000)\n",
    "\n",
    "    # Print results\n",
    "    print('n =', n[i], 'Binom:', np.mean(samples_binomial),\n",
    "                                 np.std(samples_binomial))\n"
   ]
  },
  {
   "cell_type": "markdown",
   "id": "2dfd501a",
   "metadata": {},
   "source": [
    "The means are all about the same, which can be shown to be true by doing some pen-and-paper work. The standard deviation of the Binomial distribution gets closer and closer to that of the Poisson distribution as the probability p gets lower and lower."
   ]
  },
  {
   "cell_type": "markdown",
   "id": "27436db1",
   "metadata": {},
   "source": [
    "## Exercise: Was 2015 anomalous?\n",
    " - 1990 and 2015 featured the most no-hitters of any season of baseball (there were seven). Given that there are on average 251/115 no-hitters per season, what is the probability of having seven or more in a season"
   ]
  },
  {
   "cell_type": "code",
   "execution_count": 20,
   "id": "6b229447",
   "metadata": {},
   "outputs": [
    {
     "name": "stdout",
     "output_type": "stream",
     "text": [
      "Probability of seven or more no-hitters: 0.0072\n"
     ]
    }
   ],
   "source": [
    "# Draw 10,000 samples out of Poisson distribution: n_nohitters\n",
    "n_nohitters = np.random.poisson(251/115, 10000)\n",
    "\n",
    "# Compute number of samples that are seven or greater: n_large\n",
    "n_large = np.sum(n_nohitters >= 7)\n",
    "\n",
    "# Compute probability of getting seven or more: p_large\n",
    "p_large = n_large / 10000\n",
    "\n",
    "# Print the result\n",
    "print('Probability of seven or more no-hitters:', p_large)"
   ]
  }
 ],
 "metadata": {
  "kernelspec": {
   "display_name": "Python 3 (ipykernel)",
   "language": "python",
   "name": "python3"
  },
  "language_info": {
   "codemirror_mode": {
    "name": "ipython",
    "version": 3
   },
   "file_extension": ".py",
   "mimetype": "text/x-python",
   "name": "python",
   "nbconvert_exporter": "python",
   "pygments_lexer": "ipython3",
   "version": "3.8.12"
  }
 },
 "nbformat": 4,
 "nbformat_minor": 5
}
