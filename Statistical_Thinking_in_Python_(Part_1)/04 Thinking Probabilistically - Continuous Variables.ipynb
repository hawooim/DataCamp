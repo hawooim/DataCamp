{
 "cells": [
  {
   "cell_type": "markdown",
   "id": "481e94da",
   "metadata": {},
   "source": [
    "## Michelson's speed of light experiment"
   ]
  },
  {
   "cell_type": "code",
   "execution_count": 2,
   "id": "a384cf3a",
   "metadata": {},
   "outputs": [],
   "source": [
    "import pandas as pd\n",
    "import numpy as np\n",
    "import matplotlib.pyplot as plt\n",
    "import seaborn as sns"
   ]
  },
  {
   "cell_type": "code",
   "execution_count": 4,
   "id": "25142d4e",
   "metadata": {
    "scrolled": false
   },
   "outputs": [
    {
     "data": {
      "text/html": [
       "<div>\n",
       "<style scoped>\n",
       "    .dataframe tbody tr th:only-of-type {\n",
       "        vertical-align: middle;\n",
       "    }\n",
       "\n",
       "    .dataframe tbody tr th {\n",
       "        vertical-align: top;\n",
       "    }\n",
       "\n",
       "    .dataframe thead th {\n",
       "        text-align: right;\n",
       "    }\n",
       "</style>\n",
       "<table border=\"1\" class=\"dataframe\">\n",
       "  <thead>\n",
       "    <tr style=\"text-align: right;\">\n",
       "      <th></th>\n",
       "      <th>date</th>\n",
       "      <th>distinctness of image</th>\n",
       "      <th>temperature (F)</th>\n",
       "      <th>position of deflected image</th>\n",
       "      <th>position of slit</th>\n",
       "      <th>displacement of image in divisions</th>\n",
       "      <th>difference between greatest and least</th>\n",
       "      <th>B</th>\n",
       "      <th>Cor</th>\n",
       "      <th>revolutions per second</th>\n",
       "      <th>radius (ft)</th>\n",
       "      <th>value of one turn of screw</th>\n",
       "      <th>velocity of light in air (km/s)</th>\n",
       "      <th>remarks</th>\n",
       "    </tr>\n",
       "  </thead>\n",
       "  <tbody>\n",
       "    <tr>\n",
       "      <th>0</th>\n",
       "      <td>June  5</td>\n",
       "      <td>3</td>\n",
       "      <td>76</td>\n",
       "      <td>114.85</td>\n",
       "      <td>0.300</td>\n",
       "      <td>114.55</td>\n",
       "      <td>0.17</td>\n",
       "      <td>1.423</td>\n",
       "      <td>-0.132</td>\n",
       "      <td>257.36</td>\n",
       "      <td>28.672</td>\n",
       "      <td>0.99614</td>\n",
       "      <td>299850</td>\n",
       "      <td>Electric light.</td>\n",
       "    </tr>\n",
       "    <tr>\n",
       "      <th>1</th>\n",
       "      <td>June  7</td>\n",
       "      <td>2</td>\n",
       "      <td>72</td>\n",
       "      <td>114.64</td>\n",
       "      <td>0.074</td>\n",
       "      <td>114.56</td>\n",
       "      <td>0.10</td>\n",
       "      <td>1.533</td>\n",
       "      <td>-0.084</td>\n",
       "      <td>257.52</td>\n",
       "      <td>28.655</td>\n",
       "      <td>0.99614</td>\n",
       "      <td>299740</td>\n",
       "      <td>P.M. Frame inclined at various angles</td>\n",
       "    </tr>\n",
       "    <tr>\n",
       "      <th>2</th>\n",
       "      <td>June  7</td>\n",
       "      <td>2</td>\n",
       "      <td>72</td>\n",
       "      <td>114.58</td>\n",
       "      <td>0.074</td>\n",
       "      <td>114.50</td>\n",
       "      <td>0.08</td>\n",
       "      <td>1.533</td>\n",
       "      <td>-0.084</td>\n",
       "      <td>257.52</td>\n",
       "      <td>28.647</td>\n",
       "      <td>0.99614</td>\n",
       "      <td>299900</td>\n",
       "      <td>P.M. Frame inclined at various angles</td>\n",
       "    </tr>\n",
       "    <tr>\n",
       "      <th>3</th>\n",
       "      <td>June  7</td>\n",
       "      <td>2</td>\n",
       "      <td>72</td>\n",
       "      <td>85.91</td>\n",
       "      <td>0.074</td>\n",
       "      <td>85.84</td>\n",
       "      <td>0.12</td>\n",
       "      <td>1.533</td>\n",
       "      <td>-0.084</td>\n",
       "      <td>193.14</td>\n",
       "      <td>28.647</td>\n",
       "      <td>0.99598</td>\n",
       "      <td>300070</td>\n",
       "      <td>P.M. Frame inclined at various angles</td>\n",
       "    </tr>\n",
       "    <tr>\n",
       "      <th>4</th>\n",
       "      <td>June  7</td>\n",
       "      <td>2</td>\n",
       "      <td>72</td>\n",
       "      <td>85.97</td>\n",
       "      <td>0.074</td>\n",
       "      <td>85.89</td>\n",
       "      <td>O.07</td>\n",
       "      <td>1.533</td>\n",
       "      <td>-0.084</td>\n",
       "      <td>193.14</td>\n",
       "      <td>28.650</td>\n",
       "      <td>0.99598</td>\n",
       "      <td>299930</td>\n",
       "      <td>P.M. Frame inclined at various angles</td>\n",
       "    </tr>\n",
       "  </tbody>\n",
       "</table>\n",
       "</div>"
      ],
      "text/plain": [
       "         date  distinctness of image  temperature (F)  \\\n",
       "0     June  5                      3               76   \n",
       "1     June  7                      2               72   \n",
       "2     June  7                      2               72   \n",
       "3     June  7                      2               72   \n",
       "4     June  7                      2               72   \n",
       "\n",
       "   position of deflected image  position of slit  \\\n",
       "0                       114.85             0.300   \n",
       "1                       114.64             0.074   \n",
       "2                       114.58             0.074   \n",
       "3                        85.91             0.074   \n",
       "4                        85.97             0.074   \n",
       "\n",
       "  displacement of image in divisions difference between greatest and least  \\\n",
       "0                             114.55                                  0.17   \n",
       "1                             114.56                                  0.10   \n",
       "2                             114.50                                  0.08   \n",
       "3                              85.84                                  0.12   \n",
       "4                              85.89                                  O.07   \n",
       "\n",
       "       B    Cor revolutions per second  radius (ft)  \\\n",
       "0  1.423 -0.132                 257.36       28.672   \n",
       "1  1.533 -0.084                 257.52       28.655   \n",
       "2  1.533 -0.084                 257.52       28.647   \n",
       "3  1.533 -0.084                 193.14       28.647   \n",
       "4  1.533 -0.084                 193.14       28.650   \n",
       "\n",
       "   value of one turn of screw  velocity of light in air (km/s)  \\\n",
       "0                     0.99614                           299850   \n",
       "1                     0.99614                           299740   \n",
       "2                     0.99614                           299900   \n",
       "3                     0.99598                           300070   \n",
       "4                     0.99598                           299930   \n",
       "\n",
       "                                 remarks  \n",
       "0                        Electric light.  \n",
       "1  P.M. Frame inclined at various angles  \n",
       "2  P.M. Frame inclined at various angles  \n",
       "3  P.M. Frame inclined at various angles  \n",
       "4  P.M. Frame inclined at various angles  "
      ]
     },
     "execution_count": 4,
     "metadata": {},
     "output_type": "execute_result"
    }
   ],
   "source": [
    "df = pd.read_csv('michelson_speed_of_light.csv', index_col=0)\n",
    "df.head()"
   ]
  },
  {
   "cell_type": "markdown",
   "id": "4e4b9d97",
   "metadata": {},
   "source": [
    "## Checking Normality of Michelson data"
   ]
  },
  {
   "cell_type": "code",
   "execution_count": 8,
   "id": "f7223f01",
   "metadata": {},
   "outputs": [],
   "source": [
    "mean = np.mean(df['velocity of light in air (km/s)'])\n",
    "std = np.std(df['velocity of light in air (km/s)'])\n",
    "samples = np.random.normal(mean, std, size=10000)"
   ]
  },
  {
   "cell_type": "code",
   "execution_count": 9,
   "id": "cd479bec",
   "metadata": {},
   "outputs": [],
   "source": [
    "# ECDF(Empirical cumulative distribution function)\n",
    "def ecdf(data):\n",
    "    \"\"\"Compute ECDF for a one-dimensional array of measurements.\"\"\"\n",
    "    # Number of data points: n\n",
    "    n = len(data)\n",
    "\n",
    "    # x-data for the ECDF: x\n",
    "    x = np.sort(data)\n",
    "\n",
    "    # y-data for the ECDF: y\n",
    "    y = np.arange(1, n+1) / n\n",
    "\n",
    "    return x, y"
   ]
  },
  {
   "cell_type": "code",
   "execution_count": 10,
   "id": "e68b11b3",
   "metadata": {},
   "outputs": [],
   "source": [
    "x, y = ecdf(df['velocity of light in air (km/s)'])"
   ]
  },
  {
   "cell_type": "code",
   "execution_count": 12,
   "id": "5e872112",
   "metadata": {},
   "outputs": [],
   "source": [
    "x_theor, y_theor = ecdf(samples)"
   ]
  },
  {
   "cell_type": "code",
   "execution_count": 15,
   "id": "eab1a2a9",
   "metadata": {},
   "outputs": [
    {
     "data": {
      "image/png": "[encoded data removed]",
      "text/plain": [
       "<Figure size 1080x360 with 1 Axes>"
      ]
     },
     "metadata": {},
     "output_type": "display_data"
    }
   ],
   "source": [
    "sns.set()\n",
    "\n",
    "# Plot the ECDF with labeled axes\n",
    "plt.figure(figsize=(15, 5))\n",
    "plt.plot(x, y, marker='.', linestyle='none')\n",
    "plt.plot(x_theor, y_theor)\n",
    "plt.xlabel('speed of light (km/s)')\n",
    "plt.ylabel('CDF')\n",
    "plt.margins(0.02)  # Keeps data of plot edges\n",
    "\n",
    "# Show the plot\n",
    "plt.show()"
   ]
  },
  {
   "cell_type": "markdown",
   "id": "7e872d10",
   "metadata": {},
   "source": [
    "## Exercise: The Normal PDF"
   ]
  },
  {
   "cell_type": "code",
   "execution_count": 19,
   "id": "32314ef0",
   "metadata": {},
   "outputs": [
    {
     "data": {
      "image/png": "[encoded data removed]",
      "text/plain": [
       "<Figure size 1080x360 with 1 Axes>"
      ]
     },
     "metadata": {},
     "output_type": "display_data"
    }
   ],
   "source": [
    "# Draw 100000 samples from Normal distribution with stds of interest: samples_std1, samples_std3, samples_std10\n",
    "samples_std1 = np.random.normal(20, 1, 100000)\n",
    "samples_std3 = np.random.normal(20, 3, 100000)\n",
    "samples_std10 = np.random.normal(20, 10, 100000)\n",
    "\n",
    "# Make histograms\n",
    "plt.figure(figsize=(15, 5))\n",
    "plt.hist(samples_std1, histtype='step', density=True, bins=100)\n",
    "plt.hist(samples_std3, histtype='step', density=True, bins=100)\n",
    "plt.hist(samples_std10, histtype='step', density=True, bins=100)\n",
    "\n",
    "# Make a legend, set limits and show plot\n",
    "_ = plt.legend(('std = 1', 'std = 3', 'std = 10'))\n",
    "plt.ylim(-0.01, 0.42)\n",
    "plt.show()"
   ]
  },
  {
   "cell_type": "markdown",
   "id": "70f556fc",
   "metadata": {},
   "source": [
    "## Exercize: The Normal CDF"
   ]
  },
  {
   "cell_type": "code",
   "execution_count": 20,
   "id": "119a1be6",
   "metadata": {},
   "outputs": [
    {
     "data": {
      "image/png": "[encoded data removed]",
      "text/plain": [
       "<Figure size 1080x360 with 1 Axes>"
      ]
     },
     "metadata": {},
     "output_type": "display_data"
    }
   ],
   "source": [
    "# Generate CDFs\n",
    "x_std1, y_std1 = ecdf(samples_std1)\n",
    "x_std3, y_std3 = ecdf(samples_std3)\n",
    "x_std10, y_std10 = ecdf(samples_std10)\n",
    "\n",
    "# Plot CDFs\n",
    "plt.figure(figsize=(15, 5))\n",
    "plt.plot(x_std1, y_std1, marker='.', linestyle='none')\n",
    "plt.plot(x_std3, y_std3, marker='.', linestyle='none')\n",
    "plt.plot(x_std10, y_std10, marker='.', linestyle='none')\n",
    "\n",
    "# Make a legend and show the plot\n",
    "plt.legend(('std = 1', 'std = 3', 'std = 10'), loc='lower right')\n",
    "plt.show()"
   ]
  },
  {
   "cell_type": "markdown",
   "id": "c243db4b",
   "metadata": {},
   "source": [
    "## Exercise: Are the Belmont Stakes results Normally distributed?\n",
    " - Since 1926, the Belmont Stakes is a 1.5 mile-long race of 3-year old thoroughbred horses. \n",
    " - Secretariat ran the fastest Belmont Stakes in history in 1973. While that was the fastest year, 1970 was the slowest because of unusually wet and sloppy conditions. \n",
    " - With these two outliers removed from the data set, compute the mean and standard deviation of the Belmont winners' times. \n",
    " - Sample out of a Normal distribution with this mean and standard deviation using the np.random.normal() function and plot a CDF. \n",
    " - Overlay the ECDF from the winning Belmont times. Are these close to Normally distributed?"
   ]
  },
  {
   "cell_type": "code",
   "execution_count": 41,
   "id": "059f332b",
   "metadata": {},
   "outputs": [
    {
     "data": {
      "text/html": [
       "<div>\n",
       "<style scoped>\n",
       "    .dataframe tbody tr th:only-of-type {\n",
       "        vertical-align: middle;\n",
       "    }\n",
       "\n",
       "    .dataframe tbody tr th {\n",
       "        vertical-align: top;\n",
       "    }\n",
       "\n",
       "    .dataframe thead th {\n",
       "        text-align: right;\n",
       "    }\n",
       "</style>\n",
       "<table border=\"1\" class=\"dataframe\">\n",
       "  <thead>\n",
       "    <tr style=\"text-align: right;\">\n",
       "      <th></th>\n",
       "      <th>Year</th>\n",
       "      <th>Winner</th>\n",
       "      <th>Jockey</th>\n",
       "      <th>Trainer</th>\n",
       "      <th>Owner</th>\n",
       "      <th>Time</th>\n",
       "      <th>Track</th>\n",
       "      <th>miles</th>\n",
       "    </tr>\n",
       "  </thead>\n",
       "  <tbody>\n",
       "    <tr>\n",
       "      <th>0</th>\n",
       "      <td>2016</td>\n",
       "      <td>Creator</td>\n",
       "      <td>Irad Ortiz, Jr</td>\n",
       "      <td>Steve Asmussen</td>\n",
       "      <td>WinStar Farm LLC</td>\n",
       "      <td>2:28.51</td>\n",
       "      <td>Belmont</td>\n",
       "      <td>1.5</td>\n",
       "    </tr>\n",
       "    <tr>\n",
       "      <th>1</th>\n",
       "      <td>2015</td>\n",
       "      <td>American Pharoah</td>\n",
       "      <td>Victor Espinoza</td>\n",
       "      <td>Bob Baffert</td>\n",
       "      <td>Zayat Stables, LLC</td>\n",
       "      <td>2:26.65</td>\n",
       "      <td>Belmont</td>\n",
       "      <td>1.5</td>\n",
       "    </tr>\n",
       "    <tr>\n",
       "      <th>2</th>\n",
       "      <td>2014</td>\n",
       "      <td>Tonalist</td>\n",
       "      <td>Joel Rosario</td>\n",
       "      <td>Christophe Clement</td>\n",
       "      <td>Robert S. Evans</td>\n",
       "      <td>2:28.52</td>\n",
       "      <td>Belmont</td>\n",
       "      <td>1.5</td>\n",
       "    </tr>\n",
       "    <tr>\n",
       "      <th>3</th>\n",
       "      <td>2013</td>\n",
       "      <td>Palace Malice</td>\n",
       "      <td>Mike Smith</td>\n",
       "      <td>Todd Pletcher</td>\n",
       "      <td>Dogwood Stable</td>\n",
       "      <td>2:30.70</td>\n",
       "      <td>Belmont</td>\n",
       "      <td>1.5</td>\n",
       "    </tr>\n",
       "    <tr>\n",
       "      <th>4</th>\n",
       "      <td>2012</td>\n",
       "      <td>Union Rags</td>\n",
       "      <td>John Velazquez</td>\n",
       "      <td>Michael Matz</td>\n",
       "      <td>Phyllis M. Wyeth</td>\n",
       "      <td>2:30.42</td>\n",
       "      <td>Belmont</td>\n",
       "      <td>1.5</td>\n",
       "    </tr>\n",
       "  </tbody>\n",
       "</table>\n",
       "</div>"
      ],
      "text/plain": [
       "   Year            Winner           Jockey             Trainer  \\\n",
       "0  2016           Creator   Irad Ortiz, Jr      Steve Asmussen   \n",
       "1  2015  American Pharoah  Victor Espinoza         Bob Baffert   \n",
       "2  2014          Tonalist     Joel Rosario  Christophe Clement   \n",
       "3  2013     Palace Malice       Mike Smith       Todd Pletcher   \n",
       "4  2012        Union Rags   John Velazquez        Michael Matz   \n",
       "\n",
       "                Owner     Time    Track  miles  \n",
       "0    WinStar Farm LLC  2:28.51  Belmont    1.5  \n",
       "1  Zayat Stables, LLC  2:26.65  Belmont    1.5  \n",
       "2     Robert S. Evans  2:28.52  Belmont    1.5  \n",
       "3      Dogwood Stable  2:30.70  Belmont    1.5  \n",
       "4    Phyllis M. Wyeth  2:30.42  Belmont    1.5  "
      ]
     },
     "execution_count": 41,
     "metadata": {},
     "output_type": "execute_result"
    }
   ],
   "source": [
    "belmont = pd.read_csv('belmont.csv')\n",
    "belmont.head()"
   ]
  },
  {
   "cell_type": "code",
   "execution_count": 42,
   "id": "da94c380",
   "metadata": {},
   "outputs": [
    {
     "name": "stdout",
     "output_type": "stream",
     "text": [
      "<class 'pandas.core.frame.DataFrame'>\n",
      "RangeIndex: 91 entries, 0 to 90\n",
      "Data columns (total 8 columns):\n",
      " #   Column   Non-Null Count  Dtype  \n",
      "---  ------   --------------  -----  \n",
      " 0   Year     91 non-null     int64  \n",
      " 1   Winner   91 non-null     object \n",
      " 2   Jockey   91 non-null     object \n",
      " 3   Trainer  91 non-null     object \n",
      " 4   Owner    91 non-null     object \n",
      " 5   Time     91 non-null     object \n",
      " 6   Track    91 non-null     object \n",
      " 7   miles    91 non-null     float64\n",
      "dtypes: float64(1), int64(1), object(6)\n",
      "memory usage: 5.8+ KB\n"
     ]
    }
   ],
   "source": [
    "belmont.info()"
   ]
  },
  {
   "cell_type": "code",
   "execution_count": 94,
   "id": "9e352dfa",
   "metadata": {},
   "outputs": [],
   "source": [
    "belmont['newtime'] = pd.to_datetime(belmont['Time'], format='%M:%S.%f')"
   ]
  },
  {
   "cell_type": "code",
   "execution_count": 96,
   "id": "50b5cda8",
   "metadata": {},
   "outputs": [],
   "source": [
    "belmont['newtime'] = belmont['newtime'].apply(lambda x: x.minute * 60 + x.second + x.microsecond/1000000)"
   ]
  },
  {
   "cell_type": "code",
   "execution_count": 97,
   "id": "bafff3ce",
   "metadata": {},
   "outputs": [
    {
     "name": "stdout",
     "output_type": "stream",
     "text": [
      "<class 'pandas.core.frame.DataFrame'>\n",
      "RangeIndex: 91 entries, 0 to 90\n",
      "Data columns (total 9 columns):\n",
      " #   Column   Non-Null Count  Dtype  \n",
      "---  ------   --------------  -----  \n",
      " 0   Year     91 non-null     int64  \n",
      " 1   Winner   91 non-null     object \n",
      " 2   Jockey   91 non-null     object \n",
      " 3   Trainer  91 non-null     object \n",
      " 4   Owner    91 non-null     object \n",
      " 5   Time     91 non-null     object \n",
      " 6   Track    91 non-null     object \n",
      " 7   miles    91 non-null     float64\n",
      " 8   newtime  91 non-null     float64\n",
      "dtypes: float64(2), int64(1), object(6)\n",
      "memory usage: 6.5+ KB\n"
     ]
    }
   ],
   "source": [
    "belmont.info()"
   ]
  },
  {
   "cell_type": "code",
   "execution_count": 98,
   "id": "d2389606",
   "metadata": {},
   "outputs": [
    {
     "data": {
      "text/plain": [
       "(91, 9)"
      ]
     },
     "execution_count": 98,
     "metadata": {},
     "output_type": "execute_result"
    }
   ],
   "source": [
    "belmont.shape"
   ]
  },
  {
   "cell_type": "code",
   "execution_count": 99,
   "id": "a9bb888f",
   "metadata": {
    "scrolled": false
   },
   "outputs": [
    {
     "data": {
      "text/html": [
       "<div>\n",
       "<style scoped>\n",
       "    .dataframe tbody tr th:only-of-type {\n",
       "        vertical-align: middle;\n",
       "    }\n",
       "\n",
       "    .dataframe tbody tr th {\n",
       "        vertical-align: top;\n",
       "    }\n",
       "\n",
       "    .dataframe thead th {\n",
       "        text-align: right;\n",
       "    }\n",
       "</style>\n",
       "<table border=\"1\" class=\"dataframe\">\n",
       "  <thead>\n",
       "    <tr style=\"text-align: right;\">\n",
       "      <th></th>\n",
       "      <th>Year</th>\n",
       "      <th>Winner</th>\n",
       "      <th>Jockey</th>\n",
       "      <th>Trainer</th>\n",
       "      <th>Owner</th>\n",
       "      <th>Time</th>\n",
       "      <th>Track</th>\n",
       "      <th>miles</th>\n",
       "      <th>newtime</th>\n",
       "    </tr>\n",
       "  </thead>\n",
       "  <tbody>\n",
       "    <tr>\n",
       "      <th>0</th>\n",
       "      <td>2016</td>\n",
       "      <td>Creator</td>\n",
       "      <td>Irad Ortiz, Jr</td>\n",
       "      <td>Steve Asmussen</td>\n",
       "      <td>WinStar Farm LLC</td>\n",
       "      <td>2:28.51</td>\n",
       "      <td>Belmont</td>\n",
       "      <td>1.5</td>\n",
       "      <td>148.51</td>\n",
       "    </tr>\n",
       "    <tr>\n",
       "      <th>1</th>\n",
       "      <td>2015</td>\n",
       "      <td>American Pharoah</td>\n",
       "      <td>Victor Espinoza</td>\n",
       "      <td>Bob Baffert</td>\n",
       "      <td>Zayat Stables, LLC</td>\n",
       "      <td>2:26.65</td>\n",
       "      <td>Belmont</td>\n",
       "      <td>1.5</td>\n",
       "      <td>146.65</td>\n",
       "    </tr>\n",
       "    <tr>\n",
       "      <th>2</th>\n",
       "      <td>2014</td>\n",
       "      <td>Tonalist</td>\n",
       "      <td>Joel Rosario</td>\n",
       "      <td>Christophe Clement</td>\n",
       "      <td>Robert S. Evans</td>\n",
       "      <td>2:28.52</td>\n",
       "      <td>Belmont</td>\n",
       "      <td>1.5</td>\n",
       "      <td>148.52</td>\n",
       "    </tr>\n",
       "    <tr>\n",
       "      <th>3</th>\n",
       "      <td>2013</td>\n",
       "      <td>Palace Malice</td>\n",
       "      <td>Mike Smith</td>\n",
       "      <td>Todd Pletcher</td>\n",
       "      <td>Dogwood Stable</td>\n",
       "      <td>2:30.70</td>\n",
       "      <td>Belmont</td>\n",
       "      <td>1.5</td>\n",
       "      <td>150.70</td>\n",
       "    </tr>\n",
       "    <tr>\n",
       "      <th>4</th>\n",
       "      <td>2012</td>\n",
       "      <td>Union Rags</td>\n",
       "      <td>John Velazquez</td>\n",
       "      <td>Michael Matz</td>\n",
       "      <td>Phyllis M. Wyeth</td>\n",
       "      <td>2:30.42</td>\n",
       "      <td>Belmont</td>\n",
       "      <td>1.5</td>\n",
       "      <td>150.42</td>\n",
       "    </tr>\n",
       "    <tr>\n",
       "      <th>...</th>\n",
       "      <td>...</td>\n",
       "      <td>...</td>\n",
       "      <td>...</td>\n",
       "      <td>...</td>\n",
       "      <td>...</td>\n",
       "      <td>...</td>\n",
       "      <td>...</td>\n",
       "      <td>...</td>\n",
       "      <td>...</td>\n",
       "    </tr>\n",
       "    <tr>\n",
       "      <th>86</th>\n",
       "      <td>1930</td>\n",
       "      <td>Gallant Fox</td>\n",
       "      <td>Earl Sande</td>\n",
       "      <td>Jim Fitzsimmons</td>\n",
       "      <td>Belair Stud</td>\n",
       "      <td>2:31.60</td>\n",
       "      <td>Belmont</td>\n",
       "      <td>1.5</td>\n",
       "      <td>151.60</td>\n",
       "    </tr>\n",
       "    <tr>\n",
       "      <th>87</th>\n",
       "      <td>1929</td>\n",
       "      <td>Blue Larkspur</td>\n",
       "      <td>Mack Garner</td>\n",
       "      <td>Herbert J. Thompson</td>\n",
       "      <td>Edward R. Bradley</td>\n",
       "      <td>2:32.80</td>\n",
       "      <td>Belmont</td>\n",
       "      <td>1.5</td>\n",
       "      <td>152.80</td>\n",
       "    </tr>\n",
       "    <tr>\n",
       "      <th>88</th>\n",
       "      <td>1928</td>\n",
       "      <td>Vito</td>\n",
       "      <td>Clarence Kummer</td>\n",
       "      <td>Max Hirsch</td>\n",
       "      <td>Alfred H. Cosden</td>\n",
       "      <td>2:33.20</td>\n",
       "      <td>Belmont</td>\n",
       "      <td>1.5</td>\n",
       "      <td>153.20</td>\n",
       "    </tr>\n",
       "    <tr>\n",
       "      <th>89</th>\n",
       "      <td>1927</td>\n",
       "      <td>Chance Shot</td>\n",
       "      <td>Earl Sande</td>\n",
       "      <td>Pete Coyne</td>\n",
       "      <td>Joseph E. Widener</td>\n",
       "      <td>2:32.40</td>\n",
       "      <td>Belmont</td>\n",
       "      <td>1.5</td>\n",
       "      <td>152.40</td>\n",
       "    </tr>\n",
       "    <tr>\n",
       "      <th>90</th>\n",
       "      <td>1926</td>\n",
       "      <td>Crusader</td>\n",
       "      <td>Albert Johnson</td>\n",
       "      <td>George Conway</td>\n",
       "      <td>Glen Riddle Farm</td>\n",
       "      <td>2:32.20</td>\n",
       "      <td>Belmont</td>\n",
       "      <td>1.5</td>\n",
       "      <td>152.20</td>\n",
       "    </tr>\n",
       "  </tbody>\n",
       "</table>\n",
       "<p>89 rows × 9 columns</p>\n",
       "</div>"
      ],
      "text/plain": [
       "    Year            Winner           Jockey              Trainer  \\\n",
       "0   2016           Creator   Irad Ortiz, Jr       Steve Asmussen   \n",
       "1   2015  American Pharoah  Victor Espinoza          Bob Baffert   \n",
       "2   2014          Tonalist     Joel Rosario   Christophe Clement   \n",
       "3   2013     Palace Malice       Mike Smith        Todd Pletcher   \n",
       "4   2012        Union Rags   John Velazquez         Michael Matz   \n",
       "..   ...               ...              ...                  ...   \n",
       "86  1930       Gallant Fox       Earl Sande      Jim Fitzsimmons   \n",
       "87  1929     Blue Larkspur      Mack Garner  Herbert J. Thompson   \n",
       "88  1928              Vito  Clarence Kummer           Max Hirsch   \n",
       "89  1927       Chance Shot       Earl Sande           Pete Coyne   \n",
       "90  1926          Crusader   Albert Johnson        George Conway   \n",
       "\n",
       "                 Owner     Time    Track  miles  newtime  \n",
       "0     WinStar Farm LLC  2:28.51  Belmont    1.5   148.51  \n",
       "1   Zayat Stables, LLC  2:26.65  Belmont    1.5   146.65  \n",
       "2      Robert S. Evans  2:28.52  Belmont    1.5   148.52  \n",
       "3       Dogwood Stable  2:30.70  Belmont    1.5   150.70  \n",
       "4     Phyllis M. Wyeth  2:30.42  Belmont    1.5   150.42  \n",
       "..                 ...      ...      ...    ...      ...  \n",
       "86         Belair Stud  2:31.60  Belmont    1.5   151.60  \n",
       "87   Edward R. Bradley  2:32.80  Belmont    1.5   152.80  \n",
       "88    Alfred H. Cosden  2:33.20  Belmont    1.5   153.20  \n",
       "89   Joseph E. Widener  2:32.40  Belmont    1.5   152.40  \n",
       "90    Glen Riddle Farm  2:32.20  Belmont    1.5   152.20  \n",
       "\n",
       "[89 rows x 9 columns]"
      ]
     },
     "execution_count": 99,
     "metadata": {},
     "output_type": "execute_result"
    }
   ],
   "source": [
    "belmont[~belmont['Year'].isin([1970, 1973])]"
   ]
  },
  {
   "cell_type": "code",
   "execution_count": 103,
   "id": "0e94deab",
   "metadata": {
    "scrolled": true
   },
   "outputs": [
    {
     "data": {
      "text/plain": [
       "array([148.51, 146.65, 148.52, 150.7 , 150.42, 150.88, 151.57, 147.54,\n",
       "       149.65, 148.74, 147.86, 148.75, 147.5 , 148.26, 149.71, 146.56,\n",
       "       151.19, 147.88, 149.16, 148.82, 148.96, 152.02, 146.82, 149.97,\n",
       "       146.13, 148.1 , 147.2 , 146.  , 146.4 , 148.2 , 149.8 , 147.  ,\n",
       "       147.2 , 147.8 , 148.2 , 149.  , 149.8 , 148.6 , 146.8 , 149.6 ,\n",
       "       149.  , 148.2 , 149.2 , 148.  , 150.4 , 148.8 , 147.2 , 148.8 ,\n",
       "       149.6 , 148.4 , 148.4 , 150.2 , 148.8 , 149.2 , 149.2 , 148.4 ,\n",
       "       150.2 , 146.6 , 149.8 , 149.  , 150.8 , 148.6 , 150.2 , 149.  ,\n",
       "       148.6 , 150.2 , 148.2 , 149.4 , 150.8 , 150.2 , 152.2 , 148.2 ,\n",
       "       149.2 , 151.  , 149.6 , 149.6 , 149.4 , 148.6 , 150.  , 150.6 ,\n",
       "       149.2 , 152.6 , 152.8 , 149.6 , 151.6 , 152.8 , 153.2 , 152.4 ,\n",
       "       152.2 ])"
      ]
     },
     "execution_count": 103,
     "metadata": {},
     "output_type": "execute_result"
    }
   ],
   "source": [
    "belmont_no_outliers = belmont[~belmont['Year'].isin([1970, 1973])]['newtime'].values\n",
    "belmont_no_outliers"
   ]
  },
  {
   "cell_type": "code",
   "execution_count": 104,
   "id": "302ae8ec",
   "metadata": {},
   "outputs": [
    {
     "data": {
      "image/png": "[encoded data removed]",
      "text/plain": [
       "<Figure size 1080x360 with 1 Axes>"
      ]
     },
     "metadata": {},
     "output_type": "display_data"
    }
   ],
   "source": [
    "# Compute mean and standard deviation: mu, sigma\n",
    "mu = np.mean(belmont_no_outliers)\n",
    "sigma = np.std(belmont_no_outliers)\n",
    "\n",
    "# Sample out of a normal distribution with this mu and sigma: samples\n",
    "samples = np.random.normal(mu, sigma, 10000)\n",
    "\n",
    "# Get the CDF of the samples and of the data\n",
    "x_theor, y_theor = ecdf(samples)\n",
    "x, y = ecdf(belmont_no_outliers)\n",
    "\n",
    "# Plot the CDFs and show the plot\n",
    "plt.figure(figsize=(15, 5))\n",
    "plt.plot(x_theor, y_theor)\n",
    "plt.plot(x, y, marker='.', linestyle='none')\n",
    "plt.xlabel('Belmont winning time (sec.)')\n",
    "plt.ylabel('CDF')\n",
    "plt.show()"
   ]
  },
  {
   "cell_type": "markdown",
   "id": "b8a54298",
   "metadata": {},
   "source": [
    "## Exercise: What are the chances of a horse matching or beating Secretariat's record?\n",
    " - Assume that the Belmont winners' times are Normally distributed (with the 1970 and 1973 years removed), what is the probability that the winner of a given Belmont Stakes will run it as fast or faster than Secretariat?"
   ]
  },
  {
   "cell_type": "code",
   "execution_count": 105,
   "id": "97f12e7b",
   "metadata": {},
   "outputs": [
    {
     "name": "stdout",
     "output_type": "stream",
     "text": [
      "Probability of besting Secretariat: 0.000595\n"
     ]
    }
   ],
   "source": [
    "# Take a million samples out of the Normal distribution: samples\n",
    "samples = np.random.normal(mu, sigma, 1_000_000)\n",
    "\n",
    "# Compute the fraction that are faster than 144 seconds: prob\n",
    "prob = np.sum(samples < 144) / 1_000_000\n",
    "\n",
    "# Print the result\n",
    "print('Probability of besting Secretariat:', prob)"
   ]
  },
  {
   "cell_type": "markdown",
   "id": "5d132e62",
   "metadata": {},
   "source": [
    "## Exercise: If you have a story, you can simulate it!\n",
    " - Sometimes, the story describing our probability distribution does not have a named distribution to go along with it. In these cases, fear not! You can always simulate it. We'll do that in this and the next exercise.\n",
    "\n",
    " - In earlier exercises, we looked at the rare event of no-hitters in Major League Baseball. Hitting the cycle, when a batter gets all four kinds of hits in a single game, is another rare baseball event. Like no-hitters, this can be modeled as a Poisson process, so the time between hits of the cycle are also Exponentially distributed.\n",
    "\n",
    " - How long must we wait to see a no-hitter and then a batter hit the cycle? The idea is that we have to wait some time for the no-hitter, and then after the no-hitter, we have to wait for hitting the cycle. Stated another way, what is the total waiting time for the arrival of two different Poisson processes in succession? The total waiting time is the time waited for the no-hitter, plus the time waited for the hitting the cycle.\n",
    "\n",
    " - Now, you will write a function to sample out of the distribution described by this story."
   ]
  },
  {
   "cell_type": "code",
   "execution_count": 106,
   "id": "b3d5783c",
   "metadata": {},
   "outputs": [],
   "source": [
    "def successive_poisson(tau1, tau2, size=1):\n",
    "    \"\"\"Compute time for arrival of 2 successive Poisson processes.\"\"\"\n",
    "    # Draw samples out of first exponential distribution: t1\n",
    "    t1 = np.random.exponential(np.mean(tau1), size)\n",
    "\n",
    "    # Draw samples out of second exponential distribution: t2\n",
    "    t2 = np.random.exponential(np.mean(tau2), size)\n",
    "\n",
    "    return t1 + t2"
   ]
  },
  {
   "cell_type": "markdown",
   "id": "f3a54960",
   "metadata": {},
   "source": [
    "## Exercise: Distribution of no-hitters and cycles\n",
    "\n",
    " - Now, you'll use your sampling function to compute the waiting time to observe a no-hitter and hitting of the cycle. The mean waiting time for a no-hitter is 764 games, and the mean waiting time for hitting the cycle is 715 games."
   ]
  },
  {
   "cell_type": "code",
   "execution_count": 108,
   "id": "83113cee",
   "metadata": {},
   "outputs": [
    {
     "data": {
      "image/png": "[encoded data removed]",
      "text/plain": [
       "<Figure size 1080x360 with 1 Axes>"
      ]
     },
     "metadata": {},
     "output_type": "display_data"
    }
   ],
   "source": [
    "# Draw samples of waiting times: waiting_times\n",
    "waiting_times = successive_poisson(764, 715, 100_000)\n",
    "\n",
    "# Make the histogram\n",
    "plt.figure(figsize=(15, 5))\n",
    "plt.hist(waiting_times, bins=100, density=True, histtype='step')\n",
    "\n",
    "# Label axes\n",
    "plt.xlabel('time (games)')\n",
    "plt.ylabel('probability')\n",
    "\n",
    "# Show the plot\n",
    "plt.show()"
   ]
  },
  {
   "cell_type": "code",
   "execution_count": null,
   "id": "17353eea",
   "metadata": {},
   "outputs": [],
   "source": []
  }
 ],
 "metadata": {
  "kernelspec": {
   "display_name": "Python 3 (ipykernel)",
   "language": "python",
   "name": "python3"
  },
  "language_info": {
   "codemirror_mode": {
    "name": "ipython",
    "version": 3
   },
   "file_extension": ".py",
   "mimetype": "text/x-python",
   "name": "python",
   "nbconvert_exporter": "python",
   "pygments_lexer": "ipython3",
   "version": "3.8.12"
  }
 },
 "nbformat": 4,
 "nbformat_minor": 5
}
