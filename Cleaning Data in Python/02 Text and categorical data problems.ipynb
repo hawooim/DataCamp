{
 "cells": [
  {
   "cell_type": "code",
   "execution_count": 2,
   "id": "8ca30c5f",
   "metadata": {},
   "outputs": [
    {
     "data": {
      "text/html": [
       "<div>\n",
       "<style scoped>\n",
       "    .dataframe tbody tr th:only-of-type {\n",
       "        vertical-align: middle;\n",
       "    }\n",
       "\n",
       "    .dataframe tbody tr th {\n",
       "        vertical-align: top;\n",
       "    }\n",
       "\n",
       "    .dataframe thead th {\n",
       "        text-align: right;\n",
       "    }\n",
       "</style>\n",
       "<table border=\"1\" class=\"dataframe\">\n",
       "  <thead>\n",
       "    <tr style=\"text-align: right;\">\n",
       "      <th></th>\n",
       "      <th>id</th>\n",
       "      <th>day</th>\n",
       "      <th>airline</th>\n",
       "      <th>destination</th>\n",
       "      <th>dest_region</th>\n",
       "      <th>dest_size</th>\n",
       "      <th>boarding_area</th>\n",
       "      <th>dept_time</th>\n",
       "      <th>wait_min</th>\n",
       "      <th>cleanliness</th>\n",
       "      <th>safety</th>\n",
       "      <th>satisfaction</th>\n",
       "    </tr>\n",
       "  </thead>\n",
       "  <tbody>\n",
       "    <tr>\n",
       "      <th>0</th>\n",
       "      <td>1351</td>\n",
       "      <td>Tuesday</td>\n",
       "      <td>UNITED INTL</td>\n",
       "      <td>KANSAI</td>\n",
       "      <td>Asia</td>\n",
       "      <td>Hub</td>\n",
       "      <td>Gates 91-102</td>\n",
       "      <td>2018-12-31</td>\n",
       "      <td>115.0</td>\n",
       "      <td>Clean</td>\n",
       "      <td>Neutral</td>\n",
       "      <td>Very satisfied</td>\n",
       "    </tr>\n",
       "    <tr>\n",
       "      <th>1</th>\n",
       "      <td>373</td>\n",
       "      <td>Friday</td>\n",
       "      <td>ALASKA</td>\n",
       "      <td>SAN JOSE DEL CABO</td>\n",
       "      <td>Canada/Mexico</td>\n",
       "      <td>Small</td>\n",
       "      <td>Gates 50-59</td>\n",
       "      <td>2018-12-31</td>\n",
       "      <td>135.0</td>\n",
       "      <td>Clean</td>\n",
       "      <td>Very safe</td>\n",
       "      <td>Very satisfied</td>\n",
       "    </tr>\n",
       "    <tr>\n",
       "      <th>2</th>\n",
       "      <td>2820</td>\n",
       "      <td>Thursday</td>\n",
       "      <td>DELTA</td>\n",
       "      <td>LOS ANGELES</td>\n",
       "      <td>West US</td>\n",
       "      <td>Hub</td>\n",
       "      <td>Gates 40-48</td>\n",
       "      <td>2018-12-31</td>\n",
       "      <td>70.0</td>\n",
       "      <td>Average</td>\n",
       "      <td>Somewhat safe</td>\n",
       "      <td>Neutral</td>\n",
       "    </tr>\n",
       "    <tr>\n",
       "      <th>3</th>\n",
       "      <td>1157</td>\n",
       "      <td>Tuesday</td>\n",
       "      <td>SOUTHWEST</td>\n",
       "      <td>LOS ANGELES</td>\n",
       "      <td>West US</td>\n",
       "      <td>Hub</td>\n",
       "      <td>Gates 20-39</td>\n",
       "      <td>2018-12-31</td>\n",
       "      <td>190.0</td>\n",
       "      <td>Clean</td>\n",
       "      <td>Very safe</td>\n",
       "      <td>Somewhat satsified</td>\n",
       "    </tr>\n",
       "    <tr>\n",
       "      <th>4</th>\n",
       "      <td>2992</td>\n",
       "      <td>Wednesday</td>\n",
       "      <td>AMERICAN</td>\n",
       "      <td>MIAMI</td>\n",
       "      <td>East US</td>\n",
       "      <td>Hub</td>\n",
       "      <td>Gates 50-59</td>\n",
       "      <td>2018-12-31</td>\n",
       "      <td>559.0</td>\n",
       "      <td>Somewhat clean</td>\n",
       "      <td>Very safe</td>\n",
       "      <td>Somewhat satsified</td>\n",
       "    </tr>\n",
       "  </tbody>\n",
       "</table>\n",
       "</div>"
      ],
      "text/plain": [
       "     id        day      airline        destination    dest_region dest_size  \\\n",
       "0  1351    Tuesday  UNITED INTL             KANSAI           Asia       Hub   \n",
       "1   373     Friday       ALASKA  SAN JOSE DEL CABO  Canada/Mexico     Small   \n",
       "2  2820   Thursday        DELTA        LOS ANGELES        West US       Hub   \n",
       "3  1157    Tuesday    SOUTHWEST        LOS ANGELES        West US       Hub   \n",
       "4  2992  Wednesday     AMERICAN              MIAMI        East US       Hub   \n",
       "\n",
       "  boarding_area   dept_time  wait_min     cleanliness         safety  \\\n",
       "0  Gates 91-102  2018-12-31     115.0           Clean        Neutral   \n",
       "1   Gates 50-59  2018-12-31     135.0           Clean      Very safe   \n",
       "2   Gates 40-48  2018-12-31      70.0         Average  Somewhat safe   \n",
       "3   Gates 20-39  2018-12-31     190.0           Clean      Very safe   \n",
       "4   Gates 50-59  2018-12-31     559.0  Somewhat clean      Very safe   \n",
       "\n",
       "         satisfaction  \n",
       "0      Very satisfied  \n",
       "1      Very satisfied  \n",
       "2             Neutral  \n",
       "3  Somewhat satsified  \n",
       "4  Somewhat satsified  "
      ]
     },
     "execution_count": 2,
     "metadata": {},
     "output_type": "execute_result"
    }
   ],
   "source": [
    "import pandas as pd\n",
    "airlines = pd.read_csv('airlines_final.csv', index_col=0)\n",
    "airlines.head()"
   ]
  },
  {
   "cell_type": "markdown",
   "id": "99ef0734",
   "metadata": {},
   "source": [
    "## Finding consistency"
   ]
  },
  {
   "cell_type": "code",
   "execution_count": 10,
   "id": "9d526d99",
   "metadata": {},
   "outputs": [],
   "source": [
    "categories = ['Clean', 'Somewhat clean', 'Somewhat dirty', 'Dirty']"
   ]
  },
  {
   "cell_type": "code",
   "execution_count": 11,
   "id": "440aeef8",
   "metadata": {},
   "outputs": [
    {
     "data": {
      "text/plain": [
       "{'Average', 'Clean', 'Dirty', 'Somewhat clean', 'Somewhat dirty'}"
      ]
     },
     "execution_count": 11,
     "metadata": {},
     "output_type": "execute_result"
    }
   ],
   "source": [
    "set(airlines['cleanliness'])"
   ]
  },
  {
   "cell_type": "code",
   "execution_count": 13,
   "id": "c410c691",
   "metadata": {},
   "outputs": [
    {
     "name": "stdout",
     "output_type": "stream",
     "text": [
      "        id        day      airline   destination    dest_region   dest_size  \\\n",
      "2     2820   Thursday        DELTA   LOS ANGELES        West US         Hub   \n",
      "10    3028    Tuesday       UNITED      PORTLAND        West US      Medium   \n",
      "20     767   Thursday   AIR CANADA       TORONTO  Canada/Mexico         Hub   \n",
      "21    1214    Tuesday    SOUTHWEST     LAS VEGAS        West US         Hub   \n",
      "23    1263   Thursday  UNITED INTL  TOKYO-NARITA           Asia         Hub   \n",
      "...    ...        ...          ...           ...            ...         ...   \n",
      "2770  2827    Tuesday       UNITED       BURBANK        West US       Small   \n",
      "2784   366     Friday    LUFTHANSA     FRANKFURT         Europe         Hub   \n",
      "2785  1179   Thursday        DELTA  NEW YORK-JFK        East US         Hub   \n",
      "2792  2171  Wednesday     FRONTIER        DENVER        West US         Hub   \n",
      "2795   820     Sunday       ALASKA      PORTLAND        West US      Medium   \n",
      "\n",
      "     boarding_area   dept_time  wait_min cleanliness         safety  \\\n",
      "2      Gates 40-48  2018-12-31      70.0     Average  Somewhat safe   \n",
      "10     Gates 70-90  2018-12-31     180.0     Average      Very safe   \n",
      "20    Gates 91-102  2018-12-31     115.0     Average        Neutral   \n",
      "21     Gates 20-39  2018-12-31      60.0     Average  Somewhat safe   \n",
      "23    Gates 91-102  2018-12-31     210.0     Average        Neutral   \n",
      "...            ...         ...       ...         ...            ...   \n",
      "2770   Gates 70-90  2018-12-31      93.0     Average        Neutral   \n",
      "2784  Gates 91-102  2018-12-31     180.0     Average        Neutral   \n",
      "2785   Gates 40-48  2018-12-31     120.0     Average  Somewhat safe   \n",
      "2792   Gates 20-39  2018-12-31     108.0     Average      Very safe   \n",
      "2795   Gates 50-59  2018-12-31     170.0     Average        Neutral   \n",
      "\n",
      "              satisfaction  \n",
      "2                  Neutral  \n",
      "10                 Neutral  \n",
      "20      Somewhat satsified  \n",
      "21      Somewhat satsified  \n",
      "23                 Neutral  \n",
      "...                    ...  \n",
      "2770    Somewhat satsified  \n",
      "2784    Somewhat satsified  \n",
      "2785               Neutral  \n",
      "2792    Somewhat satsified  \n",
      "2795  Somewhat unsatisfied  \n",
      "\n",
      "[389 rows x 12 columns]\n",
      "        id        day        airline        destination    dest_region  \\\n",
      "0     1351    Tuesday    UNITED INTL             KANSAI           Asia   \n",
      "1      373     Friday         ALASKA  SAN JOSE DEL CABO  Canada/Mexico   \n",
      "3     1157    Tuesday      SOUTHWEST        LOS ANGELES        West US   \n",
      "4     2992  Wednesday       AMERICAN              MIAMI        East US   \n",
      "5      634   Thursday         ALASKA             NEWARK        East US   \n",
      "...    ...        ...            ...                ...            ...   \n",
      "2804  1475    Tuesday         ALASKA       NEW YORK-JFK        East US   \n",
      "2805  2222   Thursday      SOUTHWEST            PHOENIX        West US   \n",
      "2806  2684     Friday         UNITED            ORLANDO        East US   \n",
      "2807  2549    Tuesday        JETBLUE         LONG BEACH        West US   \n",
      "2808  2162   Saturday  CHINA EASTERN            QINGDAO           Asia   \n",
      "\n",
      "     dest_size boarding_area   dept_time  wait_min     cleanliness  \\\n",
      "0          Hub  Gates 91-102  2018-12-31     115.0           Clean   \n",
      "1        Small   Gates 50-59  2018-12-31     135.0           Clean   \n",
      "3          Hub   Gates 20-39  2018-12-31     190.0           Clean   \n",
      "4          Hub   Gates 50-59  2018-12-31     559.0  Somewhat clean   \n",
      "5          Hub   Gates 50-59  2018-12-31     140.0  Somewhat clean   \n",
      "...        ...           ...         ...       ...             ...   \n",
      "2804       Hub   Gates 50-59  2018-12-31     280.0  Somewhat clean   \n",
      "2805       Hub   Gates 20-39  2018-12-31     165.0           Clean   \n",
      "2806       Hub   Gates 70-90  2018-12-31      92.0           Clean   \n",
      "2807     Small    Gates 1-12  2018-12-31      95.0           Clean   \n",
      "2808     Large    Gates 1-12  2018-12-31     220.0           Clean   \n",
      "\n",
      "             safety        satisfaction  \n",
      "0           Neutral      Very satisfied  \n",
      "1         Very safe      Very satisfied  \n",
      "3         Very safe  Somewhat satsified  \n",
      "4         Very safe  Somewhat satsified  \n",
      "5         Very safe      Very satisfied  \n",
      "...             ...                 ...  \n",
      "2804        Neutral  Somewhat satsified  \n",
      "2805      Very safe      Very satisfied  \n",
      "2806      Very safe      Very satisfied  \n",
      "2807  Somewhat safe      Very satisfied  \n",
      "2808      Very safe  Somewhat satsified  \n",
      "\n",
      "[2088 rows x 12 columns]\n"
     ]
    }
   ],
   "source": [
    "# Find the cleanliness category in airlines not in categories\n",
    "cat_clean = set(airlines['cleanliness']).difference(categories)\n",
    "\n",
    "# Find rows with that category\n",
    "cat_clean_rows = airlines['cleanliness'].isin(cat_clean)\n",
    "\n",
    "# Print rows with inconsistent category\n",
    "print(airlines[cat_clean_rows])\n",
    "\n",
    "# Print rows with consistent categories only\n",
    "print(airlines[~cat_clean_rows])"
   ]
  },
  {
   "cell_type": "markdown",
   "id": "ecb09012",
   "metadata": {},
   "source": [
    "## Inconsistent categories"
   ]
  },
  {
   "cell_type": "code",
   "execution_count": 15,
   "id": "ec397668",
   "metadata": {},
   "outputs": [
    {
     "name": "stdout",
     "output_type": "stream",
     "text": [
      "['Asia' 'Canada/Mexico' 'West US' 'East US' 'Midwest US' 'EAST US'\n",
      " 'Middle East' 'Europe' 'eur' 'Central/South America'\n",
      " 'Australia/New Zealand' 'middle east']\n",
      "['Hub' 'Small' '    Hub' 'Medium' 'Large' 'Hub     ' '    Small'\n",
      " 'Medium     ' '    Medium' 'Small     ' '    Large' 'Large     ']\n",
      "['asia' 'canada/mexico' 'west us' 'east us' 'midwest us' 'middle east'\n",
      " 'europe' 'central/south america' 'australia/new zealand']\n",
      "['Hub' 'Small' 'Medium' 'Large']\n"
     ]
    }
   ],
   "source": [
    "# Print unique values of both columns\n",
    "print(airlines['dest_region'].unique())\n",
    "print(airlines['dest_size'].unique())\n",
    "\n",
    "# Lower dest_region column and then replace \"eur\" with \"europe\"\n",
    "airlines['dest_region'] = airlines['dest_region'].str.lower() \n",
    "airlines['dest_region'] = airlines['dest_region'].replace({'eur':'europe'})\n",
    "\n",
    "# Remove white spaces from `dest_size`\n",
    "airlines['dest_size'] = airlines['dest_size'].str.strip(' ')\n",
    "\n",
    "# Verify changes have been effected\n",
    "print(airlines['dest_region'].unique())\n",
    "print(airlines['dest_size'].unique())"
   ]
  },
  {
   "cell_type": "markdown",
   "id": "e029a3c8",
   "metadata": {},
   "source": [
    "## Remapping categories"
   ]
  },
  {
   "cell_type": "code",
   "execution_count": 17,
   "id": "553afbd2",
   "metadata": {},
   "outputs": [],
   "source": [
    "import numpy as np"
   ]
  },
  {
   "cell_type": "code",
   "execution_count": 18,
   "id": "63c35406",
   "metadata": {},
   "outputs": [],
   "source": [
    "# Create ranges for categories\n",
    "label_ranges = [0, 60, 180, np.inf]\n",
    "label_names = ['short', 'medium', 'long']\n",
    "\n",
    "# Create wait_type column\n",
    "airlines['wait_type'] = pd.cut(airlines['wait_min'], bins = label_ranges, \n",
    "                                labels = label_names)\n",
    "\n",
    "# Create mappings and replace\n",
    "mappings = {'Monday':'weekday', 'Tuesday':'weekday', 'Wednesday': 'weekday', \n",
    "            'Thursday': 'weekday', 'Friday': 'weekday', \n",
    "            'Saturday': 'weekend', 'Sunday': 'weekend'}\n",
    "\n",
    "airlines['day_week'] = airlines['day'].replace(mappings)"
   ]
  },
  {
   "cell_type": "markdown",
   "id": "4e416a16",
   "metadata": {},
   "source": [
    "## Removing titles and taking names"
   ]
  },
  {
   "cell_type": "code",
   "execution_count": null,
   "id": "7ade2ac6",
   "metadata": {},
   "outputs": [],
   "source": [
    "# Replace \"Dr.\" with empty string \"\"\n",
    "airlines['full_name'] = airlines['full_name'].str.replace(\"Dr.\",\"\")\n",
    "\n",
    "# Replace \"Mr.\" with empty string \"\"\n",
    "airlines['full_name'] = airlines['full_name'].str.replace(\"Mr.\",\"\")\n",
    "\n",
    "# Replace \"Miss\" with empty string \"\"\n",
    "airlines['full_name'] = airlines['full_name'].str.replace(\"Miss\",\"\")\n",
    "\n",
    "# Replace \"Ms.\" with empty string \"\"\n",
    "airlines['full_name'] = airlines['full_name'].str.replace(\"Ms.\",\"\")\n",
    "\n",
    "# Assert that full_name has no honorifics\n",
    "assert airlines['full_name'].str.contains('Ms.|Mr.|Miss|Dr.').any() == False"
   ]
  },
  {
   "cell_type": "markdown",
   "id": "18a17dcd",
   "metadata": {},
   "source": [
    "## Keeping it descriptive"
   ]
  },
  {
   "cell_type": "code",
   "execution_count": null,
   "id": "2a95e627",
   "metadata": {},
   "outputs": [],
   "source": [
    "# Store length of each row in survey_response column\n",
    "resp_length = airlines['survey_response'].str.len()\n",
    "\n",
    "# Find rows in airlines where resp_length > 40\n",
    "airlines_survey = airlines[resp_length > 40]\n",
    "\n",
    "# Assert minimum survey_response length is > 40\n",
    "assert airlines_survey['survey_response'].str.len().min() > 40\n",
    "\n",
    "# Print new survey_response column\n",
    "print(airlines_survey['survey_response'])"
   ]
  }
 ],
 "metadata": {
  "kernelspec": {
   "display_name": "Python 3 (ipykernel)",
   "language": "python",
   "name": "python3"
  },
  "language_info": {
   "codemirror_mode": {
    "name": "ipython",
    "version": 3
   },
   "file_extension": ".py",
   "mimetype": "text/x-python",
   "name": "python",
   "nbconvert_exporter": "python",
   "pygments_lexer": "ipython3",
   "version": "3.8.12"
  }
 },
 "nbformat": 4,
 "nbformat_minor": 5
}
