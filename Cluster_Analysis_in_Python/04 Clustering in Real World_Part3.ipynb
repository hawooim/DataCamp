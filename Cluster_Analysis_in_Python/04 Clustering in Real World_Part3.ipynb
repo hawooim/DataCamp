{
 "cells": [
  {
   "cell_type": "code",
   "execution_count": 1,
   "id": "c7dec15e",
   "metadata": {},
   "outputs": [],
   "source": [
    "import pandas as pd\n",
    "import numpy as np\n",
    "import matplotlib.pyplot as plt\n",
    "import seaborn as sns"
   ]
  },
  {
   "cell_type": "markdown",
   "id": "9a623209",
   "metadata": {},
   "source": [
    "### Exercise: Basic checks on clusters\n",
    "In the FIFA 18 dataset, we have concentrated on defenders in previous exercises. Let us try to focus on attacking attributes of a player. Pace (pac), Dribbling (dri) and Shooting (sho) are features that are present in attack minded players. In this exercise, k-means clustering has already been applied on the data using the scaled values of these three attributes. Try some basic checks on the clusters so formed.\n",
    "\n",
    "The data is stored in a pandas DataFrame, fifa. The scaled column names are present in a list scaled_features. The cluster labels are stored in the cluster_labels column. Recall the .count() and .mean() methods in pandas help you find the number of observations and mean of observations in a DataFrame."
   ]
  },
  {
   "cell_type": "code",
   "execution_count": 2,
   "id": "fed50933",
   "metadata": {},
   "outputs": [],
   "source": [
    "from scipy.cluster.vq import whiten\n",
    "fifa = pd.read_csv('fifa_18_sample_data.csv')\n",
    "fifa['scaled_pac'] = whiten(fifa['pac'])\n",
    "fifa['scaled_dri'] = whiten(fifa['dri'])\n",
    "fifa['scaled_sho'] = whiten(fifa['sho'])"
   ]
  },
  {
   "cell_type": "code",
   "execution_count": 3,
   "id": "69f43783",
   "metadata": {},
   "outputs": [],
   "source": [
    "import random\n",
    "from scipy.cluster.vq import kmeans, vq\n",
    "\n",
    "random.seed(1)\n",
    "\n",
    "# Fit the data into a k-means algorithm\n",
    "cluster_centers,_ = kmeans(fifa[['scaled_pac', 'scaled_pac', 'scaled_sho']], 3)\n",
    "\n",
    "# Assign cluster labels\n",
    "fifa['cluster_labels'], _ = vq(fifa[['scaled_pac', 'scaled_pac', 'scaled_sho']], cluster_centers)"
   ]
  },
  {
   "cell_type": "code",
   "execution_count": 4,
   "id": "3eebbbf2",
   "metadata": {},
   "outputs": [
    {
     "name": "stdout",
     "output_type": "stream",
     "text": [
      "cluster_labels\n",
      "0    219\n",
      "1    439\n",
      "2    342\n",
      "Name: ID, dtype: int64\n",
      "cluster_labels\n",
      "0    61292.237443\n",
      "1    74100.227790\n",
      "2    68652.046784\n",
      "Name: eur_wage, dtype: float64\n"
     ]
    }
   ],
   "source": [
    "# Print the size of the clusters\n",
    "print(fifa.groupby('cluster_labels')['ID'].count())\n",
    "\n",
    "# Print the mean value of wages in each cluster\n",
    "print(fifa.groupby('cluster_labels')['eur_wage'].mean())"
   ]
  },
  {
   "cell_type": "markdown",
   "id": "f3fc9946",
   "metadata": {},
   "source": [
    "You are correct! In this example, the cluster sizes are not very different, and there are no significant differences that can be seen in the wages. Further analysis is required to validate these clusters."
   ]
  },
  {
   "cell_type": "markdown",
   "id": "e7945ac5",
   "metadata": {},
   "source": [
    "### Exercise: FIFA 18: what makes a complete player?\n",
    "The overall level of a player in FIFA 18 is defined by six characteristics: pace (pac), shooting (sho), passing (pas), dribbling (dri), defending (def), physical (phy).\n",
    "\n",
    "Here is a sample card:\n",
    "\n",
    "Eden Hazard Player Card\n",
    "\n",
    "In this exercise, you will use all six characteristics to create clusters. The data for this exercise is stored in a pandas DataFrame, fifa. features is the list of these column names and scaled_features is the list of columns which contains their scaled values. The following have been pre-loaded: kmeans, vq from scipy.cluster.vq, matplotlib.pyplot as plt, seaborn as sns.\n",
    "\n",
    "Before you start the exercise, you may wish to explore scaled_features in the IPython Shell to check out the list of six scaled columns names."
   ]
  },
  {
   "cell_type": "code",
   "execution_count": 5,
   "id": "a286998f",
   "metadata": {},
   "outputs": [],
   "source": [
    "from scipy.cluster.vq import whiten\n",
    "fifa = pd.read_csv('fifa_18_sample_data.csv')\n",
    "fifa['scaled_pac'] = whiten(fifa['pac'])\n",
    "fifa['scaled_sho'] = whiten(fifa['sho'])\n",
    "fifa['scaled_pas'] = whiten(fifa['pas'])\n",
    "fifa['scaled_dri'] = whiten(fifa['dri'])\n",
    "fifa['scaled_def'] = whiten(fifa['def'])\n",
    "fifa['scaled_phy'] = whiten(fifa['phy'])"
   ]
  },
  {
   "cell_type": "code",
   "execution_count": 6,
   "id": "222e9d06",
   "metadata": {},
   "outputs": [],
   "source": [
    "scaled_features = ['scaled_pac', 'scaled_sho', 'scaled_pas', 'scaled_dri', 'scaled_def', 'scaled_phy']"
   ]
  },
  {
   "cell_type": "code",
   "execution_count": 7,
   "id": "edd13998",
   "metadata": {},
   "outputs": [
    {
     "name": "stdout",
     "output_type": "stream",
     "text": [
      "                scaled_pac  scaled_sho  scaled_pas  scaled_dri  scaled_def  \\\n",
      "cluster_labels                                                               \n",
      "0                 5.461627    3.673869    7.180554    6.775813    3.966748   \n",
      "1                 6.684477    5.433653    8.456695    8.516572    2.496427   \n",
      "\n",
      "                scaled_phy  \n",
      "cluster_labels              \n",
      "0                 9.206925  \n",
      "1                 8.332794  \n"
     ]
    },
    {
     "data": {
      "image/png": "[encoded data removed]",
      "text/plain": [
       "<Figure size 432x288 with 1 Axes>"
      ]
     },
     "metadata": {
      "needs_background": "light"
     },
     "output_type": "display_data"
    },
    {
     "name": "stdout",
     "output_type": "stream",
     "text": [
      "1 ['Cristiano Ronaldo' 'L. Messi' 'Neymar' 'L. Suárez' 'M. Neuer']\n",
      "0 ['Sergio Ramos' 'G. Chiellini' 'L. Bonucci' 'J. Boateng' 'D. Godín']\n"
     ]
    }
   ],
   "source": [
    "# Create centroids with kmeans for 2 clusters\n",
    "cluster_centers,_ = kmeans(fifa[scaled_features], 2)\n",
    "\n",
    "# Assign cluster labels and print cluster centers\n",
    "fifa['cluster_labels'], _ = vq(fifa[scaled_features], cluster_centers)\n",
    "print(fifa.groupby('cluster_labels')[scaled_features].mean())\n",
    "\n",
    "# Plot cluster centers to visualize clusters\n",
    "fifa.groupby('cluster_labels')[scaled_features].mean().plot(legend=True, kind='bar')\n",
    "plt.show()\n",
    "\n",
    "# Get the name column of first 5 players in each cluster\n",
    "for cluster in fifa['cluster_labels'].unique():\n",
    "    print(cluster, fifa[fifa['cluster_labels'] == cluster]['name'].values[:5])"
   ]
  },
  {
   "cell_type": "markdown",
   "id": "cf354b90",
   "metadata": {},
   "source": [
    "That is correct! The data was sorted before you performed the clustering. Notice the top players in each cluster are representative of the overall characteristics of the cluster - one of the clusters primarily represents attackers, whereas the other represents defenders. Surprisingly, a top goalkeeper Manuel Neuer is seen in the attackers group, but he is known for going out of the box and participating in open play, which are reflected in his FIFA 18 attributes."
   ]
  },
  {
   "cell_type": "code",
   "execution_count": null,
   "id": "f7ec5bd8",
   "metadata": {},
   "outputs": [],
   "source": []
  }
 ],
 "metadata": {
  "kernelspec": {
   "display_name": "Python 3 (ipykernel)",
   "language": "python",
   "name": "python3"
  },
  "language_info": {
   "codemirror_mode": {
    "name": "ipython",
    "version": 3
   },
   "file_extension": ".py",
   "mimetype": "text/x-python",
   "name": "python",
   "nbconvert_exporter": "python",
   "pygments_lexer": "ipython3",
   "version": "3.8.12"
  }
 },
 "nbformat": 4,
 "nbformat_minor": 5
}
