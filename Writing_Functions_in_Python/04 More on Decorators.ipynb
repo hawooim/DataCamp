{
 "cells": [
  {
   "cell_type": "markdown",
   "id": "c2c03457",
   "metadata": {},
   "source": [
    "# Real-world examples"
   ]
  },
  {
   "cell_type": "markdown",
   "id": "7c4dd62e",
   "metadata": {},
   "source": [
    "## Time a function"
   ]
  },
  {
   "cell_type": "code",
   "execution_count": 1,
   "id": "6d37681b",
   "metadata": {},
   "outputs": [],
   "source": [
    "import time\n",
    "\n",
    "def timer(func):\n",
    "    \"\"\"A decorator that prints how long a function took to run.\n",
    "    \n",
    "    Args:\n",
    "        func (callable): the function being decorated.\n",
    "        \n",
    "    Returns:\n",
    "        callable: the decorated function.\n",
    "    \"\"\"\n",
    "    \n",
    "    def wrapper(*args, **kwargs):\n",
    "        # When wrapper() is called, get the current time.\n",
    "        t_start = time.time()\n",
    "        # Call the decoratd function and store the result.\n",
    "        result = func(*args, **kwargs)\n",
    "        # Get the total time it took to run, and print it.\n",
    "        t_total = time.time() - t_start\n",
    "        print('{} took {}s'.format(func.__name__, t_total))\n",
    "        return result\n",
    "    return wrapper"
   ]
  },
  {
   "cell_type": "markdown",
   "id": "91d72a47",
   "metadata": {},
   "source": [
    "## Using timer()"
   ]
  },
  {
   "cell_type": "code",
   "execution_count": 2,
   "id": "21e84ece",
   "metadata": {},
   "outputs": [],
   "source": [
    "@timer\n",
    "def sleep_n_seconds(n):\n",
    "    time.sleep(n)"
   ]
  },
  {
   "cell_type": "code",
   "execution_count": 3,
   "id": "bb125caa",
   "metadata": {},
   "outputs": [
    {
     "name": "stdout",
     "output_type": "stream",
     "text": [
      "sleep_n_seconds took 5.004216194152832s\n"
     ]
    }
   ],
   "source": [
    "sleep_n_seconds(5)"
   ]
  },
  {
   "cell_type": "code",
   "execution_count": 4,
   "id": "85b8e850",
   "metadata": {},
   "outputs": [
    {
     "name": "stdout",
     "output_type": "stream",
     "text": [
      "sleep_n_seconds took 10.00743317604065s\n"
     ]
    }
   ],
   "source": [
    "sleep_n_seconds(10)"
   ]
  },
  {
   "cell_type": "markdown",
   "id": "4f2072a8",
   "metadata": {},
   "source": [
    "## Memorise the results of a function"
   ]
  },
  {
   "cell_type": "code",
   "execution_count": 52,
   "id": "504c4675",
   "metadata": {},
   "outputs": [],
   "source": [
    "def memorize(func):\n",
    "    \"\"\"Store the results of the decorated function for fast lookup\n",
    "    \"\"\"\n",
    "    # Store results in a dict that maps arguments to results\n",
    "    cache = {}\n",
    "    # Define the wrapper function to return\n",
    "    def wrapper(*args, **kwargs):\n",
    "        # If these arguments haven't been seen before,\n",
    "        if (args, tuple(kwargs.items())) not in cache:\n",
    "            # Call func() and store the result.\n",
    "            cache[(args, tuple(kwargs.items()))] = func(*args, **kwargs)\n",
    "        return cache[(args, tuple(kwargs.items()))]\n",
    "    return wrapper"
   ]
  },
  {
   "cell_type": "code",
   "execution_count": 53,
   "id": "138077a6",
   "metadata": {},
   "outputs": [],
   "source": [
    "@memorize\n",
    "def slow_function(a, b):\n",
    "    print('Sleeping...')\n",
    "    time.sleep(5)\n",
    "    return a + b"
   ]
  },
  {
   "cell_type": "code",
   "execution_count": 54,
   "id": "51ede439",
   "metadata": {},
   "outputs": [
    {
     "name": "stdout",
     "output_type": "stream",
     "text": [
      "Sleeping...\n"
     ]
    },
    {
     "data": {
      "text/plain": [
       "7"
      ]
     },
     "execution_count": 54,
     "metadata": {},
     "output_type": "execute_result"
    }
   ],
   "source": [
    "slow_function(3, 4)"
   ]
  },
  {
   "cell_type": "code",
   "execution_count": 55,
   "id": "44055c6d",
   "metadata": {},
   "outputs": [
    {
     "data": {
      "text/plain": [
       "7"
      ]
     },
     "execution_count": 55,
     "metadata": {},
     "output_type": "execute_result"
    }
   ],
   "source": [
    "slow_function(3, 4)"
   ]
  },
  {
   "cell_type": "markdown",
   "id": "0d9b3d42",
   "metadata": {},
   "source": [
    "## Exercise: Print the return type"
   ]
  },
  {
   "cell_type": "code",
   "execution_count": 27,
   "id": "9fb2b03c",
   "metadata": {},
   "outputs": [
    {
     "name": "stdout",
     "output_type": "stream",
     "text": [
      "foo() returned type <class 'int'>\n",
      "42\n",
      "foo() returned type <class 'list'>\n",
      "[1, 2, 3]\n",
      "foo() returned type <class 'dict'>\n",
      "{'a': 42}\n"
     ]
    }
   ],
   "source": [
    "def print_return_type(func):\n",
    "    # Define wrapper(), the decorated function\n",
    "    def wrapper(*args, **kwargs):\n",
    "        # Call the function being decorated\n",
    "        result = func(*args, **kwargs)\n",
    "        print('{}() returned type {}'.format(\n",
    "            func.__name__, type(result)\n",
    "        ))\n",
    "        return result\n",
    "    # Return the decorated function\n",
    "    return wrapper\n",
    "    \n",
    "@print_return_type\n",
    "def foo(value):\n",
    "    return value\n",
    "    \n",
    "print(foo(42))\n",
    "print(foo([1, 2, 3]))\n",
    "print(foo({'a': 42}))"
   ]
  },
  {
   "cell_type": "markdown",
   "id": "a98166c5",
   "metadata": {},
   "source": [
    "## Exercise: Counter"
   ]
  },
  {
   "cell_type": "code",
   "execution_count": 28,
   "id": "7d0e5d8d",
   "metadata": {},
   "outputs": [
    {
     "name": "stdout",
     "output_type": "stream",
     "text": [
      "calling foo()\n",
      "calling foo()\n",
      "foo() was called 2 times.\n"
     ]
    }
   ],
   "source": [
    "def counter(func):\n",
    "    def wrapper(*args, **kwargs):\n",
    "        wrapper.count += 1\n",
    "        # Call the function being decorated and return the result\n",
    "        return func(*args, **kwargs)\n",
    "    wrapper.count = 0\n",
    "    # Return the new decorated function\n",
    "    return wrapper\n",
    "\n",
    "# Decorate foo() with the counter() decorator\n",
    "@counter\n",
    "def foo():\n",
    "    print('calling foo()')\n",
    "    \n",
    "foo()\n",
    "foo()\n",
    "\n",
    "print('foo() was called {} times.'.format(foo.count))"
   ]
  },
  {
   "cell_type": "markdown",
   "id": "b65965ac",
   "metadata": {},
   "source": [
    "# Decorators and metadata"
   ]
  },
  {
   "cell_type": "markdown",
   "id": "d484bcad",
   "metadata": {},
   "source": [
    "## Getting metadata"
   ]
  },
  {
   "cell_type": "code",
   "execution_count": 77,
   "id": "fc0c8dc0",
   "metadata": {},
   "outputs": [
    {
     "name": "stdout",
     "output_type": "stream",
     "text": [
      "Pause processing for n seconds.\n",
      "    \n",
      "    Args:\n",
      "        n (int): The number of seconds to pause for.\n",
      "    \n"
     ]
    }
   ],
   "source": [
    "def sleep_n_seconds(n=10):\n",
    "    \"\"\"Pause processing for n seconds.\n",
    "    \n",
    "    Args:\n",
    "        n (int): The number of seconds to pause for.\n",
    "    \"\"\"\n",
    "    time.sleep(n)\n",
    "\n",
    "print(sleep_n_seconds.__doc__)"
   ]
  },
  {
   "cell_type": "code",
   "execution_count": 78,
   "id": "7f8d959d",
   "metadata": {},
   "outputs": [
    {
     "name": "stdout",
     "output_type": "stream",
     "text": [
      "sleep_n_seconds\n"
     ]
    }
   ],
   "source": [
    "print(sleep_n_seconds.__name__)"
   ]
  },
  {
   "cell_type": "code",
   "execution_count": 79,
   "id": "49addd2d",
   "metadata": {},
   "outputs": [
    {
     "name": "stdout",
     "output_type": "stream",
     "text": [
      "(10,)\n"
     ]
    }
   ],
   "source": [
    "print(sleep_n_seconds.__defaults__)"
   ]
  },
  {
   "cell_type": "markdown",
   "id": "351b1213",
   "metadata": {},
   "source": [
    "## Getting metadata after decorator"
   ]
  },
  {
   "cell_type": "code",
   "execution_count": 80,
   "id": "03b58efe",
   "metadata": {},
   "outputs": [
    {
     "name": "stdout",
     "output_type": "stream",
     "text": [
      "Pause processing for n seconds.\n",
      "    \n",
      "    Args:\n",
      "        n (int): The number of seconds to pause for.\n",
      "    \n"
     ]
    }
   ],
   "source": [
    "@timer\n",
    "def sleep_n_seconds(n=10):\n",
    "    \"\"\"Pause processing for n seconds.\n",
    "    \n",
    "    Args:\n",
    "        n (int): The number of seconds to pause for.\n",
    "    \"\"\"\n",
    "    time.sleep(n)\n",
    "\n",
    "print(sleep_n_seconds.__doc__)"
   ]
  },
  {
   "cell_type": "code",
   "execution_count": 81,
   "id": "de168b06",
   "metadata": {},
   "outputs": [
    {
     "name": "stdout",
     "output_type": "stream",
     "text": [
      "sleep_n_seconds\n"
     ]
    }
   ],
   "source": [
    "print(sleep_n_seconds.__name__)"
   ]
  },
  {
   "cell_type": "code",
   "execution_count": 82,
   "id": "33e0b95c",
   "metadata": {},
   "outputs": [
    {
     "name": "stdout",
     "output_type": "stream",
     "text": [
      "None\n"
     ]
    }
   ],
   "source": [
    "print(sleep_n_seconds.__defaults__)"
   ]
  },
  {
   "cell_type": "markdown",
   "id": "829802cd",
   "metadata": {},
   "source": [
    "## The timer decorator"
   ]
  },
  {
   "cell_type": "code",
   "execution_count": 83,
   "id": "24653ec6",
   "metadata": {},
   "outputs": [],
   "source": [
    "import time\n",
    "\n",
    "def timer(func):\n",
    "    \"\"\"A decorator that prints how long a function took to run.\n",
    "    \n",
    "    Args:\n",
    "        func (callable): the function being decorated.\n",
    "        \n",
    "    Returns:\n",
    "        callable: the decorated function.\n",
    "    \"\"\"\n",
    "    \n",
    "    def wrapper(*args, **kwargs):\n",
    "        # When wrapper() is called, get the current time.\n",
    "        t_start = time.time()\n",
    "        # Call the decoratd function and store the result.\n",
    "        result = func(*args, **kwargs)\n",
    "        # Get the total time it took to run, and print it.\n",
    "        t_total = time.time() - t_start\n",
    "        print('{} took {}s'.format(func.__name__, t_total))\n",
    "        return result\n",
    "    return wrapper"
   ]
  },
  {
   "cell_type": "markdown",
   "id": "1e55c9e2",
   "metadata": {},
   "source": [
    "## from functools import wraps"
   ]
  },
  {
   "cell_type": "code",
   "execution_count": 84,
   "id": "74bfd4f9",
   "metadata": {},
   "outputs": [],
   "source": [
    "from functools import wraps\n",
    "\n",
    "def timer(func):\n",
    "    \"\"\"A decorator that prints how long a function took to run.\n",
    "    \n",
    "    Args:\n",
    "        func (callable): the function being decorated.\n",
    "        \n",
    "    Returns:\n",
    "        callable: the decorated function.\n",
    "    \"\"\"\n",
    "    \n",
    "    @wraps(func)\n",
    "    def wrapper(*args, **kwargs):\n",
    "        # When wrapper() is called, get the current time.\n",
    "        t_start = time.time()\n",
    "        # Call the decoratd function and store the result.\n",
    "        result = func(*args, **kwargs)\n",
    "        # Get the total time it took to run, and print it.\n",
    "        t_total = time.time() - t_start\n",
    "        print('{} took {}s'.format(func.__name__, t_total))\n",
    "        return result\n",
    "    return wrapper"
   ]
  },
  {
   "cell_type": "code",
   "execution_count": 85,
   "id": "3944661e",
   "metadata": {},
   "outputs": [
    {
     "name": "stdout",
     "output_type": "stream",
     "text": [
      "Pause processing for n seconds.\n",
      "    \n",
      "    Args:\n",
      "        n (int): The number of seconds to pause for.\n",
      "    \n"
     ]
    }
   ],
   "source": [
    "@timer\n",
    "def sleep_n_seconds(n=10):\n",
    "    \"\"\"Pause processing for n seconds.\n",
    "    \n",
    "    Args:\n",
    "        n (int): The number of seconds to pause for.\n",
    "    \"\"\"\n",
    "    time.sleep(n)\n",
    "\n",
    "print(sleep_n_seconds.__doc__)"
   ]
  },
  {
   "cell_type": "code",
   "execution_count": 86,
   "id": "5ddb4a07",
   "metadata": {},
   "outputs": [
    {
     "name": "stdout",
     "output_type": "stream",
     "text": [
      "sleep_n_seconds\n"
     ]
    }
   ],
   "source": [
    "print(sleep_n_seconds.__name__)"
   ]
  },
  {
   "cell_type": "code",
   "execution_count": 87,
   "id": "50ad0e9b",
   "metadata": {},
   "outputs": [
    {
     "name": "stdout",
     "output_type": "stream",
     "text": [
      "None\n"
     ]
    }
   ],
   "source": [
    "print(sleep_n_seconds.__defaults__)"
   ]
  },
  {
   "cell_type": "markdown",
   "id": "00520b51",
   "metadata": {},
   "source": [
    "## Access to the original function"
   ]
  },
  {
   "cell_type": "code",
   "execution_count": 88,
   "id": "cd2ffdd4",
   "metadata": {},
   "outputs": [
    {
     "data": {
      "text/plain": [
       "<function __main__.sleep_n_seconds(n=10)>"
      ]
     },
     "execution_count": 88,
     "metadata": {},
     "output_type": "execute_result"
    }
   ],
   "source": [
    "@timer\n",
    "def sleep_n_seconds(n=10):\n",
    "    \"\"\"Pause processing for n seconds.\n",
    "    \n",
    "    Args:\n",
    "        n (int): The number of seconds to pause for.\n",
    "    \"\"\"\n",
    "    time.sleep(n)\n",
    "\n",
    "sleep_n_seconds.__wrapped__"
   ]
  },
  {
   "cell_type": "markdown",
   "id": "88dce393",
   "metadata": {},
   "source": [
    "## Exercise: Preserving docstrings when decorating functions"
   ]
  },
  {
   "cell_type": "code",
   "execution_count": 89,
   "id": "3cf3d8d5",
   "metadata": {},
   "outputs": [
    {
     "name": "stdout",
     "output_type": "stream",
     "text": [
      "Hello\n",
      "30\n",
      "None\n"
     ]
    }
   ],
   "source": [
    "def add_hello(func):\n",
    "    def wrapper(*args, **kwargs):\n",
    "        print('Hello')\n",
    "        return func(*args, **kwargs)\n",
    "    return wrapper\n",
    "\n",
    "# Decorate print_sum() with the add_hello() decorator\n",
    "@add_hello\n",
    "def print_sum(a, b):\n",
    "    \"\"\"Adds two numbers and prints the sum\"\"\"\n",
    "    print(a + b)\n",
    "    \n",
    "print_sum(10, 20)\n",
    "print_sum_docstring = print_sum.__doc__\n",
    "print(print_sum_docstring)"
   ]
  },
  {
   "cell_type": "code",
   "execution_count": 91,
   "id": "deabe60b",
   "metadata": {},
   "outputs": [
    {
     "name": "stdout",
     "output_type": "stream",
     "text": [
      "Hello\n",
      "30\n",
      "Print 'hello' and then call the decorated function.\n",
      "        \n"
     ]
    }
   ],
   "source": [
    "def add_hello(func):\n",
    "    # Add a docstring to wrapper\n",
    "    def wrapper(*args, **kwargs):\n",
    "        \"\"\"Print 'hello' and then call the decorated function.\n",
    "        \"\"\"\n",
    "        print('Hello')\n",
    "        return func(*args, **kwargs)\n",
    "    return wrapper\n",
    "\n",
    "@add_hello\n",
    "def print_sum(a, b):\n",
    "    \"\"\"Adds two numbers and prints the sum\"\"\"\n",
    "    print(a + b)\n",
    "    \n",
    "print_sum(10, 20)\n",
    "print_sum_docstring = print_sum.__doc__\n",
    "print(print_sum_docstring)"
   ]
  },
  {
   "cell_type": "code",
   "execution_count": 92,
   "id": "1ff87205",
   "metadata": {},
   "outputs": [
    {
     "name": "stdout",
     "output_type": "stream",
     "text": [
      "Hello\n",
      "30\n",
      "Adds two numbers and prints the sum\n"
     ]
    }
   ],
   "source": [
    "# Import the function you need to fix the problem\n",
    "from functools import wraps\n",
    "\n",
    "def add_hello(func):\n",
    "    @wraps(func)\n",
    "    def wrapper(*args, **kwargs):\n",
    "        \"\"\"Print 'hello' and then call the decorated function.\"\"\"\n",
    "        print('Hello')\n",
    "        return func(*args, **kwargs)\n",
    "    return wrapper\n",
    "    \n",
    "@add_hello\n",
    "def print_sum(a, b):\n",
    "    \"\"\"Adds two numbers and prints the sum\"\"\"\n",
    "    print(a + b)\n",
    "    \n",
    "print_sum(10, 20)\n",
    "print_sum_docstring = print_sum.__doc__\n",
    "print(print_sum_docstring)"
   ]
  },
  {
   "cell_type": "markdown",
   "id": "c0cd2ec4",
   "metadata": {},
   "source": [
    "## Exercise: Measuring decorator overhead"
   ]
  },
  {
   "cell_type": "code",
   "execution_count": 99,
   "id": "36c3a455",
   "metadata": {},
   "outputs": [],
   "source": [
    "def check_inputs(a, *args, **kwargs):\n",
    "    for value in a:\n",
    "        time.sleep(0.01)"
   ]
  },
  {
   "cell_type": "code",
   "execution_count": 100,
   "id": "37f45dd0",
   "metadata": {},
   "outputs": [],
   "source": [
    "def check_outputs(a, *args, **kwargs):\n",
    "    for value in a:\n",
    "        time.sleep(0.01)"
   ]
  },
  {
   "cell_type": "code",
   "execution_count": 101,
   "id": "e3128d40",
   "metadata": {},
   "outputs": [],
   "source": [
    "def check_everything(func):\n",
    "    @wraps(func)\n",
    "    def wrapper(*args, **kwargs):\n",
    "        check_inputs(*args, **kwargs)\n",
    "        result = func(*args, **kwargs)\n",
    "        check_outputs(result)\n",
    "        return result\n",
    "    return wrapper"
   ]
  },
  {
   "cell_type": "code",
   "execution_count": 102,
   "id": "8a987d93",
   "metadata": {
    "scrolled": false
   },
   "outputs": [
    {
     "name": "stdout",
     "output_type": "stream",
     "text": [
      "Decorated time: 2.52685s\n",
      "Undecorated time: 0.00000s\n"
     ]
    }
   ],
   "source": [
    "@check_everything\n",
    "def duplicate(my_list):\n",
    "    \"\"\"Return a new list that repeats the input twice\"\"\"\n",
    "    return my_list + my_list\n",
    "\n",
    "t_start = time.time()\n",
    "duplicated_list = duplicate(list(range(50)))\n",
    "t_end = time.time()\n",
    "decorated_time = t_end - t_start\n",
    "\n",
    "t_start = time.time()\n",
    "# Call the original function instead of the decorated one\n",
    "duplicated_list = duplicate.__wrapped__(list(range(50)))\n",
    "t_end = time.time()\n",
    "undecorated_time = t_end - t_start\n",
    "\n",
    "print('Decorated time: {:.5f}s'.format(decorated_time))\n",
    "print('Undecorated time: {:.5f}s'.format(undecorated_time))"
   ]
  },
  {
   "cell_type": "markdown",
   "id": "29d2d21a",
   "metadata": {},
   "source": [
    "# Decorators that take arguments"
   ]
  },
  {
   "cell_type": "markdown",
   "id": "02e92ddd",
   "metadata": {},
   "source": [
    "## run_n_times()"
   ]
  },
  {
   "cell_type": "code",
   "execution_count": 103,
   "id": "7d5823b8",
   "metadata": {},
   "outputs": [],
   "source": [
    "def run_n_times(n):\n",
    "    \"\"\"Define and return a decorator\n",
    "    \"\"\"\n",
    "    def decorator(func):\n",
    "        def wrapper(*args, **kwargs):\n",
    "            for i in range(n):\n",
    "                func(*args, **kwargs)\n",
    "        return wrapper\n",
    "    return decorator\n",
    "\n",
    "@run_n_times(3)\n",
    "def print_sum(a, b):\n",
    "    print(a + b)"
   ]
  },
  {
   "cell_type": "code",
   "execution_count": 104,
   "id": "8d6beace",
   "metadata": {},
   "outputs": [
    {
     "name": "stdout",
     "output_type": "stream",
     "text": [
      "8\n",
      "8\n",
      "8\n"
     ]
    }
   ],
   "source": [
    "print_sum(3, 5)"
   ]
  },
  {
   "cell_type": "code",
   "execution_count": 106,
   "id": "abb2b284",
   "metadata": {},
   "outputs": [
    {
     "name": "stdout",
     "output_type": "stream",
     "text": [
      "hello\n",
      "hello\n",
      "hello\n",
      "hello\n",
      "hello\n"
     ]
    }
   ],
   "source": [
    "@run_n_times(5)\n",
    "def print_hello():\n",
    "    print('hello')\n",
    "print_hello()"
   ]
  },
  {
   "cell_type": "markdown",
   "id": "77b8a266",
   "metadata": {},
   "source": [
    "## Exercise: HTML Generator"
   ]
  },
  {
   "cell_type": "code",
   "execution_count": 108,
   "id": "c14ca212",
   "metadata": {},
   "outputs": [],
   "source": [
    "def bold(func):\n",
    "    @wraps(func)\n",
    "    def wrapper(*args, **kwargs):\n",
    "        msg = func(*args, **kwargs)\n",
    "        return '<b>{}</b>'.format(msg)\n",
    "    return wrapper"
   ]
  },
  {
   "cell_type": "code",
   "execution_count": 109,
   "id": "0c24e4a4",
   "metadata": {},
   "outputs": [],
   "source": [
    "def italics(func):\n",
    "    @wraps(func)\n",
    "    def wrapper(*args, **kwargs):\n",
    "        msg = func(*args, **kwargs)\n",
    "        return '<i>{}</i>'.format(msg)\n",
    "    return wrapper"
   ]
  },
  {
   "cell_type": "code",
   "execution_count": 110,
   "id": "202160f6",
   "metadata": {},
   "outputs": [],
   "source": [
    "def html(open_tag, close_tag):\n",
    "    def decorator(func):\n",
    "        @wraps(func)\n",
    "        def wrapper(*args, **kwargs):\n",
    "            msg = func(*args, **kwargs)\n",
    "            return '{}{}{}'.format(open_tag, msg, close_tag)\n",
    "        # Return the decorated function\n",
    "        return wrapper\n",
    "    # Return the decorator\n",
    "    return decorator"
   ]
  },
  {
   "cell_type": "code",
   "execution_count": 111,
   "id": "407eaaa8",
   "metadata": {},
   "outputs": [
    {
     "name": "stdout",
     "output_type": "stream",
     "text": [
      "<b>Hello Alice!</b>\n"
     ]
    }
   ],
   "source": [
    "# Make hello() return bolded text\n",
    "@html(\"<b>\", \"</b>\")\n",
    "def hello(name):\n",
    "    return 'Hello {}!'.format(name)\n",
    "    \n",
    "print(hello('Alice'))"
   ]
  },
  {
   "cell_type": "code",
   "execution_count": 112,
   "id": "36d14c3e",
   "metadata": {},
   "outputs": [
    {
     "name": "stdout",
     "output_type": "stream",
     "text": [
      "<i>Goodbye Alice.</i>\n"
     ]
    }
   ],
   "source": [
    "# Make goodbye() return italicized text\n",
    "@html(\"<i>\", \"</i>\")\n",
    "def goodbye(name):\n",
    "    return 'Goodbye {}.'.format(name)\n",
    "    \n",
    "print(goodbye('Alice'))"
   ]
  },
  {
   "cell_type": "code",
   "execution_count": 113,
   "id": "b76e2b6f",
   "metadata": {},
   "outputs": [
    {
     "name": "stdout",
     "output_type": "stream",
     "text": [
      "<div>\n",
      "<b>Hello Alice!</b>\n",
      "<i>Goodbye Alice.</i>\n",
      "</div>\n"
     ]
    }
   ],
   "source": [
    "# Wrap the result of hello_goodbye() in <div> and </div>\n",
    "@html(\"<div>\", \"</div>\")\n",
    "def hello_goodbye(name):\n",
    "    return '\\n{}\\n{}\\n'.format(hello(name), goodbye(name))\n",
    "    \n",
    "print(hello_goodbye('Alice'))"
   ]
  },
  {
   "cell_type": "markdown",
   "id": "bb0d9c20",
   "metadata": {},
   "source": [
    "# Timeout(): a real world example"
   ]
  },
  {
   "cell_type": "code",
   "execution_count": null,
   "id": "1a622321",
   "metadata": {},
   "outputs": [],
   "source": [
    "import signal\n",
    "def raise_timeout(*args, **kwargs):\n",
    "    raise TimeoutError()\n",
    "    \n",
    "# When an 'alarm' signal goes off, call raise_timeout()\n",
    "signal.signal(signalnum=signal.SIGALRM, handler=raise_timeout)\n",
    "\n",
    "# Set off an alarm in 5 seconds\n",
    "signal.alarm(5)\n",
    "\n",
    "# Cancel the alarm\n",
    "signal.alarm(0)"
   ]
  },
  {
   "cell_type": "code",
   "execution_count": 116,
   "id": "8ed5e971",
   "metadata": {},
   "outputs": [],
   "source": [
    "def timeout_in_5s(func):\n",
    "    @wraps(func)\n",
    "    def wrapper(*args, **kwargs):\n",
    "        # Set an alarm for 5 seconds\n",
    "        signal.alarm(5)\n",
    "        try:\n",
    "            # Call the decorated func\n",
    "            return func(*args, **kwargs)\n",
    "        finally:\n",
    "            # Cancel the alarm\n",
    "            signal.alarm(0)\n",
    "    return wrapper"
   ]
  },
  {
   "cell_type": "code",
   "execution_count": 117,
   "id": "9037db78",
   "metadata": {},
   "outputs": [],
   "source": [
    "@timeout_in_5s\n",
    "def foo():\n",
    "    time.sleep(10)\n",
    "    print('foo!')"
   ]
  },
  {
   "cell_type": "code",
   "execution_count": null,
   "id": "3f41a105",
   "metadata": {},
   "outputs": [],
   "source": [
    "foo()"
   ]
  },
  {
   "cell_type": "markdown",
   "id": "88997e67",
   "metadata": {},
   "source": [
    "## Exercise: Tag your functions"
   ]
  },
  {
   "cell_type": "code",
   "execution_count": 120,
   "id": "fd6b56d2",
   "metadata": {},
   "outputs": [
    {
     "name": "stdout",
     "output_type": "stream",
     "text": [
      "('test', 'this is a tag')\n"
     ]
    }
   ],
   "source": [
    "def tag(*tags):\n",
    "    # Define a new decorator, named \"decorator\", to return\n",
    "    def decorator(func):\n",
    "        # Ensure the decorated function keeps its metadata\n",
    "        @wraps(func)\n",
    "        def wrapper(*args, **kwargs):\n",
    "            # Call the function being decorated and return the result\n",
    "            return func(*args, **kwargs)\n",
    "        wrapper.tags = tags\n",
    "        return wrapper\n",
    "    # Return the new decorator\n",
    "    return decorator\n",
    "\n",
    "@tag('test', 'this is a tag')\n",
    "def foo():\n",
    "    pass\n",
    "\n",
    "print(foo.tags)"
   ]
  },
  {
   "cell_type": "markdown",
   "id": "4c344da7",
   "metadata": {},
   "source": [
    "## Exercise: Check the return type"
   ]
  },
  {
   "cell_type": "code",
   "execution_count": 121,
   "id": "aeb4fc8b",
   "metadata": {},
   "outputs": [
    {
     "name": "stdout",
     "output_type": "stream",
     "text": [
      "foo() did not return a dict!\n"
     ]
    }
   ],
   "source": [
    "def returns_dict(func):\n",
    "    # Complete the returns_dict() decorator\n",
    "    def wrapper(*args, **kwargs):\n",
    "        result = func(*args, **kwargs)\n",
    "        assert type(result) == dict\n",
    "        return result\n",
    "    return wrapper\n",
    "    \n",
    "@returns_dict\n",
    "def foo(value):\n",
    "    return value\n",
    "\n",
    "try:\n",
    "    print(foo([1,2,3]))\n",
    "except AssertionError:\n",
    "    print('foo() did not return a dict!')\n",
    "    "
   ]
  },
  {
   "cell_type": "code",
   "execution_count": 122,
   "id": "ca6f77f6",
   "metadata": {},
   "outputs": [
    {
     "name": "stdout",
     "output_type": "stream",
     "text": [
      "foo() did not return a dict!\n"
     ]
    }
   ],
   "source": [
    "def returns(return_type):\n",
    "    # Complete the returns() decorator\n",
    "    def decorator(func):\n",
    "        def wrapper(*args, **kwargs):\n",
    "            result = func(*args, **kwargs)\n",
    "            assert type(result) == return_type\n",
    "            return result\n",
    "        return wrapper\n",
    "    return decorator\n",
    "    \n",
    "@returns(dict)\n",
    "def foo(value):\n",
    "    return value\n",
    "\n",
    "try:\n",
    "    print(foo([1,2,3]))\n",
    "except AssertionError:\n",
    "    print('foo() did not return a dict!')"
   ]
  },
  {
   "cell_type": "code",
   "execution_count": null,
   "id": "e510e72e",
   "metadata": {},
   "outputs": [],
   "source": []
  }
 ],
 "metadata": {
  "kernelspec": {
   "display_name": "Python 3 (ipykernel)",
   "language": "python",
   "name": "python3"
  },
  "language_info": {
   "codemirror_mode": {
    "name": "ipython",
    "version": 3
   },
   "file_extension": ".py",
   "mimetype": "text/x-python",
   "name": "python",
   "nbconvert_exporter": "python",
   "pygments_lexer": "ipython3",
   "version": "3.8.12"
  }
 },
 "nbformat": 4,
 "nbformat_minor": 5
}
