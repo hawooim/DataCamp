{
 "cells": [
  {
   "cell_type": "markdown",
   "id": "71340352",
   "metadata": {},
   "source": [
    "# Using context managers"
   ]
  },
  {
   "cell_type": "markdown",
   "id": "645614bf",
   "metadata": {},
   "source": [
    "## The number of cats"
   ]
  },
  {
   "cell_type": "code",
   "execution_count": null,
   "id": "9c294630",
   "metadata": {},
   "outputs": [],
   "source": [
    "# Open \"alice.txt\" and assign the file to \"file\"\n",
    "with open('alice.txt') as file:\n",
    "    text = file.read()\n",
    "\n",
    "n = 0\n",
    "for word in text.split(f):\n",
    "    if word.lower() in ['cat', 'cats']:\n",
    "        n += 1\n",
    "\n",
    "print('Lewis Carroll uses the word \"cat\" {} times'.format(n))"
   ]
  },
  {
   "cell_type": "markdown",
   "id": "b96cefd9",
   "metadata": {},
   "source": [
    "## The speed of cats"
   ]
  },
  {
   "cell_type": "code",
   "execution_count": null,
   "id": "b69d5944",
   "metadata": {},
   "outputs": [],
   "source": [
    "image = get_image_from_instagram()\n",
    "\n",
    "# Time how long process_with_numpy(image) takes to run\n",
    "with timer():\n",
    "    print('Numpy version')\n",
    "    process_with_numpy(image)\n",
    "\n",
    "# Time how long process_with_pytorch(image) takes to run\n",
    "with timer():\n",
    "    print('Pytorch version')\n",
    "    process_with_pytorch(image)"
   ]
  },
  {
   "cell_type": "markdown",
   "id": "98515418",
   "metadata": {},
   "source": [
    "# Writing context managers"
   ]
  },
  {
   "cell_type": "markdown",
   "id": "c4685d98",
   "metadata": {},
   "source": [
    "## How to create a context manager"
   ]
  },
  {
   "cell_type": "code",
   "execution_count": 2,
   "id": "ed023a3d",
   "metadata": {},
   "outputs": [],
   "source": [
    "import contextlib"
   ]
  },
  {
   "cell_type": "code",
   "execution_count": 3,
   "id": "5383aea5",
   "metadata": {},
   "outputs": [],
   "source": [
    "@contextlib.contextmanager\n",
    "def my_context():\n",
    "    # Add any set up code you need\n",
    "    yield\n",
    "    # Add any teardown code you need"
   ]
  },
  {
   "cell_type": "markdown",
   "id": "bed50330",
   "metadata": {},
   "source": [
    "## The 'yield' keyword"
   ]
  },
  {
   "cell_type": "code",
   "execution_count": 6,
   "id": "3f529af5",
   "metadata": {},
   "outputs": [],
   "source": [
    "@contextlib.contextmanager\n",
    "def my_context():\n",
    "    print('hello')\n",
    "    yield 42\n",
    "    print('goodbye')"
   ]
  },
  {
   "cell_type": "code",
   "execution_count": 7,
   "id": "6146c7d5",
   "metadata": {},
   "outputs": [
    {
     "name": "stdout",
     "output_type": "stream",
     "text": [
      "hello\n",
      "foo is 42\n",
      "goodbye\n"
     ]
    }
   ],
   "source": [
    "with my_context() as foo:\n",
    "    print('foo is {}'.format(foo))"
   ]
  },
  {
   "cell_type": "markdown",
   "id": "5e49fe55",
   "metadata": {},
   "source": [
    "## Setup and teardown"
   ]
  },
  {
   "cell_type": "code",
   "execution_count": 8,
   "id": "16362225",
   "metadata": {},
   "outputs": [],
   "source": [
    "@contextlib.contextmanager\n",
    "def database(url):\n",
    "    # set up database connection\n",
    "    db = postgres.connect(url)\n",
    "    \n",
    "    yield db\n",
    "    \n",
    "    # tear down database connection\n",
    "    db.disconnect()"
   ]
  },
  {
   "cell_type": "code",
   "execution_count": null,
   "id": "78e8de69",
   "metadata": {},
   "outputs": [],
   "source": [
    "url = 'http://datacamp.com/data'\n",
    "with database(url) as my_db:\n",
    "    course_list = my_db.execute('SELECT * FROM courses')"
   ]
  },
  {
   "cell_type": "markdown",
   "id": "61f03689",
   "metadata": {},
   "source": [
    "## Yielding a value or None"
   ]
  },
  {
   "cell_type": "code",
   "execution_count": 10,
   "id": "e7dc4df4",
   "metadata": {},
   "outputs": [],
   "source": [
    "@contextlib.contextmanager\n",
    "def in_dir(path):\n",
    "    # save current working directory\n",
    "    old_dir = os.getcwd()\n",
    "    \n",
    "    # switch to new working directory\n",
    "    os.chdir(path)\n",
    "    \n",
    "    yield\n",
    "    \n",
    "    # change back to previous working directory\n",
    "    os.chdir(old_dir)"
   ]
  },
  {
   "cell_type": "code",
   "execution_count": 12,
   "id": "6c525f7c",
   "metadata": {},
   "outputs": [],
   "source": [
    "import os"
   ]
  },
  {
   "cell_type": "code",
   "execution_count": null,
   "id": "aac0a8b2",
   "metadata": {},
   "outputs": [],
   "source": [
    "with in_dir('/data/project_1'):\n",
    "    project_files = os.listdir()"
   ]
  },
  {
   "cell_type": "markdown",
   "id": "4b0bad53",
   "metadata": {},
   "source": [
    "## The timer() context manager"
   ]
  },
  {
   "cell_type": "code",
   "execution_count": 15,
   "id": "f8c82dae",
   "metadata": {},
   "outputs": [],
   "source": [
    "import time"
   ]
  },
  {
   "cell_type": "code",
   "execution_count": 16,
   "id": "f3ac0042",
   "metadata": {},
   "outputs": [
    {
     "name": "stdout",
     "output_type": "stream",
     "text": [
      "This should take approximately 0.25 seconds\n",
      "Elapsed: 0.25s\n"
     ]
    }
   ],
   "source": [
    "# Add a decorator that will make timer() a context manager\n",
    "@contextlib.contextmanager\n",
    "def timer():\n",
    "    \"\"\"Time the execution of a context block.\n",
    "\n",
    "    Yields:\n",
    "        None\n",
    "    \"\"\"\n",
    "    start = time.time()\n",
    "    # Send control back to the context block\n",
    "    yield\n",
    "    end = time.time()\n",
    "    print('Elapsed: {:.2f}s'.format(end - start))\n",
    "\n",
    "with timer():\n",
    "    print('This should take approximately 0.25 seconds')\n",
    "    time.sleep(0.25)"
   ]
  },
  {
   "cell_type": "code",
   "execution_count": null,
   "id": "ce6c31e0",
   "metadata": {},
   "outputs": [],
   "source": [
    "@contextlib.contextmanager\n",
    "def open_read_only(filename):\n",
    "    \"\"\"Open a file in read-only mode.\n",
    "\n",
    "    Args:\n",
    "        filename (str): The location of the file to read\n",
    "\n",
    "    Yields:\n",
    "        file object\n",
    "    \"\"\"\n",
    "    read_only_file = open(filename, mode='r')\n",
    "    # Yield read_only_file so it can be assigned to my_file\n",
    "    yield read_only_file\n",
    "    # Close read_only_file\n",
    "    read_only_file.close()\n",
    "\n",
    "with open_read_only('my_file.txt') as my_file:\n",
    "    print(my_file.read())"
   ]
  },
  {
   "cell_type": "markdown",
   "id": "a5afa32b",
   "metadata": {},
   "source": [
    "# Advanced topics"
   ]
  },
  {
   "cell_type": "markdown",
   "id": "ab7db7f9",
   "metadata": {},
   "source": [
    "## Nested contexts"
   ]
  },
  {
   "cell_type": "code",
   "execution_count": 19,
   "id": "d0a984ba",
   "metadata": {},
   "outputs": [],
   "source": [
    "# This might cause memory error if the file is too big.\n",
    "def copy(src, dst):\n",
    "    \"\"\"Copy the contents of one file to another.\n",
    "    \n",
    "    Args:\n",
    "        src (str): File name of the file to be copied.\n",
    "        dst (str): Where to write the new file.\n",
    "    \"\"\"\n",
    "    # Open the source file and read in the contents:\n",
    "    with open(src) as f_src:\n",
    "        contents = f_src.read()\n",
    "        \n",
    "    # Open the destination file and write out the contents:\n",
    "    with open(dst, 'w') as f_dst:\n",
    "        f_dst.write(contents)"
   ]
  },
  {
   "cell_type": "code",
   "execution_count": 20,
   "id": "8142050a",
   "metadata": {},
   "outputs": [],
   "source": [
    "def copy(src, dst):\n",
    "    \"\"\"Copy the contents of one file to another.\n",
    "    \n",
    "    Args:\n",
    "        src (str): File name of the file to be copied.\n",
    "        dst (str): Where to write the new file.\n",
    "    \"\"\"\n",
    "    # Open both files\n",
    "    with open(src) as f_src:\n",
    "        with open(dst, 'w') as f_dst:\n",
    "            # Read and write each line, one at a time\n",
    "            for line in f_src:\n",
    "                f_dst.write(line)"
   ]
  },
  {
   "cell_type": "markdown",
   "id": "2306a2d2",
   "metadata": {},
   "source": [
    "## Handling errors"
   ]
  },
  {
   "cell_type": "code",
   "execution_count": null,
   "id": "f9dd439b",
   "metadata": {},
   "outputs": [],
   "source": [
    "try:\n",
    "    # code that might raise an an error\n",
    "except:\n",
    "    # do something about the error\n",
    "finally:\n",
    "    # this code runs no matter what"
   ]
  },
  {
   "cell_type": "code",
   "execution_count": null,
   "id": "103c6dad",
   "metadata": {},
   "outputs": [],
   "source": [
    "def get_printer(ip):\n",
    "    p = connect_to_printer(ip)\n",
    "    \n",
    "    yield\n",
    "    \n",
    "    # This MUST be called or no one else will be able to connect to the printer\n",
    "    p.disconnect()\n",
    "    print('disconnected from printer')\n",
    "    \n",
    "doc = {'text': 'This is my text.'}\n",
    "\n",
    "with get_printer('10.0.34.111') as printer:\n",
    "    printer.print_page(doc['txt'])"
   ]
  },
  {
   "cell_type": "code",
   "execution_count": null,
   "id": "7f3d9ca7",
   "metadata": {},
   "outputs": [],
   "source": [
    "def get_printer(ip):\n",
    "    p = connect_to_printer(ip)\n",
    "    \n",
    "    try:\n",
    "        yield\n",
    "    finally:\n",
    "        p.disconnect()\n",
    "        print('disconnected from printer')\n",
    "\n",
    "doc = {'text': 'This is my text.'}\n",
    "\n",
    "with get_printer('10.0.34.111') as printer:\n",
    "    printer.print_page(doc['txt'])"
   ]
  },
  {
   "cell_type": "markdown",
   "id": "e6c1a7bd",
   "metadata": {},
   "source": [
    "## Context manager patterns"
   ]
  },
  {
   "cell_type": "markdown",
   "id": "e72c2262",
   "metadata": {},
   "source": [
    " - open - close\n",
    " - lock - release\n",
    " - change - reset\n",
    " - enter - exit\n",
    " - start - stop\n",
    " - setup - teardown\n",
    " - connect - disconnect"
   ]
  },
  {
   "cell_type": "markdown",
   "id": "8e9a6797",
   "metadata": {},
   "source": [
    "## Scraping the NASDAQ"
   ]
  },
  {
   "cell_type": "code",
   "execution_count": null,
   "id": "453332eb",
   "metadata": {},
   "outputs": [],
   "source": [
    "# Use the \"stock('NVDA')\" context manager\n",
    "# and assign the result to the variable \"nvda\"\n",
    "with stock('NVDA') as nvda:\n",
    "    # Open \"NVDA.txt\" for writing as f_out\n",
    "    with open('NVDA.txt', 'w') as f_out:\n",
    "        for _ in range(10):\n",
    "            value = nvda.price()\n",
    "            print('Logging ${:.2f} for NVDA'.format(value))\n",
    "            f_out.write('{:.2f}\\n'.format(value))"
   ]
  },
  {
   "cell_type": "markdown",
   "id": "7eab7fe3",
   "metadata": {},
   "source": [
    "## Changing the working directory"
   ]
  },
  {
   "cell_type": "code",
   "execution_count": 24,
   "id": "3c8a39e4",
   "metadata": {},
   "outputs": [],
   "source": [
    "def in_dir(directory):\n",
    "    \"\"\"Change current working directory to `directory`,\n",
    "    allow the user to run some code, and change back.\n",
    "\n",
    "    Args:\n",
    "        directory (str): The path to a directory to work in.\n",
    "    \"\"\"\n",
    "    current_dir = os.getcwd()\n",
    "    os.chdir(directory)\n",
    "\n",
    "    # Add code that lets you handle errors\n",
    "    try:\n",
    "        yield\n",
    "    # Ensure the directory is reset,\n",
    "    # whether there was an error or not\n",
    "    finally:\n",
    "        os.chdir(current_dir)"
   ]
  },
  {
   "cell_type": "code",
   "execution_count": null,
   "id": "1d6c79c2",
   "metadata": {},
   "outputs": [],
   "source": []
  }
 ],
 "metadata": {
  "kernelspec": {
   "display_name": "Python 3 (ipykernel)",
   "language": "python",
   "name": "python3"
  },
  "language_info": {
   "codemirror_mode": {
    "name": "ipython",
    "version": 3
   },
   "file_extension": ".py",
   "mimetype": "text/x-python",
   "name": "python",
   "nbconvert_exporter": "python",
   "pygments_lexer": "ipython3",
   "version": "3.8.12"
  }
 },
 "nbformat": 4,
 "nbformat_minor": 5
}
