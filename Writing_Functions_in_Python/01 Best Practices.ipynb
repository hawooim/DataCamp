{
 "cells": [
  {
   "cell_type": "markdown",
   "id": "8cd6341a",
   "metadata": {},
   "source": [
    "# Docstrings"
   ]
  },
  {
   "cell_type": "markdown",
   "id": "eff004c6",
   "metadata": {},
   "source": [
    "## Crafting a docstring"
   ]
  },
  {
   "cell_type": "code",
   "execution_count": 1,
   "id": "c83da240",
   "metadata": {},
   "outputs": [],
   "source": [
    "def count_letter(content, letter):\n",
    "    \"\"\"Count the number of times `letter` appears in `content`.\n",
    "\n",
    "    Args:\n",
    "        content (str): The string to search.\n",
    "        letter (str): The letter to search for.\n",
    "\n",
    "    Returns:\n",
    "        int\n",
    "\n",
    "    # Add a section detailing what errors might be raised\n",
    "    Raises:\n",
    "        ValueError: If `letter` is not a one-character string.\n",
    "    \"\"\"\n",
    "    if (not isinstance(letter, str)) or len(letter) != 1:\n",
    "        raise ValueError('`letter` must be a single character string.')\n",
    "    return len([char for char in content if char == letter])"
   ]
  },
  {
   "cell_type": "markdown",
   "id": "6381bb2b",
   "metadata": {},
   "source": [
    "## Retrieving docstrings"
   ]
  },
  {
   "cell_type": "code",
   "execution_count": 2,
   "id": "3d17aee9",
   "metadata": {},
   "outputs": [
    {
     "name": "stdout",
     "output_type": "stream",
     "text": [
      "############################\n",
      "Count the number of times `letter` appears in `content`.\n",
      "\n",
      "    Args:\n",
      "        content (str): The string to search.\n",
      "        letter (str): The letter to search for.\n",
      "\n",
      "    Returns:\n",
      "        int\n",
      "\n",
      "    # Add a section detailing what errors might be raised\n",
      "    Raises:\n",
      "        ValueError: If `letter` is not a one-character string.\n",
      "    \n",
      "############################\n"
     ]
    }
   ],
   "source": [
    "# Get the \"count_letter\" docstring by using an attribute of the function\n",
    "docstring = count_letter.__doc__\n",
    "\n",
    "border = '#' * 28\n",
    "print('{}\\n{}\\n{}'.format(border, docstring, border))"
   ]
  },
  {
   "cell_type": "code",
   "execution_count": 3,
   "id": "811d233e",
   "metadata": {},
   "outputs": [
    {
     "name": "stdout",
     "output_type": "stream",
     "text": [
      "############################\n",
      "Count the number of times `letter` appears in `content`.\n",
      "\n",
      "Args:\n",
      "    content (str): The string to search.\n",
      "    letter (str): The letter to search for.\n",
      "\n",
      "Returns:\n",
      "    int\n",
      "\n",
      "# Add a section detailing what errors might be raised\n",
      "Raises:\n",
      "    ValueError: If `letter` is not a one-character string.\n",
      "############################\n"
     ]
    }
   ],
   "source": [
    "import inspect\n",
    "\n",
    "# Inspect the count_letter() function to get its docstring\n",
    "docstring = inspect.getdoc(count_letter)\n",
    "\n",
    "border = '#' * 28\n",
    "print('{}\\n{}\\n{}'.format(border, docstring, border))"
   ]
  },
  {
   "cell_type": "code",
   "execution_count": 4,
   "id": "834c1d62",
   "metadata": {},
   "outputs": [
    {
     "name": "stdout",
     "output_type": "stream",
     "text": [
      "############################\n",
      "Count the number of times `letter` appears in `content`.\n",
      "\n",
      "Args:\n",
      "    content (str): The string to search.\n",
      "    letter (str): The letter to search for.\n",
      "\n",
      "Returns:\n",
      "    int\n",
      "\n",
      "# Add a section detailing what errors might be raised\n",
      "Raises:\n",
      "    ValueError: If `letter` is not a one-character string.\n",
      "############################\n",
      "############################\n",
      "range(stop) -> range object\n",
      "range(start, stop[, step]) -> range object\n",
      "\n",
      "Return an object that produces a sequence of integers from start (inclusive)\n",
      "to stop (exclusive) by step.  range(i, j) produces i, i+1, i+2, ..., j-1.\n",
      "start defaults to 0, and stop is omitted!  range(4) produces 0, 1, 2, 3.\n",
      "These are exactly the valid indices for a list of 4 elements.\n",
      "When step is given, it specifies the increment (or decrement).\n",
      "############################\n",
      "############################\n",
      "print(value, ..., sep=' ', end='\\n', file=sys.stdout, flush=False)\n",
      "\n",
      "Prints the values to a stream, or to sys.stdout by default.\n",
      "Optional keyword arguments:\n",
      "file:  a file-like object (stream); defaults to the current sys.stdout.\n",
      "sep:   string inserted between values, default a space.\n",
      "end:   string appended after the last value, default a newline.\n",
      "flush: whether to forcibly flush the stream.\n",
      "############################\n"
     ]
    }
   ],
   "source": [
    "import inspect\n",
    "\n",
    "def build_tooltip(function):\n",
    "  \"\"\"Create a tooltip for any function that shows the\n",
    "  function's docstring.\n",
    "\n",
    "  Args:\n",
    "    function (callable): The function we want a tooltip for.\n",
    "\n",
    "  Returns:\n",
    "    str\n",
    "  \"\"\"\n",
    "  # Get the docstring for the \"function\" argument by using inspect\n",
    "  docstring = inspect.getdoc(function)\n",
    "  border = '#' * 28\n",
    "  return '{}\\n{}\\n{}'.format(border, docstring, border)\n",
    "\n",
    "print(build_tooltip(count_letter))\n",
    "print(build_tooltip(range))\n",
    "print(build_tooltip(print))"
   ]
  },
  {
   "cell_type": "markdown",
   "id": "d9ae57d8",
   "metadata": {},
   "source": [
    "# DRY and \"Do One Thing\""
   ]
  },
  {
   "cell_type": "code",
   "execution_count": 12,
   "id": "4a975db1",
   "metadata": {},
   "outputs": [],
   "source": [
    "import pandas as pd"
   ]
  },
  {
   "cell_type": "code",
   "execution_count": null,
   "id": "495ebbd9",
   "metadata": {},
   "outputs": [],
   "source": [
    "def load_data(path):\n",
    "    \"\"\" Load a data set.\n",
    "    \n",
    "    Args:\n",
    "        path (str): The location of a csv file\n",
    "        \n",
    "    Returns:\n",
    "        tuple of ndarray: (features, labels)\n",
    "    \"\"\"\n",
    "\n",
    "    data = pd.read_csv(path)\n",
    "    y = data['labels'].values\n",
    "    X = data[col for col in data.columns if col != 'labels'].values\n",
    "\n",
    "    return X, y"
   ]
  },
  {
   "cell_type": "code",
   "execution_count": 15,
   "id": "09302446",
   "metadata": {},
   "outputs": [],
   "source": [
    "def plot_data(X):\n",
    "    \"\"\"Plot the first two principal components of a matrix.\n",
    "    \n",
    "    Args:\n",
    "        X (numpy.ndarray) : The data to plot\n",
    "    \"\"\"\n",
    "    pca = PCA(n_components=2).fit_transform(X)\n",
    "    plot.scattter(pca[:,0], pca[:, 1])"
   ]
  },
  {
   "cell_type": "markdown",
   "id": "fafd2587",
   "metadata": {},
   "source": [
    "## Extract a function"
   ]
  },
  {
   "cell_type": "code",
   "execution_count": null,
   "id": "f8acfd71",
   "metadata": {},
   "outputs": [],
   "source": [
    "def standardize(column):\n",
    "    \"\"\"Standardize the values in a column.\n",
    "\n",
    "    Args:\n",
    "        column (pandas Series): The data to standardize.\n",
    "\n",
    "    Returns:\n",
    "        pandas Series: the values as z-scores\n",
    "    \"\"\"\n",
    "    # Finish the function so that it returns the z-scores\n",
    "    z_score = (column - column.mean()) / column.std()\n",
    "    return z_score\n",
    "\n",
    "# Use the standardize() function to calculate the z-scores\n",
    "df['y1_z'] = standardize(df['y1_gpa'])\n",
    "df['y2_z'] = standardize(df['y2_gpa'])\n",
    "df['y3_z'] = standardize(df['y3_gpa'])\n",
    "df['y4_z'] = standardize(df['y4_gpa'])"
   ]
  },
  {
   "cell_type": "markdown",
   "id": "05797fd1",
   "metadata": {},
   "source": [
    "## Split up a function"
   ]
  },
  {
   "cell_type": "code",
   "execution_count": 19,
   "id": "22bff98e",
   "metadata": {},
   "outputs": [],
   "source": [
    "def mean(values):\n",
    "    \"\"\"Get the mean of a sorted list of values\n",
    "\n",
    "    Args:\n",
    "        values (iterable of float): A list of numbers\n",
    "\n",
    "    Returns:\n",
    "        float\n",
    "    \"\"\"\n",
    "    # Write the mean() function\n",
    "    mean = sum(values) / len(values)\n",
    "    return mean"
   ]
  },
  {
   "cell_type": "code",
   "execution_count": 20,
   "id": "6776ff2c",
   "metadata": {},
   "outputs": [],
   "source": [
    "def median(values):\n",
    "    \"\"\"Get the median of a sorted list of values\n",
    "\n",
    "    Args:\n",
    "        values (iterable of float): A list of numbers\n",
    "\n",
    "    Returns:\n",
    "        float\n",
    "    \"\"\"\n",
    "    # Write the median() function\n",
    "    midpoint = int(len(values) / 2)\n",
    "    if len(values) % 2 == 0:\n",
    "        median = (values[midpoint - 1] + values[midpoint]) / 2\n",
    "    else:\n",
    "        median = values[midpoint]\n",
    "    return median"
   ]
  },
  {
   "cell_type": "markdown",
   "id": "972c418a",
   "metadata": {},
   "source": [
    "# Pass by assignment"
   ]
  },
  {
   "cell_type": "markdown",
   "id": "f3d4dbfc",
   "metadata": {},
   "source": [
    "## A surprising example"
   ]
  },
  {
   "cell_type": "code",
   "execution_count": 21,
   "id": "9ceb346c",
   "metadata": {},
   "outputs": [
    {
     "name": "stdout",
     "output_type": "stream",
     "text": [
      "[99, 2, 3]\n"
     ]
    }
   ],
   "source": [
    "def foo(x):\n",
    "    x[0] = 99\n",
    "my_list = [1, 2, 3]\n",
    "foo(my_list)\n",
    "print(my_list)"
   ]
  },
  {
   "cell_type": "code",
   "execution_count": 22,
   "id": "786b9b4b",
   "metadata": {},
   "outputs": [
    {
     "name": "stdout",
     "output_type": "stream",
     "text": [
      "3\n"
     ]
    }
   ],
   "source": [
    "def bar(x):\n",
    "    x = x + 90\n",
    "my_var = 3\n",
    "bar(my_var)\n",
    "print(my_var)"
   ]
  },
  {
   "cell_type": "markdown",
   "id": "b20472b5",
   "metadata": {},
   "source": [
    "## Mutable or Immutable?"
   ]
  },
  {
   "cell_type": "markdown",
   "id": "14015b1a",
   "metadata": {},
   "source": [
    "Immutable\n",
    " - int\n",
    " - float\n",
    " - bool\n",
    " - string\n",
    " - bytes\n",
    " - tuple\n",
    " - frozenset\n",
    " - None"
   ]
  },
  {
   "cell_type": "markdown",
   "id": "cf24d674",
   "metadata": {},
   "source": [
    " Mutable\n",
    "  - list\n",
    "  - dict\n",
    "  - set\n",
    "  - bytearray\n",
    "  - objeects\n",
    "  - functions\n",
    "  - almost everthing else!"
   ]
  },
  {
   "cell_type": "markdown",
   "id": "cd3dad19",
   "metadata": {},
   "source": [
    "## Mutable default arguments are dangerous!"
   ]
  },
  {
   "cell_type": "code",
   "execution_count": 24,
   "id": "3cb0147f",
   "metadata": {},
   "outputs": [
    {
     "data": {
      "text/plain": [
       "[1]"
      ]
     },
     "execution_count": 24,
     "metadata": {},
     "output_type": "execute_result"
    }
   ],
   "source": [
    "def foo(var=[]):\n",
    "    var.append(1)\n",
    "    return var\n",
    "foo()"
   ]
  },
  {
   "cell_type": "code",
   "execution_count": 25,
   "id": "456e0bd3",
   "metadata": {},
   "outputs": [
    {
     "data": {
      "text/plain": [
       "[1, 1]"
      ]
     },
     "execution_count": 25,
     "metadata": {},
     "output_type": "execute_result"
    }
   ],
   "source": [
    "foo()"
   ]
  },
  {
   "cell_type": "code",
   "execution_count": 26,
   "id": "ee53e4d6",
   "metadata": {},
   "outputs": [
    {
     "data": {
      "text/plain": [
       "[1]"
      ]
     },
     "execution_count": 26,
     "metadata": {},
     "output_type": "execute_result"
    }
   ],
   "source": [
    "def foo(var=None):\n",
    "    if var is None:\n",
    "        var = []\n",
    "    var.append(1)\n",
    "    return var\n",
    "foo()"
   ]
  },
  {
   "cell_type": "code",
   "execution_count": 27,
   "id": "8eda64b5",
   "metadata": {},
   "outputs": [
    {
     "data": {
      "text/plain": [
       "[1]"
      ]
     },
     "execution_count": 27,
     "metadata": {},
     "output_type": "execute_result"
    }
   ],
   "source": [
    "foo()"
   ]
  },
  {
   "cell_type": "code",
   "execution_count": 29,
   "id": "14c80b74",
   "metadata": {},
   "outputs": [],
   "source": [
    "def store_lower(_dict, _string):\n",
    "    \"\"\"Add a mapping between `_string` and a lowercased version of `_string` to `_dict`\n",
    "\n",
    "    Args:\n",
    "        _dict (dict): The dictionary to update.\n",
    "        _string (str): The string to add.\n",
    "    \"\"\"\n",
    "    orig_string = _string\n",
    "    _string = _string.lower()\n",
    "    _dict[orig_string] = _string\n",
    "\n",
    "d = {}\n",
    "s = 'Hello'\n",
    "\n",
    "store_lower(d, s)"
   ]
  },
  {
   "cell_type": "code",
   "execution_count": 30,
   "id": "ebe66c98",
   "metadata": {},
   "outputs": [
    {
     "data": {
      "text/plain": [
       "{'Hello': 'hello'}"
      ]
     },
     "execution_count": 30,
     "metadata": {},
     "output_type": "execute_result"
    }
   ],
   "source": [
    "d"
   ]
  },
  {
   "cell_type": "code",
   "execution_count": 31,
   "id": "022e6902",
   "metadata": {},
   "outputs": [
    {
     "data": {
      "text/plain": [
       "'Hello'"
      ]
     },
     "execution_count": 31,
     "metadata": {},
     "output_type": "execute_result"
    }
   ],
   "source": [
    "s"
   ]
  },
  {
   "cell_type": "markdown",
   "id": "1b111b73",
   "metadata": {},
   "source": [
    "## Best practice for default arguments\n",
    "One of your co-workers (who obviously didn't take this course) has written this function for adding a column to a pandas DataFrame. Unfortunately, they used a mutable variable as a default argument value! Please show them a better way to do this so that they don't get unexpected behavior."
   ]
  },
  {
   "cell_type": "code",
   "execution_count": null,
   "id": "a8721ca0",
   "metadata": {},
   "outputs": [],
   "source": [
    "def add_column(values, df=pandas.DataFrame()):\n",
    "    \"\"\"Add a column of `values` to a DataFrame `df`.\n",
    "    The column will be named \"col_<n>\" where \"n\" is\n",
    "    the numerical index of the column.\n",
    "\n",
    "    Args:\n",
    "        values (iterable): The values of the new column\n",
    "        df (DataFrame, optional): The DataFrame to update.\n",
    "            If no DataFrame is passed, one is created by default.\n",
    "\n",
    "    Returns:\n",
    "        DataFrame\n",
    "    \"\"\"\n",
    "    df['col_{}'.format(len(df.columns))] = values\n",
    "    return df"
   ]
  },
  {
   "cell_type": "code",
   "execution_count": 33,
   "id": "0969331c",
   "metadata": {},
   "outputs": [],
   "source": [
    "# Use an immutable variable for the default argument\n",
    "def better_add_column(values, df=None):\n",
    "    \"\"\"Add a column of `values` to a DataFrame `df`.\n",
    "    The column will be named \"col_<n>\" where \"n\" is\n",
    "    the numerical index of the column.\n",
    "\n",
    "    Args:\n",
    "        values (iterable): The values of the new column\n",
    "        df (DataFrame, optional): The DataFrame to update.\n",
    "            If no DataFrame is passed, one is created by default.\n",
    "\n",
    "    Returns:\n",
    "        DataFrame\n",
    "    \"\"\"\n",
    "    # Update the function to create a default DataFrame\n",
    "    if df is None:\n",
    "        df = pandas.DataFrame()\n",
    "    df['col_{}'.format(len(df.columns))] = values\n",
    "    return df"
   ]
  },
  {
   "cell_type": "code",
   "execution_count": null,
   "id": "71218860",
   "metadata": {},
   "outputs": [],
   "source": []
  }
 ],
 "metadata": {
  "kernelspec": {
   "display_name": "Python 3 (ipykernel)",
   "language": "python",
   "name": "python3"
  },
  "language_info": {
   "codemirror_mode": {
    "name": "ipython",
    "version": 3
   },
   "file_extension": ".py",
   "mimetype": "text/x-python",
   "name": "python",
   "nbconvert_exporter": "python",
   "pygments_lexer": "ipython3",
   "version": "3.8.12"
  }
 },
 "nbformat": 4,
 "nbformat_minor": 5
}
