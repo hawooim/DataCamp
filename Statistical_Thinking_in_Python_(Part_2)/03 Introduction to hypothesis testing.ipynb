{
 "cells": [
  {
   "cell_type": "code",
   "execution_count": 1,
   "id": "38d1b4ed",
   "metadata": {},
   "outputs": [],
   "source": [
    "import pandas as pd\n",
    "import numpy as np\n",
    "import matplotlib.pyplot as plt\n",
    "import seaborn as sns"
   ]
  },
  {
   "cell_type": "markdown",
   "id": "afb8aa55",
   "metadata": {},
   "source": [
    "### Permutation\n",
    " - Random reordering of entries in an array"
   ]
  },
  {
   "cell_type": "markdown",
   "id": "8bfa4974",
   "metadata": {},
   "source": [
    "### Generating a permuation sample"
   ]
  },
  {
   "cell_type": "code",
   "execution_count": 2,
   "id": "26155e9a",
   "metadata": {},
   "outputs": [
    {
     "data": {
      "text/html": [
       "<div>\n",
       "<style scoped>\n",
       "    .dataframe tbody tr th:only-of-type {\n",
       "        vertical-align: middle;\n",
       "    }\n",
       "\n",
       "    .dataframe tbody tr th {\n",
       "        vertical-align: top;\n",
       "    }\n",
       "\n",
       "    .dataframe thead th {\n",
       "        text-align: right;\n",
       "    }\n",
       "</style>\n",
       "<table border=\"1\" class=\"dataframe\">\n",
       "  <thead>\n",
       "    <tr style=\"text-align: right;\">\n",
       "      <th></th>\n",
       "      <th>state</th>\n",
       "      <th>county</th>\n",
       "      <th>total_votes</th>\n",
       "      <th>dem_votes</th>\n",
       "      <th>rep_votes</th>\n",
       "      <th>other_votes</th>\n",
       "      <th>dem_share</th>\n",
       "      <th>east_west</th>\n",
       "    </tr>\n",
       "  </thead>\n",
       "  <tbody>\n",
       "    <tr>\n",
       "      <th>0</th>\n",
       "      <td>AK</td>\n",
       "      <td>State House District 8, Denali-University</td>\n",
       "      <td>10320</td>\n",
       "      <td>4995</td>\n",
       "      <td>4983</td>\n",
       "      <td>342</td>\n",
       "      <td>50.06</td>\n",
       "      <td>west</td>\n",
       "    </tr>\n",
       "    <tr>\n",
       "      <th>1</th>\n",
       "      <td>AK</td>\n",
       "      <td>State House District 37, Bristol Bay-Aleuti</td>\n",
       "      <td>4665</td>\n",
       "      <td>1868</td>\n",
       "      <td>2661</td>\n",
       "      <td>136</td>\n",
       "      <td>41.24</td>\n",
       "      <td>west</td>\n",
       "    </tr>\n",
       "    <tr>\n",
       "      <th>2</th>\n",
       "      <td>AK</td>\n",
       "      <td>State House District 12, Richardson-Glenn H</td>\n",
       "      <td>7589</td>\n",
       "      <td>1914</td>\n",
       "      <td>5467</td>\n",
       "      <td>208</td>\n",
       "      <td>25.93</td>\n",
       "      <td>west</td>\n",
       "    </tr>\n",
       "    <tr>\n",
       "      <th>3</th>\n",
       "      <td>AK</td>\n",
       "      <td>State House District 13, Greater Palmer</td>\n",
       "      <td>11526</td>\n",
       "      <td>2800</td>\n",
       "      <td>8432</td>\n",
       "      <td>294</td>\n",
       "      <td>24.93</td>\n",
       "      <td>west</td>\n",
       "    </tr>\n",
       "    <tr>\n",
       "      <th>4</th>\n",
       "      <td>AK</td>\n",
       "      <td>State House District 14, Greater Wasilla</td>\n",
       "      <td>10456</td>\n",
       "      <td>2132</td>\n",
       "      <td>8108</td>\n",
       "      <td>216</td>\n",
       "      <td>20.82</td>\n",
       "      <td>west</td>\n",
       "    </tr>\n",
       "  </tbody>\n",
       "</table>\n",
       "</div>"
      ],
      "text/plain": [
       "  state                                       county  total_votes  dem_votes  \\\n",
       "0    AK    State House District 8, Denali-University        10320       4995   \n",
       "1    AK  State House District 37, Bristol Bay-Aleuti         4665       1868   \n",
       "2    AK  State House District 12, Richardson-Glenn H         7589       1914   \n",
       "3    AK      State House District 13, Greater Palmer        11526       2800   \n",
       "4    AK     State House District 14, Greater Wasilla        10456       2132   \n",
       "\n",
       "   rep_votes  other_votes  dem_share east_west  \n",
       "0       4983          342      50.06      west  \n",
       "1       2661          136      41.24      west  \n",
       "2       5467          208      25.93      west  \n",
       "3       8432          294      24.93      west  \n",
       "4       8108          216      20.82      west  "
      ]
     },
     "execution_count": 2,
     "metadata": {},
     "output_type": "execute_result"
    }
   ],
   "source": [
    "df = pd.read_csv('2008_all_states.csv')\n",
    "df.head()"
   ]
  },
  {
   "cell_type": "code",
   "execution_count": 3,
   "id": "e10fd25e",
   "metadata": {},
   "outputs": [],
   "source": [
    "pa = df[df['state']=='PA']\n",
    "oh = df[df['state']=='OH']\n",
    "\n",
    "dem_share_PA = pa['dem_share'].values\n",
    "dem_share_OH = oh['dem_share'].values"
   ]
  },
  {
   "cell_type": "code",
   "execution_count": 4,
   "id": "01b4ea49",
   "metadata": {},
   "outputs": [
    {
     "data": {
      "text/plain": [
       "array([60.08, 40.64, 36.07, 41.21, 31.04, 43.78, 44.08, 46.85, 44.71,\n",
       "       46.15, 63.1 , 52.2 , 43.18, 40.24, 39.92, 47.87, 37.77, 40.11,\n",
       "       49.85, 48.61, 38.62, 54.25, 34.84, 47.75, 43.82, 55.97, 58.23,\n",
       "       42.97, 42.38, 36.11, 37.53, 42.65, 50.96, 47.43, 56.24, 45.6 ,\n",
       "       46.39, 35.22, 48.56, 32.97, 57.88, 36.05, 37.72, 50.36, 32.12,\n",
       "       41.55, 54.66, 57.81, 54.58, 32.88, 54.37, 40.45, 47.61, 60.49,\n",
       "       43.11, 27.32, 44.03, 33.56, 37.26, 54.64, 43.12, 25.34, 49.79,\n",
       "       83.56, 40.09, 60.81, 49.81])"
      ]
     },
     "execution_count": 4,
     "metadata": {},
     "output_type": "execute_result"
    }
   ],
   "source": [
    "dem_share_PA"
   ]
  },
  {
   "cell_type": "code",
   "execution_count": 5,
   "id": "990b500b",
   "metadata": {},
   "outputs": [
    {
     "data": {
      "text/plain": [
       "array([56.94, 50.46, 65.99, 45.88, 42.23, 45.26, 57.01, 53.61, 59.1 ,\n",
       "       61.48, 43.43, 44.69, 54.59, 48.36, 45.89, 48.62, 43.92, 38.23,\n",
       "       28.79, 63.57, 38.07, 40.18, 43.05, 41.56, 42.49, 36.06, 52.76,\n",
       "       46.07, 39.43, 39.26, 47.47, 27.92, 38.01, 45.45, 29.07, 28.94,\n",
       "       51.28, 50.1 , 39.84, 36.43, 35.71, 31.47, 47.01, 40.1 , 48.76,\n",
       "       31.56, 39.86, 45.31, 35.47, 51.38, 46.33, 48.73, 41.77, 41.32,\n",
       "       48.46, 53.14, 34.01, 54.74, 40.67, 38.96, 46.29, 38.25,  6.8 ,\n",
       "       31.75, 46.33, 44.9 , 33.57, 38.1 , 39.67, 40.47, 49.44, 37.62,\n",
       "       36.71, 46.73, 42.2 , 53.16, 52.4 , 58.36, 68.02, 38.53, 34.58,\n",
       "       69.64, 60.5 , 53.53, 36.54, 49.58, 41.97, 38.11])"
      ]
     },
     "execution_count": 5,
     "metadata": {},
     "output_type": "execute_result"
    }
   ],
   "source": [
    "dem_share_OH"
   ]
  },
  {
   "cell_type": "code",
   "execution_count": 6,
   "id": "f8c5ad50",
   "metadata": {},
   "outputs": [],
   "source": [
    "dem_share_both = np.concatenate((dem_share_PA, dem_share_OH))\n",
    "dem_share_perm = np.random.permutation(dem_share_both)\n",
    "perm_sample_PA = dem_share_perm[:len(dem_share_PA)]\n",
    "perm_sample_OH = dem_share_perm[len(dem_share_PA):]"
   ]
  },
  {
   "cell_type": "code",
   "execution_count": 7,
   "id": "312ff2a9",
   "metadata": {},
   "outputs": [
    {
     "data": {
      "text/plain": [
       "array([60.5 , 42.65, 48.46, 43.11, 53.16, 42.38, 53.53, 31.56, 50.46,\n",
       "       43.92, 40.09, 52.4 , 38.53, 41.32, 68.02, 44.71, 44.08, 28.79,\n",
       "       40.24, 41.21, 38.1 , 56.94, 46.85, 32.88, 35.22, 28.94, 33.57,\n",
       "       57.88, 45.89, 48.62, 48.73, 46.33, 43.43, 31.04, 48.61, 42.49,\n",
       "       37.62, 42.97, 36.05, 36.54, 32.12, 54.58, 51.38, 36.71, 34.58,\n",
       "       46.15, 50.1 , 58.23, 27.92, 46.07, 49.44, 45.88, 39.67, 38.07,\n",
       "       31.47, 37.53, 48.56, 50.96, 40.18, 46.73, 45.45, 83.56, 44.9 ,\n",
       "       44.03, 51.28, 37.26, 54.59])"
      ]
     },
     "execution_count": 7,
     "metadata": {},
     "output_type": "execute_result"
    }
   ],
   "source": [
    "perm_sample_PA"
   ]
  },
  {
   "cell_type": "code",
   "execution_count": 8,
   "id": "853f5d27",
   "metadata": {},
   "outputs": [
    {
     "data": {
      "text/plain": [
       "array([49.79, 38.25, 47.87, 45.6 , 49.81, 50.36, 45.26, 47.01, 43.12,\n",
       "       56.24, 54.64, 40.45, 54.74, 42.2 , 44.69, 41.97, 38.11, 42.23,\n",
       "       29.07, 69.64, 27.32, 41.77, 43.78, 52.2 , 32.97, 33.56, 60.08,\n",
       "       59.1 , 61.48, 37.77, 46.33, 54.25, 36.07, 49.85, 35.47, 47.47,\n",
       "       25.34, 41.55, 43.18, 37.72, 60.49, 47.75, 40.1 , 34.01, 60.81,\n",
       "       47.43, 31.75, 54.37, 43.05, 48.36, 65.99, 53.14, 45.31, 34.84,\n",
       "       38.01, 57.81, 39.86, 36.11, 48.76, 55.97, 47.61, 40.64, 46.29,\n",
       "       63.57, 39.26, 38.96, 38.62, 43.82, 40.67, 36.43, 53.61, 57.01,\n",
       "        6.8 , 40.47, 40.11, 46.39, 39.43, 39.92, 54.66, 63.1 , 35.71,\n",
       "       58.36, 36.06, 41.56, 39.84, 52.76, 38.23, 49.58])"
      ]
     },
     "execution_count": 8,
     "metadata": {},
     "output_type": "execute_result"
    }
   ],
   "source": [
    "perm_sample_OH"
   ]
  },
  {
   "cell_type": "markdown",
   "id": "754e4a6b",
   "metadata": {},
   "source": [
    "### Function: Generating a permutation sample"
   ]
  },
  {
   "cell_type": "code",
   "execution_count": 9,
   "id": "1d505e0f",
   "metadata": {},
   "outputs": [],
   "source": [
    "def permutation_sample(data1, data2):\n",
    "    \"\"\"Generate a permutation sample from two data sets.\"\"\"\n",
    "\n",
    "    # Concatenate the data sets: data\n",
    "    data = np.concatenate((data1, data2))\n",
    "\n",
    "    # Permute the concatenated array: permuted_data\n",
    "    permuted_data = np.random.permutation(data)\n",
    "\n",
    "    # Split the permuted array into two: perm_sample_1, perm_sample_2\n",
    "    perm_sample_1 = permuted_data[:len(data1)]\n",
    "    perm_sample_2 = permuted_data[len(data1):]\n",
    "\n",
    "    return perm_sample_1, perm_sample_2"
   ]
  },
  {
   "cell_type": "markdown",
   "id": "39f94cf5",
   "metadata": {},
   "source": [
    "### Visualizing permutation sampling"
   ]
  },
  {
   "cell_type": "code",
   "execution_count": 10,
   "id": "a0787c30",
   "metadata": {},
   "outputs": [],
   "source": [
    "# ECDF(Empirical cumulative distribution function)\n",
    "def ecdf(data):\n",
    "    \"\"\"Compute ECDF for a one-dimensional array of measurements.\"\"\"\n",
    "    # Number of data points: n\n",
    "    n = len(data)\n",
    "\n",
    "    # x-data for the ECDF: x\n",
    "    x = np.sort(data)\n",
    "\n",
    "    # y-data for the ECDF: y\n",
    "    y = np.arange(1, n+1) / n\n",
    "\n",
    "    return x, y"
   ]
  },
  {
   "cell_type": "code",
   "execution_count": 11,
   "id": "11f1a979",
   "metadata": {
    "scrolled": false
   },
   "outputs": [
    {
     "data": {
      "image/png": "[encoded data removed]",
      "text/plain": [
       "<Figure size 720x720 with 1 Axes>"
      ]
     },
     "metadata": {},
     "output_type": "display_data"
    }
   ],
   "source": [
    "sns.set()\n",
    "plt.figure(figsize=(10, 10))\n",
    "\n",
    "for i in range(50):\n",
    "    # Generate permutation samples\n",
    "    perm_sample_1, perm_sample_2 = permutation_sample(dem_share_PA, dem_share_OH)\n",
    "\n",
    "    # Compute ECDFs\n",
    "    x_1, y_1 = ecdf(perm_sample_1)\n",
    "    x_2, y_2 = ecdf(perm_sample_2)\n",
    "\n",
    "    # Plot ECDFs of permutation sample\n",
    "    plt.plot(x_1, y_1, marker='.', linestyle='none',\n",
    "                 color='red', alpha=0.02)\n",
    "    plt.plot(x_2, y_2, marker='.', linestyle='none',\n",
    "                 color='blue', alpha=0.02)\n",
    "\n",
    "# Create and plot ECDFs from original data\n",
    "x_1, y_1 = ecdf(dem_share_PA)\n",
    "x_2, y_2 = ecdf(dem_share_OH)\n",
    "plt.plot(x_1, y_1, marker='.', linestyle='none', color='red', label='PA')\n",
    "plt.plot(x_2, y_2, marker='.', linestyle='none', color='blue', label='OH')\n",
    "\n",
    "# Label axes, set margin, and show plot\n",
    "plt.margins(0.02)\n",
    "plt.xlabel('percent of vote for Obama')\n",
    "plt.ylabel('ECDF')\n",
    "plt.legend()\n",
    "plt.show()"
   ]
  },
  {
   "cell_type": "markdown",
   "id": "0b251d5d",
   "metadata": {},
   "source": [
    "### For Sheffield Weather Station dataset\n",
    " - We will use the Sheffield Weather Station data again, this time considering the monthly rainfall in June (a dry month) and November (a wet month). \n",
    " - We expect these might be differently distributed, so we will take permutation samples to see how their ECDFs would look if they were identically distributed."
   ]
  },
  {
   "cell_type": "code",
   "execution_count": 12,
   "id": "088cbc1c",
   "metadata": {},
   "outputs": [],
   "source": [
    "df = pd.read_csv('sheffield_weather_station.csv', comment='#', delimiter='\\s+')\n",
    "df = df[df['yyyy'] != 2016]\n",
    "rain_june = df[df['mm']==6]['rain'].values\n",
    "rain_november = df[df['mm']==11]['rain'].values"
   ]
  },
  {
   "cell_type": "code",
   "execution_count": 13,
   "id": "dc4d8cb2",
   "metadata": {},
   "outputs": [
    {
     "data": {
      "image/png": "[encoded data removed]",
      "text/plain": [
       "<Figure size 720x720 with 1 Axes>"
      ]
     },
     "metadata": {},
     "output_type": "display_data"
    }
   ],
   "source": [
    "sns.set()\n",
    "plt.figure(figsize=(10, 10))\n",
    "\n",
    "for i in range(50):\n",
    "    # Generate permutation samples\n",
    "    perm_sample_1, perm_sample_2 = permutation_sample(rain_june, rain_november)\n",
    "\n",
    "\n",
    "    # Compute ECDFs\n",
    "    x_1, y_1 = ecdf(perm_sample_1)\n",
    "    x_2, y_2 = ecdf(perm_sample_2)\n",
    "\n",
    "    # Plot ECDFs of permutation sample\n",
    "    plt.plot(x_1, y_1, marker='.', linestyle='none',\n",
    "                 color='red', alpha=0.02)\n",
    "    plt.plot(x_2, y_2, marker='.', linestyle='none',\n",
    "                 color='blue', alpha=0.02)\n",
    "\n",
    "# Create and plot ECDFs from original data\n",
    "x_1, y_1 = ecdf(rain_june)\n",
    "x_2, y_2 = ecdf(rain_november)\n",
    "plt.plot(x_1, y_1, marker='.', linestyle='none', color='red', label='June')\n",
    "plt.plot(x_2, y_2, marker='.', linestyle='none', color='blue', label='November')\n",
    "\n",
    "# Label axes, set margin, and show plot\n",
    "plt.margins(0.02)\n",
    "plt.xlabel('monthly rainfall (mm)')\n",
    "plt.ylabel('ECDF')\n",
    "plt.show()"
   ]
  },
  {
   "cell_type": "markdown",
   "id": "e8dac9c6",
   "metadata": {},
   "source": [
    "Notice that the permutation samples ECDFs overlap and give a purple haze. None of the ECDFs from the permutation samples overlap with the observed data, suggesting that the hypothesis is not commensurate with the data. June and November rainfall are not identically distributed."
   ]
  },
  {
   "cell_type": "markdown",
   "id": "d902a7f5",
   "metadata": {},
   "source": [
    "### Generating permutation replicates"
   ]
  },
  {
   "cell_type": "code",
   "execution_count": 14,
   "id": "d7ef95cb",
   "metadata": {},
   "outputs": [],
   "source": [
    "def draw_perm_reps(data_1, data_2, func, size=1):\n",
    "    \"\"\"Generate multiple permutation replicates.\"\"\"\n",
    "\n",
    "    # Initialize array of replicates: perm_replicates\n",
    "    perm_replicates = np.empty(size)\n",
    "\n",
    "    for i in range(size):\n",
    "        # Generate permutation sample\n",
    "        perm_sample_1, perm_sample_2 = permutation_sample(data_1, data_2)\n",
    "\n",
    "        # Compute the test statistic\n",
    "        perm_replicates[i] = func(perm_sample_1, perm_sample_2)\n",
    "\n",
    "    return perm_replicates"
   ]
  },
  {
   "cell_type": "markdown",
   "id": "711b8dbd",
   "metadata": {},
   "source": [
    "### Look before you leap: EDA before hypothesis testing\n",
    " - Kleinteich and Gorb (Sci. Rep., 4, 5225, 2014) performed an interesting experiment with South American horned frogs. They held a plate connected to a force transducer, along with a bait fly, in front of them. They then measured the impact force and adhesive force of the frog's tongue when it struck the target.\n",
    "\n",
    " - Frog A is an adult and Frog B is a juvenile. The researchers measured the impact force of 20 strikes for each frog. In the next exercise, we will test the hypothesis that the two frogs have the same distribution of impact forces. But, remember, it is important to do EDA first! Let's make a bee swarm plot for the data. They are stored in a pandas DataFrame, df, where column ID is the identity of the frog and column impact_force is the impact force in Newtons (N)."
   ]
  },
  {
   "cell_type": "code",
   "execution_count": 15,
   "id": "32f4c605",
   "metadata": {},
   "outputs": [
    {
     "data": {
      "text/html": [
       "<div>\n",
       "<style scoped>\n",
       "    .dataframe tbody tr th:only-of-type {\n",
       "        vertical-align: middle;\n",
       "    }\n",
       "\n",
       "    .dataframe tbody tr th {\n",
       "        vertical-align: top;\n",
       "    }\n",
       "\n",
       "    .dataframe thead th {\n",
       "        text-align: right;\n",
       "    }\n",
       "</style>\n",
       "<table border=\"1\" class=\"dataframe\">\n",
       "  <thead>\n",
       "    <tr style=\"text-align: right;\">\n",
       "      <th></th>\n",
       "      <th>ID</th>\n",
       "      <th>impact_force</th>\n",
       "    </tr>\n",
       "  </thead>\n",
       "  <tbody>\n",
       "    <tr>\n",
       "      <th>20</th>\n",
       "      <td>A</td>\n",
       "      <td>1.612</td>\n",
       "    </tr>\n",
       "    <tr>\n",
       "      <th>21</th>\n",
       "      <td>A</td>\n",
       "      <td>0.605</td>\n",
       "    </tr>\n",
       "    <tr>\n",
       "      <th>22</th>\n",
       "      <td>A</td>\n",
       "      <td>0.327</td>\n",
       "    </tr>\n",
       "    <tr>\n",
       "      <th>23</th>\n",
       "      <td>A</td>\n",
       "      <td>0.946</td>\n",
       "    </tr>\n",
       "    <tr>\n",
       "      <th>24</th>\n",
       "      <td>A</td>\n",
       "      <td>0.541</td>\n",
       "    </tr>\n",
       "    <tr>\n",
       "      <th>25</th>\n",
       "      <td>A</td>\n",
       "      <td>1.539</td>\n",
       "    </tr>\n",
       "    <tr>\n",
       "      <th>26</th>\n",
       "      <td>A</td>\n",
       "      <td>0.529</td>\n",
       "    </tr>\n",
       "    <tr>\n",
       "      <th>27</th>\n",
       "      <td>A</td>\n",
       "      <td>0.628</td>\n",
       "    </tr>\n",
       "    <tr>\n",
       "      <th>28</th>\n",
       "      <td>A</td>\n",
       "      <td>1.453</td>\n",
       "    </tr>\n",
       "    <tr>\n",
       "      <th>29</th>\n",
       "      <td>A</td>\n",
       "      <td>0.297</td>\n",
       "    </tr>\n",
       "    <tr>\n",
       "      <th>30</th>\n",
       "      <td>A</td>\n",
       "      <td>0.703</td>\n",
       "    </tr>\n",
       "    <tr>\n",
       "      <th>31</th>\n",
       "      <td>A</td>\n",
       "      <td>0.269</td>\n",
       "    </tr>\n",
       "    <tr>\n",
       "      <th>32</th>\n",
       "      <td>A</td>\n",
       "      <td>0.751</td>\n",
       "    </tr>\n",
       "    <tr>\n",
       "      <th>33</th>\n",
       "      <td>A</td>\n",
       "      <td>0.245</td>\n",
       "    </tr>\n",
       "    <tr>\n",
       "      <th>34</th>\n",
       "      <td>A</td>\n",
       "      <td>1.182</td>\n",
       "    </tr>\n",
       "    <tr>\n",
       "      <th>35</th>\n",
       "      <td>A</td>\n",
       "      <td>0.515</td>\n",
       "    </tr>\n",
       "    <tr>\n",
       "      <th>36</th>\n",
       "      <td>A</td>\n",
       "      <td>0.435</td>\n",
       "    </tr>\n",
       "    <tr>\n",
       "      <th>37</th>\n",
       "      <td>A</td>\n",
       "      <td>0.383</td>\n",
       "    </tr>\n",
       "    <tr>\n",
       "      <th>38</th>\n",
       "      <td>A</td>\n",
       "      <td>0.457</td>\n",
       "    </tr>\n",
       "    <tr>\n",
       "      <th>39</th>\n",
       "      <td>A</td>\n",
       "      <td>0.730</td>\n",
       "    </tr>\n",
       "    <tr>\n",
       "      <th>60</th>\n",
       "      <td>B</td>\n",
       "      <td>0.172</td>\n",
       "    </tr>\n",
       "    <tr>\n",
       "      <th>61</th>\n",
       "      <td>B</td>\n",
       "      <td>0.142</td>\n",
       "    </tr>\n",
       "    <tr>\n",
       "      <th>62</th>\n",
       "      <td>B</td>\n",
       "      <td>0.037</td>\n",
       "    </tr>\n",
       "    <tr>\n",
       "      <th>63</th>\n",
       "      <td>B</td>\n",
       "      <td>0.453</td>\n",
       "    </tr>\n",
       "    <tr>\n",
       "      <th>64</th>\n",
       "      <td>B</td>\n",
       "      <td>0.355</td>\n",
       "    </tr>\n",
       "    <tr>\n",
       "      <th>65</th>\n",
       "      <td>B</td>\n",
       "      <td>0.022</td>\n",
       "    </tr>\n",
       "    <tr>\n",
       "      <th>66</th>\n",
       "      <td>B</td>\n",
       "      <td>0.502</td>\n",
       "    </tr>\n",
       "    <tr>\n",
       "      <th>67</th>\n",
       "      <td>B</td>\n",
       "      <td>0.273</td>\n",
       "    </tr>\n",
       "    <tr>\n",
       "      <th>68</th>\n",
       "      <td>B</td>\n",
       "      <td>0.720</td>\n",
       "    </tr>\n",
       "    <tr>\n",
       "      <th>69</th>\n",
       "      <td>B</td>\n",
       "      <td>0.582</td>\n",
       "    </tr>\n",
       "    <tr>\n",
       "      <th>70</th>\n",
       "      <td>B</td>\n",
       "      <td>0.198</td>\n",
       "    </tr>\n",
       "    <tr>\n",
       "      <th>71</th>\n",
       "      <td>B</td>\n",
       "      <td>0.198</td>\n",
       "    </tr>\n",
       "    <tr>\n",
       "      <th>72</th>\n",
       "      <td>B</td>\n",
       "      <td>0.597</td>\n",
       "    </tr>\n",
       "    <tr>\n",
       "      <th>73</th>\n",
       "      <td>B</td>\n",
       "      <td>0.516</td>\n",
       "    </tr>\n",
       "    <tr>\n",
       "      <th>74</th>\n",
       "      <td>B</td>\n",
       "      <td>0.815</td>\n",
       "    </tr>\n",
       "    <tr>\n",
       "      <th>75</th>\n",
       "      <td>B</td>\n",
       "      <td>0.402</td>\n",
       "    </tr>\n",
       "    <tr>\n",
       "      <th>76</th>\n",
       "      <td>B</td>\n",
       "      <td>0.605</td>\n",
       "    </tr>\n",
       "    <tr>\n",
       "      <th>77</th>\n",
       "      <td>B</td>\n",
       "      <td>0.711</td>\n",
       "    </tr>\n",
       "    <tr>\n",
       "      <th>78</th>\n",
       "      <td>B</td>\n",
       "      <td>0.614</td>\n",
       "    </tr>\n",
       "    <tr>\n",
       "      <th>79</th>\n",
       "      <td>B</td>\n",
       "      <td>0.468</td>\n",
       "    </tr>\n",
       "  </tbody>\n",
       "</table>\n",
       "</div>"
      ],
      "text/plain": [
       "   ID  impact_force\n",
       "20  A         1.612\n",
       "21  A         0.605\n",
       "22  A         0.327\n",
       "23  A         0.946\n",
       "24  A         0.541\n",
       "25  A         1.539\n",
       "26  A         0.529\n",
       "27  A         0.628\n",
       "28  A         1.453\n",
       "29  A         0.297\n",
       "30  A         0.703\n",
       "31  A         0.269\n",
       "32  A         0.751\n",
       "33  A         0.245\n",
       "34  A         1.182\n",
       "35  A         0.515\n",
       "36  A         0.435\n",
       "37  A         0.383\n",
       "38  A         0.457\n",
       "39  A         0.730\n",
       "60  B         0.172\n",
       "61  B         0.142\n",
       "62  B         0.037\n",
       "63  B         0.453\n",
       "64  B         0.355\n",
       "65  B         0.022\n",
       "66  B         0.502\n",
       "67  B         0.273\n",
       "68  B         0.720\n",
       "69  B         0.582\n",
       "70  B         0.198\n",
       "71  B         0.198\n",
       "72  B         0.597\n",
       "73  B         0.516\n",
       "74  B         0.815\n",
       "75  B         0.402\n",
       "76  B         0.605\n",
       "77  B         0.711\n",
       "78  B         0.614\n",
       "79  B         0.468"
      ]
     },
     "execution_count": 15,
     "metadata": {},
     "output_type": "execute_result"
    }
   ],
   "source": [
    "df = pd.read_csv('frog_tongue.csv', comment='#')\n",
    "df = df[df['ID'].isin(['II', 'IV'])][['ID', 'impact force (mN)']]\n",
    "df['ID'] = df['ID'].replace({'II': 'A', 'IV': 'B'})\n",
    "df.rename(columns={'impact force (mN)': 'impact_force'}, inplace=True)\n",
    "df['impact_force'] = df['impact_force']/1000\n",
    "df"
   ]
  },
  {
   "cell_type": "code",
   "execution_count": 16,
   "id": "909e5349",
   "metadata": {},
   "outputs": [
    {
     "data": {
      "image/png": "[encoded data removed]",
      "text/plain": [
       "<Figure size 720x720 with 1 Axes>"
      ]
     },
     "metadata": {},
     "output_type": "display_data"
    }
   ],
   "source": [
    "# Make bee swarm plot\n",
    "plt.figure(figsize=(10, 10))\n",
    "sns.swarmplot(x='ID', y='impact_force', data=df)\n",
    "\n",
    "# Label axes\n",
    "plt.xlabel('frog')\n",
    "plt.ylabel('impact force (N)')\n",
    "\n",
    "# Show the plot\n",
    "plt.show()"
   ]
  },
  {
   "cell_type": "markdown",
   "id": "35620880",
   "metadata": {},
   "source": [
    "### Permutation test on frog data\n",
    " - The average strike force of Frog A was 0.71 Newtons (N), and that of Frog B was 0.42 N for a difference of 0.29 N. It is possible the frogs strike with the same force and this observed difference was by chance. You will compute the probability of getting at least a 0.29 N difference in mean strike force under the hypothesis that the distributions of strike forces for the two frogs are identical. We use a permutation test with a test statistic of the difference of means to test this hypothesis."
   ]
  },
  {
   "cell_type": "code",
   "execution_count": 17,
   "id": "300d275e",
   "metadata": {},
   "outputs": [
    {
     "data": {
      "text/plain": [
       "array([1.612, 0.605, 0.327, 0.946, 0.541, 1.539, 0.529, 0.628, 1.453,\n",
       "       0.297, 0.703, 0.269, 0.751, 0.245, 1.182, 0.515, 0.435, 0.383,\n",
       "       0.457, 0.73 ])"
      ]
     },
     "execution_count": 17,
     "metadata": {},
     "output_type": "execute_result"
    }
   ],
   "source": [
    "force_a = df[df['ID']=='A']['impact_force'].values\n",
    "force_a"
   ]
  },
  {
   "cell_type": "code",
   "execution_count": 18,
   "id": "0ea2f4ae",
   "metadata": {},
   "outputs": [
    {
     "data": {
      "text/plain": [
       "array([0.172, 0.142, 0.037, 0.453, 0.355, 0.022, 0.502, 0.273, 0.72 ,\n",
       "       0.582, 0.198, 0.198, 0.597, 0.516, 0.815, 0.402, 0.605, 0.711,\n",
       "       0.614, 0.468])"
      ]
     },
     "execution_count": 18,
     "metadata": {},
     "output_type": "execute_result"
    }
   ],
   "source": [
    "force_b = df[df['ID']=='B']['impact_force'].values\n",
    "force_b"
   ]
  },
  {
   "cell_type": "code",
   "execution_count": 19,
   "id": "1cc6e97a",
   "metadata": {},
   "outputs": [
    {
     "name": "stdout",
     "output_type": "stream",
     "text": [
      "p-value = 0.0048\n"
     ]
    }
   ],
   "source": [
    "def diff_of_means(data_1, data_2):\n",
    "    \"\"\"Difference in means of two arrays.\"\"\"\n",
    "\n",
    "    # The difference of means of data_1, data_2: diff\n",
    "    diff = np.mean(data_1) - np.mean(data_2)\n",
    "\n",
    "    return diff\n",
    "\n",
    "# Compute difference of mean impact force from experiment: empirical_diff_means\n",
    "empirical_diff_means = diff_of_means(force_a, force_b)\n",
    "\n",
    "# Draw 10,000 permutation replicates: perm_replicates\n",
    "perm_replicates = draw_perm_reps(force_a, force_b,\n",
    "                                 diff_of_means, size=10000)\n",
    "\n",
    "# Compute p-value: p\n",
    "p = np.sum(perm_replicates >= empirical_diff_means) / len(perm_replicates)\n",
    "\n",
    "# Print the result\n",
    "print('p-value =', p)"
   ]
  },
  {
   "cell_type": "markdown",
   "id": "6352204f",
   "metadata": {},
   "source": [
    "### Michelson and Newcomb: speed of light pioneers\n",
    " - Michelson: 299,852 km/s (we have 100 data.)\n",
    " - Newcomb: 299,860 km/s (we only have one data, mean.)\n",
    " \n",
    "### Null hypothesis\n",
    " - The true mean speed of light in Michelson’s experiments was actually Newcomb's reported value"
   ]
  },
  {
   "cell_type": "markdown",
   "id": "48f70077",
   "metadata": {},
   "source": [
    "### Shifting the Michelson data"
   ]
  },
  {
   "cell_type": "code",
   "execution_count": 20,
   "id": "c792efbc",
   "metadata": {},
   "outputs": [],
   "source": [
    "df = pd.read_csv('michelson_speed_of_light.csv', index_col=0)\n",
    "michelson_speed_of_light = df['velocity of light in air (km/s)'].values"
   ]
  },
  {
   "cell_type": "code",
   "execution_count": 21,
   "id": "ca532146",
   "metadata": {},
   "outputs": [
    {
     "data": {
      "text/plain": [
       "299860.0000000001"
      ]
     },
     "execution_count": 21,
     "metadata": {},
     "output_type": "execute_result"
    }
   ],
   "source": [
    "newcomb_value = 299860  # km/s\n",
    "\n",
    "# MIicehson's data with same mean as Newcomb\n",
    "michelson_shifted = michelson_speed_of_light - np.mean(michelson_speed_of_light) + newcomb_value\n",
    "\n",
    "np.mean(michelson_shifted)"
   ]
  },
  {
   "cell_type": "markdown",
   "id": "8beda794",
   "metadata": {},
   "source": [
    "### Calculating the test statistic"
   ]
  },
  {
   "cell_type": "code",
   "execution_count": 22,
   "id": "df201412",
   "metadata": {},
   "outputs": [],
   "source": [
    "def diff_from_newcomb(data, newcomb_value=299860):\n",
    "    return np.mean(data) - newcomb_value"
   ]
  },
  {
   "cell_type": "code",
   "execution_count": 23,
   "id": "90d77417",
   "metadata": {},
   "outputs": [
    {
     "data": {
      "text/plain": [
       "-7.599999999976717"
      ]
     },
     "execution_count": 23,
     "metadata": {},
     "output_type": "execute_result"
    }
   ],
   "source": [
    "diff_observed = diff_from_newcomb(michelson_speed_of_light)\n",
    "diff_observed"
   ]
  },
  {
   "cell_type": "markdown",
   "id": "c8547e78",
   "metadata": {},
   "source": [
    "### Computing the p-value"
   ]
  },
  {
   "cell_type": "code",
   "execution_count": 24,
   "id": "191d5ed4",
   "metadata": {},
   "outputs": [],
   "source": [
    "def bootstrap_replicate_1d(data, func):\n",
    "    \"\"\"Generate bootstrap replicate of 1D data.\"\"\"\n",
    "    bs_sample = np.random.choice(data, len(data))\n",
    "    return func(bs_sample)"
   ]
  },
  {
   "cell_type": "code",
   "execution_count": 25,
   "id": "6dddd5ff",
   "metadata": {},
   "outputs": [],
   "source": [
    "def draw_bs_reps(data, func, size=1):\n",
    "    \"\"\"Draw bootstrap replicates.\"\"\"\n",
    "\n",
    "    # Initialize array of replicates: bs_replicates\n",
    "    bs_replicates = np.empty(size)\n",
    "\n",
    "    # Generate replicates\n",
    "    for i in range(size):\n",
    "        bs_replicates[i] = bootstrap_replicate_1d(data, func)\n",
    "\n",
    "    return bs_replicates"
   ]
  },
  {
   "cell_type": "code",
   "execution_count": 26,
   "id": "32329021",
   "metadata": {},
   "outputs": [
    {
     "data": {
      "text/plain": [
       "0.166"
      ]
     },
     "execution_count": 26,
     "metadata": {},
     "output_type": "execute_result"
    }
   ],
   "source": [
    "bs_replicates = draw_bs_reps(michelson_shifted, diff_from_newcomb, 10000)\n",
    "p_value = np.sum(bs_replicates <= diff_observed) / 10000\n",
    "p_value"
   ]
  },
  {
   "cell_type": "markdown",
   "id": "ba46eb6b",
   "metadata": {},
   "source": [
    "It's quite possible that the Newcomb and Michelson did not really have fundamental differences in their measurements."
   ]
  },
  {
   "cell_type": "markdown",
   "id": "08db6b47",
   "metadata": {},
   "source": [
    "### One sample test\n",
    " - compare one set of data to a single number (this case)\n",
    "    \n",
    "### Two sample test\n",
    " - Compare two sets of data"
   ]
  },
  {
   "cell_type": "markdown",
   "id": "85c61cc8",
   "metadata": {},
   "source": [
    "### A one-sample bootstrap hypothesis test\n",
    " - Another juvenile frog was studied, Frog C, and you want to see if Frog B and Frog C have similar impact forces. Unfortunately, you do not have Frog C's impact forces available, but you know they have a mean of 0.55 N. Because you don't have the original data, you cannot do a permutation test, and you cannot assess the hypothesis that the forces from Frog B and Frog C come from the same distribution. You will therefore test another, less restrictive hypothesis: The mean strike force of Frog B is equal to that of Frog C.\n",
    "\n",
    " - To set up the bootstrap hypothesis test, you will take the mean as our test statistic. Remember, your goal is to calculate the probability of getting a mean impact force less than or equal to what was observed for Frog B if the hypothesis that the true mean of Frog B's impact forces is equal to that of Frog C is true. You first translate all of the data of Frog B such that the mean is 0.55 N. This involves adding the mean force of Frog C and subtracting the mean force of Frog B from each measurement of Frog B. This leaves other properties of Frog B's distribution, such as the variance, unchanged."
   ]
  },
  {
   "cell_type": "code",
   "execution_count": 27,
   "id": "9caccf5e",
   "metadata": {},
   "outputs": [
    {
     "name": "stdout",
     "output_type": "stream",
     "text": [
      "p =  0.0047\n"
     ]
    }
   ],
   "source": [
    "# Make an array of translated impact forces: translated_force_b\n",
    "translated_force_b = force_b - np.mean(force_b) + 0.55\n",
    "\n",
    "# Take bootstrap replicates of Frog B's translated impact forces: bs_replicates\n",
    "bs_replicates = draw_bs_reps(translated_force_b, np.mean, 10000)\n",
    "\n",
    "# Compute fraction of replicates that are less than the observed Frog B force: p\n",
    "p = np.sum(bs_replicates <= np.mean(force_b)) / 10000\n",
    "\n",
    "# Print the p-value\n",
    "print('p = ', p)"
   ]
  },
  {
   "cell_type": "markdown",
   "id": "d7a6f99c",
   "metadata": {},
   "source": [
    "The low p-value suggests that the null hypothesis that Frog B and Frog C have the same mean impact force is false."
   ]
  },
  {
   "cell_type": "markdown",
   "id": "04ce48ec",
   "metadata": {},
   "source": [
    "### A two-sample bootstrap hypothesis test for difference of means\n",
    " - We now want to test the hypothesis that Frog A and Frog B have the same mean impact force, but not necessarily the same distribution, which is also impossible with a permutation test.\n",
    "\n",
    " - To do the two-sample bootstrap test, we shift both arrays to have the same mean, since we are simulating the hypothesis that their means are, in fact, equal. We then draw bootstrap samples out of the shifted arrays and compute the difference in means. This constitutes a bootstrap replicate, and we generate many of them. The p-value is the fraction of replicates with a difference in means greater than or equal to what was observed.\n",
    "\n",
    " - The objects forces_concat and empirical_diff_means are already in your namespace."
   ]
  },
  {
   "cell_type": "code",
   "execution_count": 28,
   "id": "829fed95",
   "metadata": {},
   "outputs": [
    {
     "data": {
      "text/plain": [
       "0.28825000000000006"
      ]
     },
     "execution_count": 28,
     "metadata": {},
     "output_type": "execute_result"
    }
   ],
   "source": [
    "forces_concat = np.concatenate((force_a, force_b))\n",
    "empirical_diff_means = np.mean(force_a) - np.mean(force_b)\n",
    "empirical_diff_means"
   ]
  },
  {
   "cell_type": "code",
   "execution_count": 29,
   "id": "d3c2b917",
   "metadata": {},
   "outputs": [
    {
     "name": "stdout",
     "output_type": "stream",
     "text": [
      "p-value = 0.004\n"
     ]
    }
   ],
   "source": [
    "# Compute mean of all forces: mean_force\n",
    "mean_force = np.mean(forces_concat)\n",
    "\n",
    "# Generate shifted arrays\n",
    "force_a_shifted = force_a - np.mean(force_a) + mean_force\n",
    "force_b_shifted = force_b - np.mean(force_b) + mean_force \n",
    "\n",
    "# Compute 10,000 bootstrap replicates from shifted arrays\n",
    "bs_replicates_a = draw_bs_reps(force_a_shifted, np.mean, 10000)\n",
    "bs_replicates_b = draw_bs_reps(force_b_shifted, np.mean, 10000)\n",
    "\n",
    "# Get replicates of difference of means: bs_replicates\n",
    "bs_replicates = bs_replicates_a - bs_replicates_b\n",
    "\n",
    "# Compute and print p-value: p\n",
    "p = np.sum(bs_replicates >= empirical_diff_means) / 10000\n",
    "print('p-value =', p)"
   ]
  },
  {
   "cell_type": "code",
   "execution_count": null,
   "id": "f8528e94",
   "metadata": {},
   "outputs": [],
   "source": []
  }
 ],
 "metadata": {
  "kernelspec": {
   "display_name": "Python 3 (ipykernel)",
   "language": "python",
   "name": "python3"
  },
  "language_info": {
   "codemirror_mode": {
    "name": "ipython",
    "version": 3
   },
   "file_extension": ".py",
   "mimetype": "text/x-python",
   "name": "python",
   "nbconvert_exporter": "python",
   "pygments_lexer": "ipython3",
   "version": "3.8.12"
  }
 },
 "nbformat": 4,
 "nbformat_minor": 5
}
