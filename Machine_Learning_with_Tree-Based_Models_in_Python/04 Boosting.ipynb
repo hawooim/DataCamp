{
 "cells": [
  {
   "cell_type": "code",
   "execution_count": 1,
   "id": "8d9ab99c",
   "metadata": {},
   "outputs": [],
   "source": [
    "import pandas as pd\n",
    "import numpy as np\n",
    "import matplotlib.pyplot as plt\n",
    "import seaborn as sns"
   ]
  },
  {
   "cell_type": "markdown",
   "id": "72488808",
   "metadata": {},
   "source": [
    "## AdaBoost"
   ]
  },
  {
   "cell_type": "markdown",
   "id": "60c370b8",
   "metadata": {},
   "source": [
    "### Boosting\n",
    "- Boosting: ensemble method combining several weak learners to form a strong learner.\n",
    "- Weak learner: model doing slightly better than random guessing\n",
    "- Example of weak learner: Decision stump (CART whos maximum depth is 1)\n",
    "- Train an ensemble of predictors sequentially.\n",
    "- Each predictor tries to correct its predecessor.\n",
    "- Most popular boosting methods:\n",
    " - AdaBoost,\n",
    " - Gradient Boosting"
   ]
  },
  {
   "cell_type": "markdown",
   "id": "8b42aa76",
   "metadata": {},
   "source": [
    "### AdaBoost\n",
    " - Stands for <b>Ada</b>ptive <b>Boost</b>ing.\n",
    " - Each predictor pays more attenton to the instances wrongly predicted by its predecessor\n",
    " - Achieved by changing the weights of training instances.\n",
    " - Each predictor is assigned a coefficient alpha.\n",
    " - alpha depends on the predictor's training error."
   ]
  },
  {
   "cell_type": "markdown",
   "id": "ba11ec8c",
   "metadata": {},
   "source": [
    "### AdaBoost: Prediction\n",
    "- Classification:\n",
    " - Weighted majority voting\n",
    " - In sklearn: AdaBoostClassifier\n",
    "- Reression:\n",
    " - Weighted average\n",
    " - in sklearn: AdaBoostRegressor"
   ]
  },
  {
   "cell_type": "markdown",
   "id": "40f7fb8d",
   "metadata": {},
   "source": [
    "### AdaBoost Classification in sklearn (Breast Cancer dataset)"
   ]
  },
  {
   "cell_type": "code",
   "execution_count": 2,
   "id": "5e0c593a",
   "metadata": {},
   "outputs": [],
   "source": [
    "wbc = pd.read_csv('wbc.csv').drop('Unnamed: 32', axis=1)\n",
    "y = wbc['diagnosis']\n",
    "X = wbc.drop(['id', 'diagnosis'], axis=1)"
   ]
  },
  {
   "cell_type": "code",
   "execution_count": 3,
   "id": "db8e8c16",
   "metadata": {},
   "outputs": [],
   "source": [
    "# Import models and utility functions\n",
    "from sklearn.model_selection import train_test_split\n",
    "from sklearn.metrics import roc_auc_score\n",
    "from sklearn.ensemble import AdaBoostClassifier\n",
    "from sklearn.tree import DecisionTreeClassifier\n",
    "\n",
    "# Set seed for reproducibility\n",
    "SEED = 1\n",
    "\n",
    "# Split data into 70% train and 30% test\n",
    "X_train, X_test, y_train, y_test = train_test_split(X, y, test_size=0.3, stratify=y, random_state=SEED)"
   ]
  },
  {
   "cell_type": "code",
   "execution_count": 4,
   "id": "f63387ea",
   "metadata": {},
   "outputs": [
    {
     "name": "stdout",
     "output_type": "stream",
     "text": [
      "ROC AUC score: 0.99\n"
     ]
    }
   ],
   "source": [
    "# Instantiate a classification-tree 'dt'\n",
    "dt = DecisionTreeClassifier(max_depth=1, random_state=SEED)\n",
    "\n",
    "# Instantiate an AdaBoost classifier 'adab_clf'\n",
    "adab_clf = AdaBoostClassifier(base_estimator=dt, n_estimators=100)\n",
    "\n",
    "# Fit 'adb_clf' to the training set\n",
    "adab_clf.fit(X_train, y_train)\n",
    "\n",
    "# Predict the test set probabilities of positive class\n",
    "y_pred_proba = adab_clf.predict_proba(X_test)[:, 1]\n",
    "\n",
    "# Evaluate test-set roc_auc_score\n",
    "adb_clf_roc_auc_score = roc_auc_score(y_test, y_pred_proba)\n",
    "\n",
    "# Print adb_clf_roc_auc_score\n",
    "print('ROC AUC score: {:.2f}'.format(adb_clf_roc_auc_score))"
   ]
  },
  {
   "cell_type": "markdown",
   "id": "795a7bd4",
   "metadata": {},
   "source": [
    "### Exercise: Define the AdaBoost classifier\n",
    "In the following exercises you'll revisit the Indian Liver Patient dataset which was introduced in a previous chapter. Your task is to predict whether a patient suffers from a liver disease using 10 features including Albumin, age and gender. However, this time, you'll be training an AdaBoost ensemble to perform the classification task. In addition, given that this dataset is imbalanced, you'll be using the ROC AUC score as a metric instead of accuracy.\n",
    "\n",
    "As a first step, you'll start by instantiating an AdaBoost classifier."
   ]
  },
  {
   "cell_type": "code",
   "execution_count": 5,
   "id": "154e7248",
   "metadata": {},
   "outputs": [],
   "source": [
    "liver = pd.read_csv('indian_liver_patient.csv')\n",
    "liver.dropna(axis=0, inplace=True)\n",
    "liver['Is_male'] = liver['Gender'].astype('category').cat.codes\n",
    "X = liver.drop(['Dataset', 'Gender'] , axis=1)\n",
    "y = liver['Dataset']\n",
    "\n",
    "X_train, X_test, y_train, y_test = train_test_split(X, y, test_size=0.2, random_state=SEED)"
   ]
  },
  {
   "cell_type": "code",
   "execution_count": 6,
   "id": "92f270b8",
   "metadata": {},
   "outputs": [],
   "source": [
    "# Import DecisionTreeClassifier\n",
    "from sklearn.tree import DecisionTreeClassifier\n",
    "\n",
    "# Import AdaBoostClassifier\n",
    "from sklearn.ensemble import AdaBoostClassifier\n",
    "\n",
    "# Instantiate dt\n",
    "dt = DecisionTreeClassifier(max_depth=2, random_state=1)\n",
    "\n",
    "# Instantiate ada\n",
    "ada = AdaBoostClassifier(base_estimator=dt, n_estimators=180, random_state=1)"
   ]
  },
  {
   "cell_type": "markdown",
   "id": "dbd3b374",
   "metadata": {},
   "source": [
    "Well done! Next comes training ada and evaluating the probability of obtaining the positive class in the test set."
   ]
  },
  {
   "cell_type": "markdown",
   "id": "45d4e403",
   "metadata": {},
   "source": [
    "### Exercise: Train the AdaBoost classifier\n",
    "Now that you've instantiated the AdaBoost classifier ada, it's time train it. You will also predict the probabilities of obtaining the positive class in the test set. This can be done as follows:\n",
    "\n",
    "Once the classifier ada is trained, call the .predict_proba() method by passing X_test as a parameter and extract these probabilities by slicing all the values in the second column as follows:\n",
    "\n",
    "ada.predict_proba(X_test)[:,1]\n",
    "\n",
    "The Indian Liver dataset is processed for you and split into 80% train and 20% test. Feature matrices X_train and X_test, as well as the arrays of labels y_train and y_test are available in your workspace. In addition, we have also loaded the instantiated model ada from the previous exercise."
   ]
  },
  {
   "cell_type": "code",
   "execution_count": 7,
   "id": "aa817ac7",
   "metadata": {},
   "outputs": [],
   "source": [
    "# Fit ada to the training set\n",
    "ada.fit(X_train, y_train)\n",
    "\n",
    "# Compute the probabilities of obtaining the positive class\n",
    "y_pred_proba = ada.predict_proba(X_test)[:, 1]"
   ]
  },
  {
   "cell_type": "markdown",
   "id": "b1e61955",
   "metadata": {},
   "source": [
    "Great work! Next, you'll evaluate ada's ROC AUC score."
   ]
  },
  {
   "cell_type": "markdown",
   "id": "73dea722",
   "metadata": {},
   "source": [
    "### Exercise: Evaluate the AdaBoost classifier\n",
    "Now that you're done training ada and predicting the probabilities of obtaining the positive class in the test set, it's time to evaluate ada's ROC AUC score. Recall that the ROC AUC score of a binary classifier can be determined using the roc_auc_score() function from sklearn.metrics.\n",
    "\n",
    "The arrays y_test and y_pred_proba that you computed in the previous exercise are available in your workspace."
   ]
  },
  {
   "cell_type": "code",
   "execution_count": 8,
   "id": "b0d614cb",
   "metadata": {},
   "outputs": [
    {
     "name": "stdout",
     "output_type": "stream",
     "text": [
      "ROC AUC score: 0.63\n"
     ]
    }
   ],
   "source": [
    "# Import roc_auc_score\n",
    "from sklearn.metrics import roc_auc_score\n",
    "\n",
    "# Evaluate test-set roc_auc_score\n",
    "ada_roc_auc = roc_auc_score(y_test, y_pred_proba)\n",
    "\n",
    "# Print roc_auc_score\n",
    "print('ROC AUC score: {:.2f}'.format(ada_roc_auc))"
   ]
  },
  {
   "cell_type": "markdown",
   "id": "ee55705c",
   "metadata": {},
   "source": [
    "Not bad! This untuned AdaBoost classifier achieved a ROC AUC score of ~~~0.71~~0.63!"
   ]
  },
  {
   "cell_type": "markdown",
   "id": "6a101f3e",
   "metadata": {},
   "source": [
    "## Gradient Boosting (GB)"
   ]
  },
  {
   "cell_type": "markdown",
   "id": "e1148e01",
   "metadata": {},
   "source": [
    "### Gradient Boosted Trees\n",
    "- Sequential correction of predecessor's errors\n",
    "- Does not tweak the weights of training instances.\n",
    "- Fi each predictor is trained using its predecessor's residual errors as labels\n",
    "- Gradient Boosted Trees: a CART is used as a base learner."
   ]
  },
  {
   "cell_type": "markdown",
   "id": "57a548dc",
   "metadata": {},
   "source": [
    "### Gradient Boosted Trees: Prediction\n",
    "- Regresssion\n",
    " - in sklearn: GradientBoostingRegressor\n",
    "- Classification\n",
    " - in sklearn: GradientBoostingClassifier"
   ]
  },
  {
   "cell_type": "markdown",
   "id": "f18f0a56",
   "metadata": {},
   "source": [
    "### Gradient Boosting in sklearn (auto dataset)"
   ]
  },
  {
   "cell_type": "code",
   "execution_count": 9,
   "id": "55f6dcb5",
   "metadata": {},
   "outputs": [],
   "source": [
    "auto = pd.read_csv('auto.csv')\n",
    "auto['origin'] = auto['origin'].astype('category')\n",
    "dummies = pd.get_dummies(auto['origin'], prefix='origin')\n",
    "auto = pd.concat([auto, dummies], axis=1)\n",
    "\n",
    "X = auto.drop(['mpg', 'origin'], axis=1)\n",
    "y = auto['mpg']"
   ]
  },
  {
   "cell_type": "code",
   "execution_count": 10,
   "id": "a4d89462",
   "metadata": {},
   "outputs": [
    {
     "name": "stdout",
     "output_type": "stream",
     "text": [
      "Test set RMSE: 4.01\n"
     ]
    }
   ],
   "source": [
    "# Import models and utility functions\n",
    "from sklearn.ensemble import GradientBoostingRegressor\n",
    "from sklearn.model_selection import train_test_split\n",
    "from sklearn.metrics import mean_squared_error as MSE\n",
    "\n",
    "# Set seed for reproducibility\n",
    "SEED = 1\n",
    "\n",
    "# Split dataset into 70% train and 30% test\n",
    "X_train, X_test, y_train, y_test = train_test_split(X, y, test_size=0.3, random_state=SEED)\n",
    "\n",
    "# Instantiate a GradientBoostingRegressor 'gbt'\n",
    "gbt = GradientBoostingRegressor(n_estimators=300, max_depth=1, random_state=SEED)\n",
    "\n",
    "# Fit 'gbt' to the training set\n",
    "gbt.fit(X_train, y_train)\n",
    "\n",
    "# Predict the test set labels\n",
    "y_pred = gbt.predict(X_test)\n",
    "\n",
    "# Evaluate the test set RMSE\n",
    "rmse_test = MSE(y_test, y_pred)**(1/2)\n",
    "\n",
    "# Print the test set RMSE\n",
    "print('Test set RMSE: {:.2f}'.format(rmse_test))"
   ]
  },
  {
   "cell_type": "markdown",
   "id": "cef115ff",
   "metadata": {},
   "source": [
    "### Exercise: Define the GB regressor\n",
    "You'll now revisit the Bike Sharing Demand dataset that was introduced in the previous chapter. Recall that your task is to predict the bike rental demand using historical weather data from the Capital Bikeshare program in Washington, D.C.. For this purpose, you'll be using a gradient boosting regressor.\n",
    "\n",
    "As a first step, you'll start by instantiating a gradient boosting regressor which you will train in the next exercise."
   ]
  },
  {
   "cell_type": "code",
   "execution_count": 11,
   "id": "b51ab0d0",
   "metadata": {},
   "outputs": [],
   "source": [
    "bikes = pd.read_csv('bikes.csv')\n",
    "y = bikes['cnt']\n",
    "X = bikes.drop('cnt', axis=1)\n",
    "\n",
    "X_train, X_test, y_train, y_test = train_test_split(X, y, test_size=0.2, random_state=2)"
   ]
  },
  {
   "cell_type": "code",
   "execution_count": 12,
   "id": "3316d214",
   "metadata": {},
   "outputs": [],
   "source": [
    "# Import GradientBoostingRegressor\n",
    "from sklearn.ensemble import GradientBoostingRegressor\n",
    "\n",
    "# Instantiate gb\n",
    "gb = GradientBoostingRegressor(max_depth=4, n_estimators=200, random_state=2)"
   ]
  },
  {
   "cell_type": "markdown",
   "id": "55cbe616",
   "metadata": {},
   "source": [
    "Awesome! Time to train the regressor and predict test set labels."
   ]
  },
  {
   "cell_type": "markdown",
   "id": "34799605",
   "metadata": {},
   "source": [
    "### Exercise: Train the GB regressor\n",
    "You'll now train the gradient boosting regressor gb that you instantiated in the previous exercise and predict test set labels.\n",
    "\n",
    "The dataset is split into 80% train and 20% test. Feature matrices X_train and X_test, as well as the arrays y_train and y_test are available in your workspace. In addition, we have also loaded the model instance gb that you defined in the previous exercise."
   ]
  },
  {
   "cell_type": "code",
   "execution_count": 13,
   "id": "5daa5ea4",
   "metadata": {},
   "outputs": [],
   "source": [
    "# Fit gb to the training set\n",
    "gb.fit(X_train, y_train)\n",
    "\n",
    "# Predict test set labels\n",
    "y_pred = gb.predict(X_test)"
   ]
  },
  {
   "cell_type": "markdown",
   "id": "b931d5fc",
   "metadata": {},
   "source": [
    "Great work! Time to evaluate the test set RMSE!"
   ]
  },
  {
   "cell_type": "markdown",
   "id": "776816f7",
   "metadata": {},
   "source": [
    "### Exercise: Evaluate the GB regressor\n",
    "Now that the test set predictions are available, you can use them to evaluate the test set Root Mean Squared Error (RMSE) of gb.\n",
    "\n",
    "y_test and predictions y_pred are available in your workspace."
   ]
  },
  {
   "cell_type": "code",
   "execution_count": 14,
   "id": "d659c996",
   "metadata": {},
   "outputs": [
    {
     "name": "stdout",
     "output_type": "stream",
     "text": [
      "Test set RMSE of gb: 49.537\n"
     ]
    }
   ],
   "source": [
    "# Import mean_squared_error as MSE\n",
    "from sklearn.metrics import mean_squared_error as MSE\n",
    "\n",
    "# Compute MSE\n",
    "mse_test = MSE(y_test, y_pred)\n",
    "\n",
    "# Compute RMSE\n",
    "rmse_test = mse_test**(1/2)\n",
    "\n",
    "# Print RMSE\n",
    "print('Test set RMSE of gb: {:.3f}'.format(rmse_test))"
   ]
  },
  {
   "cell_type": "markdown",
   "id": "7af9223a",
   "metadata": {},
   "source": [
    "Great work!"
   ]
  },
  {
   "cell_type": "markdown",
   "id": "3f60f611",
   "metadata": {},
   "source": [
    "## Stochastic Gradient Boosting (SGB)"
   ]
  },
  {
   "cell_type": "markdown",
   "id": "37d296a4",
   "metadata": {},
   "source": [
    "### Gradient Boosting: Cons\n",
    "- GB involves an exhaustive search procedure\n",
    "- Each CART is trained to find the best splot points and features\n",
    "- May lead to CARTs using the same split points and maybe the same features\n",
    "\n",
    "### Stochastic Gradient Boosting\n",
    "- Each tree is trained on a random subset of rows of hte training data\n",
    "- The sampled instances (40%-80% of the training set) are sampled without replacement\n",
    "- Features are sampled (without replacement) when choosing split points\n",
    "- Result: further ensemble diversity\n",
    "- Effect: adding further variance to the ensemble of trees"
   ]
  },
  {
   "cell_type": "markdown",
   "id": "60d9c736",
   "metadata": {},
   "source": [
    "### Stochastic Gradient Boosting in sklearn (auto dataset)"
   ]
  },
  {
   "cell_type": "code",
   "execution_count": 15,
   "id": "4c74fed7",
   "metadata": {},
   "outputs": [],
   "source": [
    "auto = pd.read_csv('auto.csv')\n",
    "auto['origin'] = auto['origin'].astype('category')\n",
    "dummies = pd.get_dummies(auto['origin'], prefix='origin')\n",
    "auto = pd.concat([auto, dummies], axis=1)\n",
    "\n",
    "X = auto.drop(['mpg', 'origin'], axis=1)\n",
    "y = auto['mpg']"
   ]
  },
  {
   "cell_type": "code",
   "execution_count": 16,
   "id": "a4b6f709",
   "metadata": {},
   "outputs": [
    {
     "name": "stdout",
     "output_type": "stream",
     "text": [
      "Test set RMSE: 3.95\n"
     ]
    }
   ],
   "source": [
    "# Import models and utility functions\n",
    "from sklearn.ensemble import GradientBoostingRegressor\n",
    "from sklearn.model_selection import train_test_split\n",
    "from sklearn.metrics import mean_squared_error as MSE\n",
    "\n",
    "# Set seed for reproducibility\n",
    "SEED = 1\n",
    "\n",
    "# Split dataset into 70% train and 30% test\n",
    "X_train, X_test, y_train, y_test = train_test_split(X, y, test_size=0.3, random_state=SEED)\n",
    "\n",
    "# Instantiate a stochastic GradientBoostingRegressor 'sgbt'\n",
    "sgbt = GradientBoostingRegressor(max_depth=1, subsample=0.8, max_features=0.2, n_estimators=300, random_state=SEED)\n",
    "\n",
    "# Fit 'sgbt' to the training set\n",
    "sgbt.fit(X_train, y_train)\n",
    "\n",
    "# Predict the test set labels\n",
    "y_pred = sgbt.predict(X_test)\n",
    "\n",
    "# Evaluate test set RMSE 'rmse_test'\n",
    "rmse_test = MSE(y_test, y_pred)**(1/2)\n",
    "\n",
    "# Print 'rmse_test'\n",
    "print('Test set RMSE: {:.2f}'.format(rmse_test))"
   ]
  },
  {
   "cell_type": "markdown",
   "id": "afca5a83",
   "metadata": {},
   "source": [
    "### Exercise: Regression with SGB\n",
    "As in the exercises from the previous lesson, you'll be working with the Bike Sharing Demand dataset. In the following set of exercises, you'll solve this bike count regression problem using stochastic gradient boosting."
   ]
  },
  {
   "cell_type": "code",
   "execution_count": 17,
   "id": "6ed49fa5",
   "metadata": {},
   "outputs": [],
   "source": [
    "bikes = pd.read_csv('bikes.csv')\n",
    "y = bikes['cnt']\n",
    "X = bikes.drop('cnt', axis=1)\n",
    "\n",
    "X_train, X_test, y_train, y_test = train_test_split(X, y, test_size=0.2, random_state=2)"
   ]
  },
  {
   "cell_type": "code",
   "execution_count": 18,
   "id": "ab0b3eae",
   "metadata": {},
   "outputs": [],
   "source": [
    "# Import GradientBoostingRegressor\n",
    "from sklearn.ensemble import GradientBoostingRegressor\n",
    "\n",
    "# Instantiate sgbr\n",
    "sgbr = GradientBoostingRegressor(max_depth=4, \n",
    "            subsample=0.9,\n",
    "            max_features=0.75,\n",
    "            n_estimators=200,                                \n",
    "            random_state=2)"
   ]
  },
  {
   "cell_type": "markdown",
   "id": "9196951d",
   "metadata": {},
   "source": [
    "### Exercise: Train the SGB regressor\n",
    "In this exercise, you'll train the SGBR sgbr instantiated in the previous exercise and predict the test set labels.\n",
    "\n",
    "The bike sharing demand dataset is already loaded processed for you; it is split into 80% train and 20% test. The feature matrices X_train and X_test, the arrays of labels y_train and y_test, and the model instance sgbr that you defined in the previous exercise are available in your workspace."
   ]
  },
  {
   "cell_type": "code",
   "execution_count": 19,
   "id": "992d00d2",
   "metadata": {},
   "outputs": [],
   "source": [
    "# Fit sgbr to the training set\n",
    "sgbr.fit(X_train, y_train)\n",
    "\n",
    "# Predict test set labels\n",
    "y_pred = sgbr.predict(X_test)"
   ]
  },
  {
   "cell_type": "markdown",
   "id": "0d714652",
   "metadata": {},
   "source": [
    "### Exercise: Evaluate the SGB regressor\n",
    "You have prepared the ground to determine the test set RMSE of sgbr which you shall evaluate in this exercise.\n",
    "\n",
    "y_pred and y_test are available in your workspace."
   ]
  },
  {
   "cell_type": "code",
   "execution_count": 20,
   "id": "6bc68213",
   "metadata": {},
   "outputs": [
    {
     "name": "stdout",
     "output_type": "stream",
     "text": [
      "Test set RMSE of sgbr: 47.260\n"
     ]
    }
   ],
   "source": [
    "# Import mean_squared_error as MSE\n",
    "from sklearn.metrics import mean_squared_error as MSE\n",
    "\n",
    "# Compute test set MSE\n",
    "mse_test = MSE(y_test, y_pred)\n",
    "\n",
    "# Compute test set RMSE\n",
    "rmse_test = mse_test**(1/2)\n",
    "\n",
    "# Print rmse_test\n",
    "print('Test set RMSE of sgbr: {:.3f}'.format(rmse_test))"
   ]
  },
  {
   "cell_type": "markdown",
   "id": "25fbe46b",
   "metadata": {},
   "source": [
    "The stochastic gradient boosting regressor achieves a lower test set RMSE than the gradient boosting regressor (which was ~~52.065~~49.573)!"
   ]
  },
  {
   "cell_type": "code",
   "execution_count": null,
   "id": "2531751c",
   "metadata": {},
   "outputs": [],
   "source": []
  }
 ],
 "metadata": {
  "kernelspec": {
   "display_name": "Python 3 (ipykernel)",
   "language": "python",
   "name": "python3"
  },
  "language_info": {
   "codemirror_mode": {
    "name": "ipython",
    "version": 3
   },
   "file_extension": ".py",
   "mimetype": "text/x-python",
   "name": "python",
   "nbconvert_exporter": "python",
   "pygments_lexer": "ipython3",
   "version": "3.8.12"
  }
 },
 "nbformat": 4,
 "nbformat_minor": 5
}
