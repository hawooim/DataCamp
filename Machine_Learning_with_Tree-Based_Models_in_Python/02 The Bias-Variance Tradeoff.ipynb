{
 "cells": [
  {
   "cell_type": "code",
   "execution_count": 1,
   "id": "ccef1c71",
   "metadata": {},
   "outputs": [],
   "source": [
    "import pandas as pd\n",
    "import numpy as np\n",
    "import matplotlib.pyplot as plt\n",
    "import seaborn as sns"
   ]
  },
  {
   "cell_type": "markdown",
   "id": "fd99acae",
   "metadata": {},
   "source": [
    "## Generalization Error"
   ]
  },
  {
   "cell_type": "markdown",
   "id": "e00d48ea",
   "metadata": {},
   "source": [
    "### Goals of Supervised Learning\n",
    "- Find a model f_hat that best approximates f\n",
    "- f_hat can be logistic legression, decision tree, neural network, ...\n",
    "- Discard noise as much as possible\n",
    "- End goal: f_hat should achieve a low predictive error on unseen datasets"
   ]
  },
  {
   "cell_type": "markdown",
   "id": "dc97408c",
   "metadata": {},
   "source": [
    "### Difficulties in approximating f\n",
    "- Overfitting: f_hat(x) fits the training set noise.\n",
    "- Underfitting: f_hat is not flexible enough to approximate f."
   ]
  },
  {
   "cell_type": "markdown",
   "id": "bd631f01",
   "metadata": {},
   "source": [
    "### Generalization Error\n",
    "- Does f_hat generalize well on unseen data?\n",
    "- It can be decomposed as folows:\n",
    " - Generalization error of f_hat = bias_squared + variance + irreducible error\n",
    "- Bias: error term that tells you, on average, how much f_hat is different from f\n",
    "- Variance: tells you how much f_hat is inconsistent over different training sets\n",
    "- Model complexity: sets the flexibility of f_hat\n",
    " - Example: maximum tree depth, minimum samples per leaf, ..."
   ]
  },
  {
   "cell_type": "markdown",
   "id": "b9bf16a7",
   "metadata": {},
   "source": [
    "## Diagnosing Bias and Variance Problems"
   ]
  },
  {
   "cell_type": "markdown",
   "id": "e53af490",
   "metadata": {},
   "source": [
    "### Estimating the Genenralization Error\n",
    "- How do we estimate the generalization error of a model?\n",
    "- Cannot be done directly because:\n",
    " - f is unknown\n",
    " - usually you only have one dataset\n",
    " - noise is unpredictable\n",
    "- Solution:\n",
    " - split the data to training and test sets\n",
    " - fit f_hat to the training set\n",
    " - evaluate the error of f_hat on hte unseen test set\n",
    " - generalization error of f_hat is similar to test set error of f_hat"
   ]
  },
  {
   "cell_type": "markdown",
   "id": "71918112",
   "metadata": {},
   "source": [
    "### Better Model Evaluation with Cross-Validation\n",
    "- Test set should not be touched until we are confident about f_hat's performance\n",
    "- Evaluating f_hat on training set: biased estimate, f_hat has already seen all training points.\n",
    "- Solution --> Cross-Validation (CV):\n",
    " - K-fold CV,\n",
    " - Hold-out CV"
   ]
  },
  {
   "cell_type": "markdown",
   "id": "0e9cfa39",
   "metadata": {},
   "source": [
    "### Diagnose Variance Problems\n",
    "- If f_hat suffers from high variance: CV error of f_hat > training set error of f_hat\n",
    "- f_hat is said to overfit the training set. To remedy overfitting:\n",
    " - decrease model complexity\n",
    " - for ex: decrease max depth, increase min samples per leaf,\n",
    " - gather more data, ..."
   ]
  },
  {
   "cell_type": "markdown",
   "id": "fba35ac6",
   "metadata": {},
   "source": [
    "### Diagnose Bias Problems\n",
    "- If f_hat suffers from high bias: CV error of f_hat (similar to) training set error of f_hat >> desired error.\n",
    "- f_hat is said to underfit the training set. To remedy underfitting:\n",
    " - increase model complexity\n",
    " - for ex: increase max depth, decrase min samples per leaf,\n",
    " - gather more data, ..."
   ]
  },
  {
   "cell_type": "markdown",
   "id": "270662b0",
   "metadata": {},
   "source": [
    "### K-FOLD CV in sklearn on the Auto Dataset"
   ]
  },
  {
   "cell_type": "code",
   "execution_count": 2,
   "id": "b69a2648",
   "metadata": {},
   "outputs": [],
   "source": [
    "auto = pd.read_csv('auto.csv')\n",
    "auto['origin'] = auto['origin'].astype('category')\n",
    "dummies = pd.get_dummies(auto['origin'], prefix='origin')\n",
    "auto = pd.concat([auto, dummies], axis=1)\n",
    "\n",
    "X = auto.drop(['mpg', 'origin'], axis=1)\n",
    "y = auto['mpg']"
   ]
  },
  {
   "cell_type": "code",
   "execution_count": 3,
   "id": "b0800082",
   "metadata": {},
   "outputs": [],
   "source": [
    "from sklearn.tree import DecisionTreeRegressor\n",
    "from sklearn.model_selection import train_test_split\n",
    "from sklearn.metrics import mean_squared_error as MSE\n",
    "from sklearn.model_selection import cross_val_score\n",
    "\n",
    "\n",
    "# Set seed for reproducibility\n",
    "SEED = 123\n",
    "\n",
    "# Split data into 70% train and 30% test\n",
    "X_train, X_test, y_train, y_test = train_test_split(X, y, test_size=0.3, random_state=SEED)\n",
    "\n",
    "# Instantiate decision tree regressor and assign it to 'dt'\n",
    "dt = DecisionTreeRegressor(max_depth=4, min_samples_leaf=0.14, random_state=SEED)\n",
    "\n",
    "# Evaluate the list of MSE ontained by 10-fold CV\n",
    "# Set n_jobs to -1 in order to exploit all CPU cores in computation\n",
    "MSE_CV = - cross_val_score(dt, X_train, y_train, cv=10, scoring='neg_mean_squared_error', n_jobs=-1)\n",
    "\n",
    "# Fit 'dt' to the training set\n",
    "dt.fit(X_train, y_train)\n",
    "\n",
    "# Predict the labels of training set\n",
    "y_predict_train = dt.predict(X_train)\n",
    "\n",
    "# Predict the labels of test set\n",
    "y_predict_test = dt.predict(X_test)"
   ]
  },
  {
   "cell_type": "code",
   "execution_count": 4,
   "id": "5e219a0c",
   "metadata": {},
   "outputs": [
    {
     "data": {
      "text/plain": [
       "20.505691068058148"
      ]
     },
     "execution_count": 4,
     "metadata": {},
     "output_type": "execute_result"
    }
   ],
   "source": [
    "# CV MSE\n",
    "MSE_CV.mean()"
   ]
  },
  {
   "cell_type": "code",
   "execution_count": 5,
   "id": "4326fd0b",
   "metadata": {},
   "outputs": [
    {
     "data": {
      "text/plain": [
       "15.299344592866507"
      ]
     },
     "execution_count": 5,
     "metadata": {},
     "output_type": "execute_result"
    }
   ],
   "source": [
    "# Training set MSE\n",
    "MSE(y_train, y_predict_train)"
   ]
  },
  {
   "cell_type": "code",
   "execution_count": 6,
   "id": "eddbd191",
   "metadata": {},
   "outputs": [
    {
     "data": {
      "text/plain": [
       "20.923283625005098"
      ]
     },
     "execution_count": 6,
     "metadata": {},
     "output_type": "execute_result"
    }
   ],
   "source": [
    "# Test set MSE\n",
    "MSE(y_test, y_predict_test)"
   ]
  },
  {
   "cell_type": "markdown",
   "id": "bb4bd1ab",
   "metadata": {},
   "source": [
    "- Given that the training set error is smaller than the CV-error, we can deduce that dt overfits the training set and that it suffers from high variance.\n",
    "- Notice how the CV and test set errors are roughly equal."
   ]
  },
  {
   "cell_type": "markdown",
   "id": "f800356c",
   "metadata": {},
   "source": [
    "### Exercise: Instantiate the model\n",
    "In the following set of exercises, you'll diagnose the bias and variance problems of a regression tree. The regression tree you'll define in this exercise will be used to predict the mpg consumption of cars from the auto dataset using all available features.\n",
    "\n",
    "We have already processed the data and loaded the features matrix X and the array y in your workspace. In addition, the DecisionTreeRegressor class was imported from sklearn.tree."
   ]
  },
  {
   "cell_type": "code",
   "execution_count": 7,
   "id": "22f31b56",
   "metadata": {},
   "outputs": [],
   "source": [
    "# Import train_test_split from sklearn.model_selection\n",
    "from sklearn.model_selection import train_test_split\n",
    "\n",
    "# Set SEED for reproducibility\n",
    "SEED = 1\n",
    "\n",
    "# Split the data into 70% train and 30% test\n",
    "X_train, X_test, y_train, y_test = train_test_split(X, y, test_size=0.3, random_state=SEED)\n",
    "\n",
    "# Instantiate a DecisionTreeRegressor dt\n",
    "dt = DecisionTreeRegressor(max_depth=4, min_samples_leaf=0.26, random_state=SEED)"
   ]
  },
  {
   "cell_type": "markdown",
   "id": "3d78013f",
   "metadata": {},
   "source": [
    "Great work! In the next exercise, you'll evaluate dt's CV error."
   ]
  },
  {
   "cell_type": "markdown",
   "id": "04956daa",
   "metadata": {},
   "source": [
    "### Exercise: Evaluate the 10-fold CV error\n",
    "In this exercise, you'll evaluate the 10-fold CV Root Mean Squared Error (RMSE) achieved by the regression tree dt that you instantiated in the previous exercise.\n",
    "\n",
    "In addition to dt, the training data including X_train and y_train are available in your workspace. We also imported cross_val_score from sklearn.model_selection.\n",
    "\n",
    "Note that since cross_val_score has only the option of evaluating the negative MSEs, its output should be multiplied by negative one to obtain the MSEs. The CV RMSE can then be obtained by computing the square root of the average MSE."
   ]
  },
  {
   "cell_type": "code",
   "execution_count": 8,
   "id": "cadf8b88",
   "metadata": {},
   "outputs": [
    {
     "name": "stdout",
     "output_type": "stream",
     "text": [
      "CV RMSE: 5.14\n"
     ]
    }
   ],
   "source": [
    "# Compute the array containing the 10-folds CV MSEs\n",
    "MSE_CV_scores = - cross_val_score(dt, X_train, y_train, cv=10, \n",
    "                                  scoring='neg_mean_squared_error',\n",
    "                                  n_jobs=-1)\n",
    "\n",
    "# Compute the 10-folds CV RMSE\n",
    "RMSE_CV = (MSE_CV_scores.mean())**(1/2)\n",
    "\n",
    "# Print RMSE_CV\n",
    "print('CV RMSE: {:.2f}'.format(RMSE_CV))"
   ]
  },
  {
   "cell_type": "markdown",
   "id": "bab94de6",
   "metadata": {},
   "source": [
    "Great work! A very good practice is to keep the test set untouched until you are confident about your model's performance. CV is a great technique to get an estimate of a model's performance without affecting the test set."
   ]
  },
  {
   "cell_type": "markdown",
   "id": "1809af7b",
   "metadata": {},
   "source": [
    "### Exercise: Evaluate the training error\n",
    "You'll now evaluate the training set RMSE achieved by the regression tree dt that you instantiated in a previous exercise.\n",
    "\n",
    "In addition to dt, X_train and y_train are available in your workspace.\n",
    "\n",
    "Note that in scikit-learn, the MSE of a model can be computed as follows:\n",
    "\n",
    "MSE_model = mean_squared_error(y_true, y_predicted)\n",
    "where we use the function mean_squared_error from the metrics module and pass it the true labels y_true as a first argument, and the predicted labels from the model y_predicted as a second argument."
   ]
  },
  {
   "cell_type": "code",
   "execution_count": 9,
   "id": "927914c1",
   "metadata": {},
   "outputs": [
    {
     "name": "stdout",
     "output_type": "stream",
     "text": [
      "Train RMSE: 5.15\n"
     ]
    }
   ],
   "source": [
    "# Import mean_squared_error from sklearn.metrics as MSE\n",
    "from sklearn.metrics import mean_squared_error as MSE\n",
    "\n",
    "# Fit dt to the training set\n",
    "dt.fit(X_train, y_train)\n",
    "\n",
    "# Predict the labels of the training set\n",
    "y_pred_train = dt.predict(X_train)\n",
    "\n",
    "# Evaluate the training set RMSE of dt\n",
    "RMSE_train = (MSE(y_train, y_pred_train))**(1/2)\n",
    "\n",
    "# Print RMSE_train\n",
    "print('Train RMSE: {:.2f}'.format(RMSE_train))"
   ]
  },
  {
   "cell_type": "markdown",
   "id": "51647289",
   "metadata": {},
   "source": [
    "Awesome! Notice how the training error is roughly equal to the 10-folds CV error you obtained in the previous exercise."
   ]
  },
  {
   "cell_type": "markdown",
   "id": "99e8bca7",
   "metadata": {},
   "source": [
    "### Exercise: High bias or high variance?\n",
    "In this exercise you'll diagnose whether the regression tree dt you trained in the previous exercise suffers from a bias or a variance problem.\n",
    "\n",
    "The training set RMSE (RMSE_train) and the CV RMSE (RMSE_CV) achieved by dt are available in your workspace. In addition, we have also loaded a variable called baseline_RMSE which corresponds to the root mean-squared error achieved by the regression-tree trained with the disp feature only (it is the RMSE achieved by the regression tree trained in chapter 1, lesson 3). Here baseline_RMSE serves as the baseline RMSE above which a model is considered to be underfitting and below which the model is considered 'good enough'.\n",
    "\n",
    "Does dt suffer from a high bias or a high variance problem?"
   ]
  },
  {
   "cell_type": "code",
   "execution_count": 10,
   "id": "b69edf3e",
   "metadata": {},
   "outputs": [],
   "source": [
    "baseline_RMSE = 5.1\n",
    "# the root mean-squared error achieved by the regression-tree trained with the disp feature only \n",
    "# (it is the RMSE achieved by the regression tree trained in chapter 1, lesson 3)"
   ]
  },
  {
   "cell_type": "markdown",
   "id": "9f895009",
   "metadata": {},
   "source": [
    "dt suffers from high bias because RMSE_CV  RMSE_train and both scores are greater than baseline_RMSE."
   ]
  },
  {
   "cell_type": "markdown",
   "id": "6ffa73d6",
   "metadata": {},
   "source": [
    "Correct! dt is indeed underfitting the training set as the model is too constrained to capture the nonlinear dependencies between features and labels."
   ]
  },
  {
   "cell_type": "markdown",
   "id": "a956326c",
   "metadata": {},
   "source": [
    "## Ensemble Learning"
   ]
  },
  {
   "cell_type": "markdown",
   "id": "0b3234e2",
   "metadata": {},
   "source": [
    "### Advantages of CARTs\n",
    "- simple to understand\n",
    "- simple to interpret\n",
    "- easy to use\n",
    "- flexibility: ability to describe non-linear dependencies\n",
    "- preprocessing: no need to standardize or normalize features, ...\n",
    "\n",
    "### Limitations of CARTs\n",
    "- classification: can only produce orthogonal (right-angled) decision boundaries\n",
    "- sensitive to small variations in the training set\n",
    "- high variance: unconstrained CARTs may overfit the training set\n",
    "- solution: ENSEMBLE!\n",
    "\n",
    "### Ensemble Learning\n",
    "- Train different models on the same dataset.\n",
    "- Let each model make its predictions.\n",
    "- Meta-model: aggregates predictions of individual models.\n",
    "- Final prediction: more robust and less prone to errors.\n",
    "- Best results: models are skillful in different ways.\n",
    "\n",
    "### Ensemble Learning in Practice: Voting Classifier\n",
    "- Binary classification task\n",
    "- N classifiers make predictions: P1, P2, ..., PN with Pi = 0 or 1.\n",
    "- Meta-model prediction: hard voting"
   ]
  },
  {
   "cell_type": "markdown",
   "id": "87ecc3c5",
   "metadata": {},
   "source": [
    "### Voting Classifier in sklearn (Breat-Cancer dataset)"
   ]
  },
  {
   "cell_type": "code",
   "execution_count": 11,
   "id": "fef44069",
   "metadata": {},
   "outputs": [],
   "source": [
    "wbc = pd.read_csv('wbc.csv').drop('Unnamed: 32', axis=1)\n",
    "y = wbc['diagnosis']\n",
    "X = wbc.drop(['id', 'diagnosis'], axis=1)"
   ]
  },
  {
   "cell_type": "code",
   "execution_count": 12,
   "id": "56e7cede",
   "metadata": {},
   "outputs": [],
   "source": [
    "# Import functions to compute accuracy and split data\n",
    "from sklearn.metrics import accuracy_score\n",
    "from sklearn.model_selection import train_test_split\n",
    "\n",
    "# Import models, including VotingClassifier meta-model\n",
    "from sklearn.linear_model import LogisticRegression\n",
    "from sklearn.tree import DecisionTreeClassifier\n",
    "from sklearn.neighbors import KNeighborsClassifier as KNN\n",
    "from sklearn.ensemble import VotingClassifier\n",
    "\n",
    "# Set seed for reproducibility\n",
    "SEED = 1"
   ]
  },
  {
   "cell_type": "code",
   "execution_count": 13,
   "id": "1471d157",
   "metadata": {},
   "outputs": [
    {
     "name": "stdout",
     "output_type": "stream",
     "text": [
      "Logistic Regression : 0.947\n",
      "K Nearest Neighbors : 0.930\n",
      "Classfication Tree : 0.930\n"
     ]
    }
   ],
   "source": [
    "# Split data into 70% train and 30% test\n",
    "X_train, X_test, y_train, y_test = train_test_split(X, y, test_size=0.3, random_state=SEED)\n",
    "\n",
    "# Instantiate individual classifiers\n",
    "lr = LogisticRegression(random_state=SEED, max_iter=10000)\n",
    "knn = KNN()\n",
    "dt = DecisionTreeClassifier(random_state=SEED)\n",
    "\n",
    "# Define a list called classifier that contains the tuples (classifier_name, classifier)\n",
    "classifiers = [('Logistic Regression', lr), \n",
    "               ('K Nearest Neighbors', knn), \n",
    "               ('Classfication Tree', dt)]\n",
    "\n",
    "# Iterate over the defined list of tuples containing the classifiers\n",
    "for clf_name, clf in classifiers:\n",
    "    \n",
    "    #fit clf to the training set\n",
    "    clf.fit(X_train, y_train)\n",
    "    \n",
    "    # Predict the labels of the test set\n",
    "    y_pred = clf.predict(X_test)\n",
    "    \n",
    "    # Evaluate the accuracy of clf on the test set\n",
    "    print('{:s} : {:.3f}'.format(clf_name, accuracy_score(y_test, y_pred)))"
   ]
  },
  {
   "cell_type": "code",
   "execution_count": 14,
   "id": "bf2a1e00",
   "metadata": {},
   "outputs": [
    {
     "name": "stdout",
     "output_type": "stream",
     "text": [
      "Voting Classifier: 0.953\n"
     ]
    }
   ],
   "source": [
    "# Instantiate a VotingClassifier 'vc'\n",
    "vc = VotingClassifier(estimators=classifiers)\n",
    "\n",
    "# Fit 'vc' to the traing set and predict test set labels\n",
    "vc.fit(X_train, y_train)\n",
    "y_pred = vc.predict(X_test)\n",
    "\n",
    "# Evaluate the test-set accuracy of 'vc'\n",
    "print('Voting Classifier: {:.3f}'.format(accuracy_score(y_test, y_pred)))"
   ]
  },
  {
   "cell_type": "markdown",
   "id": "6ed789db",
   "metadata": {},
   "source": [
    "Voting classifiers's accuracy is higher than that achieved by any of the individual models in the ensemble."
   ]
  },
  {
   "cell_type": "markdown",
   "id": "7692a8c5",
   "metadata": {},
   "source": [
    "### Exercise: Define the ensemble\n",
    "In the following set of exercises, you'll work with the Indian Liver Patient Dataset from the UCI Machine learning repository.\n",
    "\n",
    "In this exercise, you'll instantiate three classifiers to predict whether a patient suffers from a liver disease using all the features present in the dataset.\n",
    "\n",
    "The classes LogisticRegression, DecisionTreeClassifier, and KNeighborsClassifier under the alias KNN are available in your workspace."
   ]
  },
  {
   "cell_type": "code",
   "execution_count": 15,
   "id": "d52e5f01",
   "metadata": {},
   "outputs": [],
   "source": [
    "# Set seed for reproducibility\n",
    "SEED=1\n",
    "\n",
    "# Instantiate lr\n",
    "lr = LogisticRegression(random_state=SEED, max_iter=10000)\n",
    "\n",
    "# Instantiate knn\n",
    "knn = KNN(n_neighbors=27)\n",
    "\n",
    "# Instantiate dt\n",
    "dt = DecisionTreeClassifier(min_samples_leaf=0.13, random_state=SEED)\n",
    "\n",
    "# Define the list classifiers\n",
    "classifiers = [('Logistic Regression', lr), ('K Nearest Neighbours', knn), ('Classification Tree', dt)]"
   ]
  },
  {
   "cell_type": "markdown",
   "id": "f5ec8af6",
   "metadata": {},
   "source": [
    "Great! In the next exercise, you will train these classifiers and evaluate their test set accuracy."
   ]
  },
  {
   "cell_type": "markdown",
   "id": "3e02fe6e",
   "metadata": {},
   "source": [
    "### Exercise: Evaluate individual classifiers\n",
    "In this exercise you'll evaluate the performance of the models in the list classifiers that we defined in the previous exercise. You'll do so by fitting each classifier on the training set and evaluating its test set accuracy.\n",
    "\n",
    "The dataset is already loaded and preprocessed for you (numerical features are standardized) and it is split into 70% train and 30% test. The features matrices X_train and X_test, as well as the arrays of labels y_train and y_test are available in your workspace. In addition, we have loaded the list classifiers from the previous exercise, as well as the function accuracy_score() from sklearn.metrics."
   ]
  },
  {
   "cell_type": "code",
   "execution_count": 16,
   "id": "480b5e70",
   "metadata": {},
   "outputs": [],
   "source": [
    "liver = pd.read_csv('indian_liver_patient_preprocessed.csv')\n",
    "X = liver.drop(['Liver_disease', 'Unnamed: 0'] , axis=1)\n",
    "y = liver['Liver_disease']\n",
    "\n",
    "X_train, X_test, y_train, y_test = train_test_split(X, y, test_size=0.3, random_state=SEED)"
   ]
  },
  {
   "cell_type": "code",
   "execution_count": 17,
   "id": "11cdfe1b",
   "metadata": {},
   "outputs": [
    {
     "name": "stdout",
     "output_type": "stream",
     "text": [
      "Logistic Regression : 0.759\n",
      "K Nearest Neighbours : 0.701\n",
      "Classification Tree : 0.730\n"
     ]
    }
   ],
   "source": [
    "# Iterate over the pre-defined list of classifiers\n",
    "for clf_name, clf in classifiers:    \n",
    " \n",
    "    # Fit clf to the training set\n",
    "    clf.fit(X_train, y_train)    \n",
    "   \n",
    "    # Predict y_pred\n",
    "    y_pred = clf.predict(X_test)\n",
    "    \n",
    "    # Calculate accuracy\n",
    "    accuracy = accuracy_score(y_test, y_pred) \n",
    "   \n",
    "    # Evaluate clf's accuracy on the test set\n",
    "    print('{:s} : {:.3f}'.format(clf_name, accuracy))"
   ]
  },
  {
   "cell_type": "markdown",
   "id": "ee695f22",
   "metadata": {},
   "source": [
    "Great work! Notice how Logistic Regression achieved the highest accuracy of ~~74.7%~~75.9%."
   ]
  },
  {
   "cell_type": "markdown",
   "id": "73c47c2e",
   "metadata": {},
   "source": [
    "### Exercise: Better performance with a Voting Classifier\n",
    "Finally, you'll evaluate the performance of a voting classifier that takes the outputs of the models defined in the list classifiers and assigns labels by majority voting.\n",
    "\n",
    "X_train, X_test,y_train, y_test, the list classifiers defined in a previous exercise, as well as the function accuracy_score from sklearn.metrics are available in your workspace."
   ]
  },
  {
   "cell_type": "code",
   "execution_count": 18,
   "id": "b0e2b2fa",
   "metadata": {},
   "outputs": [
    {
     "name": "stdout",
     "output_type": "stream",
     "text": [
      "Voting Classifier: 0.770\n"
     ]
    }
   ],
   "source": [
    "# Import VotingClassifier from sklearn.ensemble\n",
    "from sklearn.ensemble import VotingClassifier\n",
    "\n",
    "# Instantiate a VotingClassifier vc\n",
    "vc = VotingClassifier(estimators=classifiers)     \n",
    "\n",
    "# Fit vc to the training set\n",
    "vc.fit(X_train, y_train)   \n",
    "\n",
    "# Evaluate the test set predictions\n",
    "y_pred = vc.predict(X_test)\n",
    "\n",
    "# Calculate accuracy score\n",
    "accuracy = accuracy_score(y_test, y_pred)\n",
    "print('Voting Classifier: {:.3f}'.format(accuracy))"
   ]
  },
  {
   "cell_type": "markdown",
   "id": "b23a237a",
   "metadata": {},
   "source": [
    "Great work! Notice how the voting classifier achieves a test set accuracy of ~~75.3%~~77.7%. This value is greater than that achieved by LogisticRegression."
   ]
  },
  {
   "cell_type": "code",
   "execution_count": null,
   "id": "bb2057d9",
   "metadata": {},
   "outputs": [],
   "source": []
  }
 ],
 "metadata": {
  "kernelspec": {
   "display_name": "Python 3 (ipykernel)",
   "language": "python",
   "name": "python3"
  },
  "language_info": {
   "codemirror_mode": {
    "name": "ipython",
    "version": 3
   },
   "file_extension": ".py",
   "mimetype": "text/x-python",
   "name": "python",
   "nbconvert_exporter": "python",
   "pygments_lexer": "ipython3",
   "version": "3.8.12"
  }
 },
 "nbformat": 4,
 "nbformat_minor": 5
}
