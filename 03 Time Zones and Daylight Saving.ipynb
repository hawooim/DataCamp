{
 "cells": [
  {
   "cell_type": "markdown",
   "id": "9b9afa9c",
   "metadata": {},
   "source": [
    "## Creating timezone aware datetimes"
   ]
  },
  {
   "cell_type": "code",
   "execution_count": 1,
   "id": "b30b6b3b",
   "metadata": {},
   "outputs": [
    {
     "name": "stdout",
     "output_type": "stream",
     "text": [
      "2017-10-01T15:26:26+00:00\n"
     ]
    }
   ],
   "source": [
    "# Import datetime, timezone\n",
    "from datetime import datetime, timezone\n",
    "\n",
    "# October 1, 2017 at 15:26:26, UTC\n",
    "dt = datetime(2017, 10, 1, 15, 26, 26, tzinfo=timezone.utc)\n",
    "\n",
    "# Print results\n",
    "print(dt.isoformat())"
   ]
  },
  {
   "cell_type": "code",
   "execution_count": 2,
   "id": "7fe0ec4b",
   "metadata": {},
   "outputs": [
    {
     "name": "stdout",
     "output_type": "stream",
     "text": [
      "2017-10-01T15:26:26-08:00\n"
     ]
    }
   ],
   "source": [
    "# Import datetime, timedelta, timezone\n",
    "from datetime import datetime, timedelta, timezone\n",
    "\n",
    "# Create a timezone for Pacific Standard Time, or UTC-8\n",
    "pst = timezone(timedelta(hours=-8))\n",
    "\n",
    "# October 1, 2017 at 15:26:26, UTC-8\n",
    "dt = datetime(2017, 10, 1, 15, 26, 26, tzinfo=pst)\n",
    "\n",
    "# Print results\n",
    "print(dt.isoformat())"
   ]
  },
  {
   "cell_type": "code",
   "execution_count": 3,
   "id": "3cea6a0d",
   "metadata": {},
   "outputs": [
    {
     "name": "stdout",
     "output_type": "stream",
     "text": [
      "2017-10-01T15:26:26+11:00\n"
     ]
    }
   ],
   "source": [
    "# Import datetime, timedelta, timezone\n",
    "from datetime import datetime, timedelta, timezone\n",
    "\n",
    "# Create a timezone for Australian Eastern Daylight Time, or UTC+11\n",
    "aedt = timezone(timedelta(hours=+11))\n",
    "\n",
    "# October 1, 2017 at 15:26:26, UTC+11\n",
    "dt = datetime(2017, 10, 1, 15, 26, 26, tzinfo=aedt)\n",
    "\n",
    "# Print results\n",
    "print(dt.isoformat())"
   ]
  },
  {
   "cell_type": "markdown",
   "id": "1fd1b8b3",
   "metadata": {},
   "source": [
    "## Setting timezones"
   ]
  },
  {
   "cell_type": "code",
   "execution_count": 7,
   "id": "13503d64",
   "metadata": {},
   "outputs": [
    {
     "data": {
      "text/html": [
       "<div>\n",
       "<style scoped>\n",
       "    .dataframe tbody tr th:only-of-type {\n",
       "        vertical-align: middle;\n",
       "    }\n",
       "\n",
       "    .dataframe tbody tr th {\n",
       "        vertical-align: top;\n",
       "    }\n",
       "\n",
       "    .dataframe thead th {\n",
       "        text-align: right;\n",
       "    }\n",
       "</style>\n",
       "<table border=\"1\" class=\"dataframe\">\n",
       "  <thead>\n",
       "    <tr style=\"text-align: right;\">\n",
       "      <th></th>\n",
       "      <th>Start date</th>\n",
       "      <th>End date</th>\n",
       "      <th>Start station number</th>\n",
       "      <th>Start station</th>\n",
       "      <th>End station number</th>\n",
       "      <th>End station</th>\n",
       "      <th>Bike number</th>\n",
       "      <th>Member type</th>\n",
       "    </tr>\n",
       "  </thead>\n",
       "  <tbody>\n",
       "    <tr>\n",
       "      <th>0</th>\n",
       "      <td>2017-10-01 15:23:25</td>\n",
       "      <td>2017-10-01 15:26:26</td>\n",
       "      <td>31038</td>\n",
       "      <td>Glebe Rd &amp; 11th St N</td>\n",
       "      <td>31036</td>\n",
       "      <td>George Mason Dr &amp; Wilson Blvd</td>\n",
       "      <td>W20529</td>\n",
       "      <td>Member</td>\n",
       "    </tr>\n",
       "    <tr>\n",
       "      <th>1</th>\n",
       "      <td>2017-10-01 15:42:57</td>\n",
       "      <td>2017-10-01 17:49:59</td>\n",
       "      <td>31036</td>\n",
       "      <td>George Mason Dr &amp; Wilson Blvd</td>\n",
       "      <td>31036</td>\n",
       "      <td>George Mason Dr &amp; Wilson Blvd</td>\n",
       "      <td>W20529</td>\n",
       "      <td>Casual</td>\n",
       "    </tr>\n",
       "    <tr>\n",
       "      <th>2</th>\n",
       "      <td>2017-10-02 06:37:10</td>\n",
       "      <td>2017-10-02 06:42:53</td>\n",
       "      <td>31036</td>\n",
       "      <td>George Mason Dr &amp; Wilson Blvd</td>\n",
       "      <td>31037</td>\n",
       "      <td>Ballston Metro / N Stuart &amp; 9th St N</td>\n",
       "      <td>W20529</td>\n",
       "      <td>Member</td>\n",
       "    </tr>\n",
       "    <tr>\n",
       "      <th>3</th>\n",
       "      <td>2017-10-02 08:56:45</td>\n",
       "      <td>2017-10-02 09:18:03</td>\n",
       "      <td>31037</td>\n",
       "      <td>Ballston Metro / N Stuart &amp; 9th St N</td>\n",
       "      <td>31295</td>\n",
       "      <td>Potomac &amp; M St NW</td>\n",
       "      <td>W20529</td>\n",
       "      <td>Member</td>\n",
       "    </tr>\n",
       "    <tr>\n",
       "      <th>4</th>\n",
       "      <td>2017-10-02 18:23:48</td>\n",
       "      <td>2017-10-02 18:45:05</td>\n",
       "      <td>31295</td>\n",
       "      <td>Potomac &amp; M St NW</td>\n",
       "      <td>31230</td>\n",
       "      <td>Metro Center / 12th &amp; G St NW</td>\n",
       "      <td>W20529</td>\n",
       "      <td>Member</td>\n",
       "    </tr>\n",
       "  </tbody>\n",
       "</table>\n",
       "</div>"
      ],
      "text/plain": [
       "            Start date             End date  Start station number  \\\n",
       "0  2017-10-01 15:23:25  2017-10-01 15:26:26                 31038   \n",
       "1  2017-10-01 15:42:57  2017-10-01 17:49:59                 31036   \n",
       "2  2017-10-02 06:37:10  2017-10-02 06:42:53                 31036   \n",
       "3  2017-10-02 08:56:45  2017-10-02 09:18:03                 31037   \n",
       "4  2017-10-02 18:23:48  2017-10-02 18:45:05                 31295   \n",
       "\n",
       "                          Start station  End station number  \\\n",
       "0                  Glebe Rd & 11th St N               31036   \n",
       "1         George Mason Dr & Wilson Blvd               31036   \n",
       "2         George Mason Dr & Wilson Blvd               31037   \n",
       "3  Ballston Metro / N Stuart & 9th St N               31295   \n",
       "4                     Potomac & M St NW               31230   \n",
       "\n",
       "                            End station Bike number Member type  \n",
       "0         George Mason Dr & Wilson Blvd      W20529      Member  \n",
       "1         George Mason Dr & Wilson Blvd      W20529      Casual  \n",
       "2  Ballston Metro / N Stuart & 9th St N      W20529      Member  \n",
       "3                     Potomac & M St NW      W20529      Member  \n",
       "4         Metro Center / 12th & G St NW      W20529      Member  "
      ]
     },
     "execution_count": 7,
     "metadata": {},
     "output_type": "execute_result"
    }
   ],
   "source": [
    "import pandas as pd\n",
    "from datetime import datetime\n",
    "\n",
    "df = pd.read_csv('capital-onebike.csv')\n",
    "df.head()"
   ]
  },
  {
   "cell_type": "code",
   "execution_count": 8,
   "id": "fa990a88",
   "metadata": {},
   "outputs": [],
   "source": [
    "# Write down the format string\n",
    "fmt = \"%Y-%m-%d %H:%M:%S\"\n",
    "\n",
    "# Initialize a list for holding the pairs of datetime objects\n",
    "onebike_datetimes = []\n",
    "\n",
    "# Loop over all trips\n",
    "for i in range(df.shape[0]):\n",
    "    start = df['Start date'][i]\n",
    "    end = df['End date'][i]\n",
    "    trip = {'start': datetime.strptime(start, fmt),\n",
    "            'end': datetime.strptime(end, fmt)}\n",
    "  \n",
    "    # Append the trip\n",
    "    onebike_datetimes.append(trip)"
   ]
  },
  {
   "cell_type": "code",
   "execution_count": 9,
   "id": "3bb528fe",
   "metadata": {},
   "outputs": [],
   "source": [
    "# Create a timezone object corresponding to UTC-4\n",
    "edt = timezone(timedelta(hours=-4))\n",
    "\n",
    "# Loop over trips, updating the start and end datetimes to be in UTC-4\n",
    "for trip in onebike_datetimes[:10]:\n",
    "    # Update trip['start'] and trip['end']\n",
    "    trip['start'] = trip['start'].replace(tzinfo=edt)\n",
    "    trip['end'] = trip['end'].replace(tzinfo=edt)"
   ]
  },
  {
   "cell_type": "code",
   "execution_count": 10,
   "id": "f05d0ffe",
   "metadata": {},
   "outputs": [
    {
     "data": {
      "text/plain": [
       "[{'start': datetime.datetime(2017, 10, 1, 15, 23, 25, tzinfo=datetime.timezone(datetime.timedelta(days=-1, seconds=72000))),\n",
       "  'end': datetime.datetime(2017, 10, 1, 15, 26, 26, tzinfo=datetime.timezone(datetime.timedelta(days=-1, seconds=72000)))},\n",
       " {'start': datetime.datetime(2017, 10, 1, 15, 42, 57, tzinfo=datetime.timezone(datetime.timedelta(days=-1, seconds=72000))),\n",
       "  'end': datetime.datetime(2017, 10, 1, 17, 49, 59, tzinfo=datetime.timezone(datetime.timedelta(days=-1, seconds=72000)))},\n",
       " {'start': datetime.datetime(2017, 10, 2, 6, 37, 10, tzinfo=datetime.timezone(datetime.timedelta(days=-1, seconds=72000))),\n",
       "  'end': datetime.datetime(2017, 10, 2, 6, 42, 53, tzinfo=datetime.timezone(datetime.timedelta(days=-1, seconds=72000)))},\n",
       " {'start': datetime.datetime(2017, 10, 2, 8, 56, 45, tzinfo=datetime.timezone(datetime.timedelta(days=-1, seconds=72000))),\n",
       "  'end': datetime.datetime(2017, 10, 2, 9, 18, 3, tzinfo=datetime.timezone(datetime.timedelta(days=-1, seconds=72000)))},\n",
       " {'start': datetime.datetime(2017, 10, 2, 18, 23, 48, tzinfo=datetime.timezone(datetime.timedelta(days=-1, seconds=72000))),\n",
       "  'end': datetime.datetime(2017, 10, 2, 18, 45, 5, tzinfo=datetime.timezone(datetime.timedelta(days=-1, seconds=72000)))},\n",
       " {'start': datetime.datetime(2017, 10, 2, 18, 48, 8, tzinfo=datetime.timezone(datetime.timedelta(days=-1, seconds=72000))),\n",
       "  'end': datetime.datetime(2017, 10, 2, 19, 10, 54, tzinfo=datetime.timezone(datetime.timedelta(days=-1, seconds=72000)))},\n",
       " {'start': datetime.datetime(2017, 10, 2, 19, 18, 10, tzinfo=datetime.timezone(datetime.timedelta(days=-1, seconds=72000))),\n",
       "  'end': datetime.datetime(2017, 10, 2, 19, 31, 45, tzinfo=datetime.timezone(datetime.timedelta(days=-1, seconds=72000)))},\n",
       " {'start': datetime.datetime(2017, 10, 2, 19, 37, 32, tzinfo=datetime.timezone(datetime.timedelta(days=-1, seconds=72000))),\n",
       "  'end': datetime.datetime(2017, 10, 2, 19, 46, 37, tzinfo=datetime.timezone(datetime.timedelta(days=-1, seconds=72000)))},\n",
       " {'start': datetime.datetime(2017, 10, 3, 8, 24, 16, tzinfo=datetime.timezone(datetime.timedelta(days=-1, seconds=72000))),\n",
       "  'end': datetime.datetime(2017, 10, 3, 8, 32, 27, tzinfo=datetime.timezone(datetime.timedelta(days=-1, seconds=72000)))},\n",
       " {'start': datetime.datetime(2017, 10, 3, 18, 17, 7, tzinfo=datetime.timezone(datetime.timedelta(days=-1, seconds=72000))),\n",
       "  'end': datetime.datetime(2017, 10, 3, 18, 27, 46, tzinfo=datetime.timezone(datetime.timedelta(days=-1, seconds=72000)))}]"
      ]
     },
     "execution_count": 10,
     "metadata": {},
     "output_type": "execute_result"
    }
   ],
   "source": [
    "onebike_datetimes[:10]"
   ]
  },
  {
   "cell_type": "code",
   "execution_count": 12,
   "id": "04662759",
   "metadata": {},
   "outputs": [
    {
     "data": {
      "text/plain": [
       "[{'start': datetime.datetime(2017, 10, 3, 19, 24, 10),\n",
       "  'end': datetime.datetime(2017, 10, 3, 19, 52, 8)}]"
      ]
     },
     "execution_count": 12,
     "metadata": {},
     "output_type": "execute_result"
    }
   ],
   "source": [
    "onebike_datetimes[10:11]"
   ]
  },
  {
   "cell_type": "markdown",
   "id": "356fa9e7",
   "metadata": {},
   "source": [
    "## What time did the bike leave in UTC?"
   ]
  },
  {
   "cell_type": "code",
   "execution_count": 14,
   "id": "930073d4",
   "metadata": {},
   "outputs": [
    {
     "name": "stdout",
     "output_type": "stream",
     "text": [
      "Original: 2017-10-01 15:23:25-04:00 | UTC: 2017-10-01T15:23:25+00:00\n",
      "Original: 2017-10-01 15:42:57-04:00 | UTC: 2017-10-01T15:42:57+00:00\n",
      "Original: 2017-10-02 06:37:10-04:00 | UTC: 2017-10-02T06:37:10+00:00\n",
      "Original: 2017-10-02 08:56:45-04:00 | UTC: 2017-10-02T08:56:45+00:00\n",
      "Original: 2017-10-02 18:23:48-04:00 | UTC: 2017-10-02T18:23:48+00:00\n",
      "Original: 2017-10-02 18:48:08-04:00 | UTC: 2017-10-02T18:48:08+00:00\n",
      "Original: 2017-10-02 19:18:10-04:00 | UTC: 2017-10-02T19:18:10+00:00\n",
      "Original: 2017-10-02 19:37:32-04:00 | UTC: 2017-10-02T19:37:32+00:00\n",
      "Original: 2017-10-03 08:24:16-04:00 | UTC: 2017-10-03T08:24:16+00:00\n",
      "Original: 2017-10-03 18:17:07-04:00 | UTC: 2017-10-03T18:17:07+00:00\n"
     ]
    }
   ],
   "source": [
    "# Loop over the trips\n",
    "for trip in onebike_datetimes[:10]:\n",
    "    # Pull out the start\n",
    "    dt = trip['start']\n",
    "    # Move dt to be in UTC\n",
    "    dt = dt.replace(tzinfo=timezone.utc)\n",
    "\n",
    "    # Print the start time in UTC\n",
    "    print('Original:', trip['start'], '| UTC:', dt.isoformat())"
   ]
  },
  {
   "cell_type": "code",
   "execution_count": 17,
   "id": "5205ef52",
   "metadata": {},
   "outputs": [
    {
     "name": "stdout",
     "output_type": "stream",
     "text": [
      "Original: 2017-10-01 15:23:25-04:00 | UTC: 2017-10-01T19:23:25+00:00\n",
      "Original: 2017-10-01 15:42:57-04:00 | UTC: 2017-10-01T19:42:57+00:00\n",
      "Original: 2017-10-02 06:37:10-04:00 | UTC: 2017-10-02T10:37:10+00:00\n",
      "Original: 2017-10-02 08:56:45-04:00 | UTC: 2017-10-02T12:56:45+00:00\n",
      "Original: 2017-10-02 18:23:48-04:00 | UTC: 2017-10-02T22:23:48+00:00\n",
      "Original: 2017-10-02 18:48:08-04:00 | UTC: 2017-10-02T22:48:08+00:00\n",
      "Original: 2017-10-02 19:18:10-04:00 | UTC: 2017-10-02T23:18:10+00:00\n",
      "Original: 2017-10-02 19:37:32-04:00 | UTC: 2017-10-02T23:37:32+00:00\n",
      "Original: 2017-10-03 08:24:16-04:00 | UTC: 2017-10-03T12:24:16+00:00\n",
      "Original: 2017-10-03 18:17:07-04:00 | UTC: 2017-10-03T22:17:07+00:00\n"
     ]
    }
   ],
   "source": [
    "# Loop over the trips\n",
    "for trip in onebike_datetimes[:10]:\n",
    "    # Pull out the start\n",
    "    dt = trip['start']\n",
    "    # Move dt to be in UTC\n",
    "    dt = dt.astimezone(timezone.utc)\n",
    "\n",
    "    # Print the start time in UTC\n",
    "    print('Original:', trip['start'], '| UTC:', dt.isoformat())"
   ]
  },
  {
   "cell_type": "markdown",
   "id": "e128239b",
   "metadata": {},
   "source": [
    "## Putting the bike trips into the right time zone"
   ]
  },
  {
   "cell_type": "code",
   "execution_count": 19,
   "id": "26f0069b",
   "metadata": {},
   "outputs": [],
   "source": [
    "# Import tz\n",
    "from dateutil import tz\n",
    "\n",
    "# Create a timezone object for Eastern Time\n",
    "et = tz.gettz('America/New_York')\n",
    "\n",
    "# Loop over trips, updating the datetimes to be in Eastern Time\n",
    "for trip in onebike_datetimes[:10]:\n",
    "    # Update trip['start'] and trip['end']\n",
    "    trip['start'] = trip['start'].replace(tzinfo=et)\n",
    "    trip['end'] = trip['end'].replace(tzinfo=et)"
   ]
  },
  {
   "cell_type": "code",
   "execution_count": 20,
   "id": "8dd62dfd",
   "metadata": {},
   "outputs": [
    {
     "data": {
      "text/plain": [
       "[{'start': datetime.datetime(2017, 10, 1, 15, 23, 25, tzinfo=tzfile('US/Eastern')),\n",
       "  'end': datetime.datetime(2017, 10, 1, 15, 26, 26, tzinfo=tzfile('US/Eastern'))},\n",
       " {'start': datetime.datetime(2017, 10, 1, 15, 42, 57, tzinfo=tzfile('US/Eastern')),\n",
       "  'end': datetime.datetime(2017, 10, 1, 17, 49, 59, tzinfo=tzfile('US/Eastern'))},\n",
       " {'start': datetime.datetime(2017, 10, 2, 6, 37, 10, tzinfo=tzfile('US/Eastern')),\n",
       "  'end': datetime.datetime(2017, 10, 2, 6, 42, 53, tzinfo=tzfile('US/Eastern'))},\n",
       " {'start': datetime.datetime(2017, 10, 2, 8, 56, 45, tzinfo=tzfile('US/Eastern')),\n",
       "  'end': datetime.datetime(2017, 10, 2, 9, 18, 3, tzinfo=tzfile('US/Eastern'))},\n",
       " {'start': datetime.datetime(2017, 10, 2, 18, 23, 48, tzinfo=tzfile('US/Eastern')),\n",
       "  'end': datetime.datetime(2017, 10, 2, 18, 45, 5, tzinfo=tzfile('US/Eastern'))},\n",
       " {'start': datetime.datetime(2017, 10, 2, 18, 48, 8, tzinfo=tzfile('US/Eastern')),\n",
       "  'end': datetime.datetime(2017, 10, 2, 19, 10, 54, tzinfo=tzfile('US/Eastern'))},\n",
       " {'start': datetime.datetime(2017, 10, 2, 19, 18, 10, tzinfo=tzfile('US/Eastern')),\n",
       "  'end': datetime.datetime(2017, 10, 2, 19, 31, 45, tzinfo=tzfile('US/Eastern'))},\n",
       " {'start': datetime.datetime(2017, 10, 2, 19, 37, 32, tzinfo=tzfile('US/Eastern')),\n",
       "  'end': datetime.datetime(2017, 10, 2, 19, 46, 37, tzinfo=tzfile('US/Eastern'))},\n",
       " {'start': datetime.datetime(2017, 10, 3, 8, 24, 16, tzinfo=tzfile('US/Eastern')),\n",
       "  'end': datetime.datetime(2017, 10, 3, 8, 32, 27, tzinfo=tzfile('US/Eastern'))},\n",
       " {'start': datetime.datetime(2017, 10, 3, 18, 17, 7, tzinfo=tzfile('US/Eastern')),\n",
       "  'end': datetime.datetime(2017, 10, 3, 18, 27, 46, tzinfo=tzfile('US/Eastern'))}]"
      ]
     },
     "execution_count": 20,
     "metadata": {},
     "output_type": "execute_result"
    }
   ],
   "source": [
    "onebike_datetimes[:10]"
   ]
  },
  {
   "cell_type": "markdown",
   "id": "714b6e53",
   "metadata": {},
   "source": [
    "## What time did the bike leave? (Global edition)"
   ]
  },
  {
   "cell_type": "code",
   "execution_count": 21,
   "id": "a2e2d677",
   "metadata": {},
   "outputs": [
    {
     "name": "stdout",
     "output_type": "stream",
     "text": [
      "2017-10-01T15:23:25-04:00\n",
      "2017-10-01T20:23:25+01:00\n"
     ]
    }
   ],
   "source": [
    "# Create the timezone object\n",
    "uk = tz.gettz('Europe/London')\n",
    "\n",
    "# Pull out the start of the first trip\n",
    "local = onebike_datetimes[0]['start']\n",
    "\n",
    "# What time was it in the UK?\n",
    "notlocal = local.astimezone(uk)\n",
    "\n",
    "# Print them out and see the difference\n",
    "print(local.isoformat())\n",
    "print(notlocal.isoformat())"
   ]
  },
  {
   "cell_type": "code",
   "execution_count": 22,
   "id": "8a43b18b",
   "metadata": {},
   "outputs": [
    {
     "name": "stdout",
     "output_type": "stream",
     "text": [
      "2017-10-01T15:23:25-04:00\n",
      "2017-10-02T00:53:25+05:30\n"
     ]
    }
   ],
   "source": [
    "# Create the timezone object\n",
    "ist = tz.gettz('Asia/Kolkata')\n",
    "\n",
    "# Pull out the start of the first trip\n",
    "local = onebike_datetimes[0]['start']\n",
    "\n",
    "# What time was it in India?\n",
    "notlocal = local.astimezone(ist)\n",
    "\n",
    "# Print them out and see the difference\n",
    "print(local.isoformat())\n",
    "print(notlocal.isoformat())"
   ]
  },
  {
   "cell_type": "code",
   "execution_count": 23,
   "id": "7ffda2cb",
   "metadata": {},
   "outputs": [
    {
     "name": "stdout",
     "output_type": "stream",
     "text": [
      "2017-10-01T15:23:25-04:00\n",
      "2017-10-02T09:23:25+14:00\n"
     ]
    }
   ],
   "source": [
    "# Create the timezone object\n",
    "sm = tz.gettz('Pacific/Apia')\n",
    "\n",
    "# Pull out the start of the first trip\n",
    "local = onebike_datetimes[0]['start']\n",
    "\n",
    "# What time was it in Samoa?\n",
    "notlocal = local.astimezone(sm)\n",
    "\n",
    "# Print them out and see the difference\n",
    "print(local.isoformat())\n",
    "print(notlocal.isoformat())"
   ]
  },
  {
   "cell_type": "markdown",
   "id": "9598ae19",
   "metadata": {},
   "source": [
    "## How many hours elapsed around daylight saving?"
   ]
  },
  {
   "cell_type": "code",
   "execution_count": 24,
   "id": "0a94f121",
   "metadata": {},
   "outputs": [
    {
     "name": "stdout",
     "output_type": "stream",
     "text": [
      "2017-03-12T00:00:00-05:00 to 2017-03-12T06:00:00-04:00\n"
     ]
    }
   ],
   "source": [
    "# Import datetime, timedelta, tz, timezone\n",
    "from datetime import datetime, timedelta, timezone\n",
    "from dateutil import tz\n",
    "\n",
    "# Start on March 12, 2017, midnight, then add 6 hours\n",
    "start = datetime(2017, 3, 12, tzinfo = tz.gettz('America/New_York'))\n",
    "end = start + timedelta(hours=6)\n",
    "print(start.isoformat() + \" to \" + end.isoformat())"
   ]
  },
  {
   "cell_type": "code",
   "execution_count": 25,
   "id": "56a84486",
   "metadata": {},
   "outputs": [
    {
     "name": "stdout",
     "output_type": "stream",
     "text": [
      "2017-03-12T00:00:00-05:00 to 2017-03-12T06:00:00-04:00\n",
      "6.0\n"
     ]
    }
   ],
   "source": [
    "# Import datetime, timedelta, tz, timezone\n",
    "from datetime import datetime, timedelta, timezone\n",
    "from dateutil import tz\n",
    "\n",
    "# Start on March 12, 2017, midnight, then add 6 hours\n",
    "start = datetime(2017, 3, 12, tzinfo = tz.gettz('America/New_York'))\n",
    "end = start + timedelta(hours=6)\n",
    "print(start.isoformat() + \" to \" + end.isoformat())\n",
    "\n",
    "# How many hours have elapsed?\n",
    "print((end - start).total_seconds()/(60*60))"
   ]
  },
  {
   "cell_type": "code",
   "execution_count": 26,
   "id": "cb2ccdb2",
   "metadata": {},
   "outputs": [
    {
     "name": "stdout",
     "output_type": "stream",
     "text": [
      "2017-03-12T00:00:00-05:00 to 2017-03-12T06:00:00-04:00\n",
      "6.0\n",
      "5.0\n"
     ]
    }
   ],
   "source": [
    "# Import datetime, timedelta, tz, timezone\n",
    "from datetime import datetime, timedelta, timezone\n",
    "from dateutil import tz\n",
    "\n",
    "# Start on March 12, 2017, midnight, then add 6 hours\n",
    "start = datetime(2017, 3, 12, tzinfo = tz.gettz('America/New_York'))\n",
    "end = start + timedelta(hours=6)\n",
    "print(start.isoformat() + \" to \" + end.isoformat())\n",
    "\n",
    "# How many hours have elapsed?\n",
    "print((end - start).total_seconds()/(60*60))\n",
    "\n",
    "# What if we move to UTC?\n",
    "print((end.astimezone(timezone.utc) - start.astimezone(timezone.utc))\\\n",
    "      .total_seconds()/(60*60))"
   ]
  },
  {
   "cell_type": "markdown",
   "id": "b29bec5d",
   "metadata": {},
   "source": [
    "## March 29, throughout a decade"
   ]
  },
  {
   "cell_type": "code",
   "execution_count": 27,
   "id": "dc0d43db",
   "metadata": {},
   "outputs": [
    {
     "name": "stdout",
     "output_type": "stream",
     "text": [
      "2000-03-29T00:00:00+01:00\n",
      "2001-03-29T00:00:00+01:00\n",
      "2002-03-29T00:00:00+00:00\n",
      "2003-03-29T00:00:00+00:00\n",
      "2004-03-29T00:00:00+01:00\n",
      "2005-03-29T00:00:00+01:00\n",
      "2006-03-29T00:00:00+01:00\n",
      "2007-03-29T00:00:00+01:00\n",
      "2008-03-29T00:00:00+00:00\n",
      "2009-03-29T00:00:00+00:00\n",
      "2010-03-29T00:00:00+01:00\n"
     ]
    }
   ],
   "source": [
    "# Import datetime and tz\n",
    "from datetime import datetime\n",
    "from dateutil import tz\n",
    "\n",
    "# Create starting date\n",
    "dt = datetime(2000, 3, 29, tzinfo = tz.gettz('Europe/London'))\n",
    "\n",
    "# Loop over the dates, replacing the year, and print the ISO timestamp\n",
    "for y in range(2000, 2011):\n",
    "    print(dt.replace(year=y).isoformat())"
   ]
  },
  {
   "cell_type": "markdown",
   "id": "4a06a4f6",
   "metadata": {},
   "source": [
    "## Finding ambiguous datetimes"
   ]
  },
  {
   "cell_type": "code",
   "execution_count": 33,
   "id": "41a9f85b",
   "metadata": {},
   "outputs": [
    {
     "name": "stdout",
     "output_type": "stream",
     "text": [
      "Ambiguous start at 2017-11-05 01:56:50-05:00\n",
      "Ambiguous end at 2017-11-05 01:01:04-05:00\n"
     ]
    }
   ],
   "source": [
    "# Loop over trips\n",
    "for trip in onebike_datetimes:\n",
    "    trip['start'] = trip['start'].astimezone(tz.gettz('America/New_York'))\n",
    "    trip['end'] = trip['end'].astimezone(tz.gettz('America/New_York'))\n",
    "    # Rides with ambiguous start\n",
    "    if tz.datetime_ambiguous(trip['start']):\n",
    "        print(\"Ambiguous start at \" + str(trip['start']))\n",
    "    # Rides with ambiguous end\n",
    "    if tz.datetime_ambiguous(trip['end']):\n",
    "        print(\"Ambiguous end at \" + str(trip['end']))"
   ]
  },
  {
   "cell_type": "markdown",
   "id": "09b3536c",
   "metadata": {},
   "source": [
    "## Cleaning daylight saving data with fold"
   ]
  },
  {
   "cell_type": "code",
   "execution_count": 36,
   "id": "d7f6a54c",
   "metadata": {},
   "outputs": [
    {
     "data": {
      "text/html": [
       "<div>\n",
       "<style scoped>\n",
       "    .dataframe tbody tr th:only-of-type {\n",
       "        vertical-align: middle;\n",
       "    }\n",
       "\n",
       "    .dataframe tbody tr th {\n",
       "        vertical-align: top;\n",
       "    }\n",
       "\n",
       "    .dataframe thead th {\n",
       "        text-align: right;\n",
       "    }\n",
       "</style>\n",
       "<table border=\"1\" class=\"dataframe\">\n",
       "  <thead>\n",
       "    <tr style=\"text-align: right;\">\n",
       "      <th></th>\n",
       "      <th>Start date</th>\n",
       "      <th>End date</th>\n",
       "      <th>Start station number</th>\n",
       "      <th>Start station</th>\n",
       "      <th>End station number</th>\n",
       "      <th>End station</th>\n",
       "      <th>Bike number</th>\n",
       "      <th>Member type</th>\n",
       "    </tr>\n",
       "  </thead>\n",
       "  <tbody>\n",
       "    <tr>\n",
       "      <th>0</th>\n",
       "      <td>2017-10-01 15:23:25</td>\n",
       "      <td>2017-10-01 15:26:26</td>\n",
       "      <td>31038</td>\n",
       "      <td>Glebe Rd &amp; 11th St N</td>\n",
       "      <td>31036</td>\n",
       "      <td>George Mason Dr &amp; Wilson Blvd</td>\n",
       "      <td>W20529</td>\n",
       "      <td>Member</td>\n",
       "    </tr>\n",
       "    <tr>\n",
       "      <th>1</th>\n",
       "      <td>2017-10-01 15:42:57</td>\n",
       "      <td>2017-10-01 17:49:59</td>\n",
       "      <td>31036</td>\n",
       "      <td>George Mason Dr &amp; Wilson Blvd</td>\n",
       "      <td>31036</td>\n",
       "      <td>George Mason Dr &amp; Wilson Blvd</td>\n",
       "      <td>W20529</td>\n",
       "      <td>Casual</td>\n",
       "    </tr>\n",
       "    <tr>\n",
       "      <th>2</th>\n",
       "      <td>2017-10-02 06:37:10</td>\n",
       "      <td>2017-10-02 06:42:53</td>\n",
       "      <td>31036</td>\n",
       "      <td>George Mason Dr &amp; Wilson Blvd</td>\n",
       "      <td>31037</td>\n",
       "      <td>Ballston Metro / N Stuart &amp; 9th St N</td>\n",
       "      <td>W20529</td>\n",
       "      <td>Member</td>\n",
       "    </tr>\n",
       "    <tr>\n",
       "      <th>3</th>\n",
       "      <td>2017-10-02 08:56:45</td>\n",
       "      <td>2017-10-02 09:18:03</td>\n",
       "      <td>31037</td>\n",
       "      <td>Ballston Metro / N Stuart &amp; 9th St N</td>\n",
       "      <td>31295</td>\n",
       "      <td>Potomac &amp; M St NW</td>\n",
       "      <td>W20529</td>\n",
       "      <td>Member</td>\n",
       "    </tr>\n",
       "    <tr>\n",
       "      <th>4</th>\n",
       "      <td>2017-10-02 18:23:48</td>\n",
       "      <td>2017-10-02 18:45:05</td>\n",
       "      <td>31295</td>\n",
       "      <td>Potomac &amp; M St NW</td>\n",
       "      <td>31230</td>\n",
       "      <td>Metro Center / 12th &amp; G St NW</td>\n",
       "      <td>W20529</td>\n",
       "      <td>Member</td>\n",
       "    </tr>\n",
       "  </tbody>\n",
       "</table>\n",
       "</div>"
      ],
      "text/plain": [
       "            Start date             End date  Start station number  \\\n",
       "0  2017-10-01 15:23:25  2017-10-01 15:26:26                 31038   \n",
       "1  2017-10-01 15:42:57  2017-10-01 17:49:59                 31036   \n",
       "2  2017-10-02 06:37:10  2017-10-02 06:42:53                 31036   \n",
       "3  2017-10-02 08:56:45  2017-10-02 09:18:03                 31037   \n",
       "4  2017-10-02 18:23:48  2017-10-02 18:45:05                 31295   \n",
       "\n",
       "                          Start station  End station number  \\\n",
       "0                  Glebe Rd & 11th St N               31036   \n",
       "1         George Mason Dr & Wilson Blvd               31036   \n",
       "2         George Mason Dr & Wilson Blvd               31037   \n",
       "3  Ballston Metro / N Stuart & 9th St N               31295   \n",
       "4                     Potomac & M St NW               31230   \n",
       "\n",
       "                            End station Bike number Member type  \n",
       "0         George Mason Dr & Wilson Blvd      W20529      Member  \n",
       "1         George Mason Dr & Wilson Blvd      W20529      Casual  \n",
       "2  Ballston Metro / N Stuart & 9th St N      W20529      Member  \n",
       "3                     Potomac & M St NW      W20529      Member  \n",
       "4         Metro Center / 12th & G St NW      W20529      Member  "
      ]
     },
     "execution_count": 36,
     "metadata": {},
     "output_type": "execute_result"
    }
   ],
   "source": [
    "import pandas as pd\n",
    "from datetime import datetime\n",
    "\n",
    "df = pd.read_csv('capital-onebike.csv')\n",
    "df.head()"
   ]
  },
  {
   "cell_type": "code",
   "execution_count": 37,
   "id": "9b72d0ce",
   "metadata": {},
   "outputs": [],
   "source": [
    "# Write down the format string\n",
    "fmt = \"%Y-%m-%d %H:%M:%S\"\n",
    "\n",
    "# Initialize a list for holding the pairs of datetime objects\n",
    "onebike_datetimes = []\n",
    "\n",
    "# Loop over all trips\n",
    "for i in range(df.shape[0]):\n",
    "    start = df['Start date'][i]\n",
    "    end = df['End date'][i]\n",
    "    trip = {'start': datetime.strptime(start, fmt),\n",
    "            'end': datetime.strptime(end, fmt)}\n",
    "  \n",
    "    # Append the trip\n",
    "    onebike_datetimes.append(trip)"
   ]
  },
  {
   "cell_type": "code",
   "execution_count": 43,
   "id": "13713356",
   "metadata": {},
   "outputs": [
    {
     "name": "stdout",
     "output_type": "stream",
     "text": [
      "Shortest trip: 116.0\n"
     ]
    }
   ],
   "source": [
    "trip_durations = []\n",
    "for trip in onebike_datetimes:\n",
    "    \n",
    "    # Convert to UTC\n",
    "    start = trip['start'].astimezone(timezone.utc)\n",
    "    end = trip['end'].astimezone(timezone.utc)\n",
    "\n",
    "    # When the start is later than the end, set the fold to be 1\n",
    "    if start > end:\n",
    "        end = tz.enfold(end)\n",
    "\n",
    "    # Subtract the difference\n",
    "    trip_length_seconds = (end-start).total_seconds()\n",
    "    trip_durations.append(trip_length_seconds)\n",
    "\n",
    "# Take the shortest trip duration\n",
    "print(\"Shortest trip: \" + str(min(trip_durations)))"
   ]
  },
  {
   "cell_type": "code",
   "execution_count": null,
   "id": "e164c5f7",
   "metadata": {},
   "outputs": [],
   "source": []
  }
 ],
 "metadata": {
  "kernelspec": {
   "display_name": "Python 3 (ipykernel)",
   "language": "python",
   "name": "python3"
  },
  "language_info": {
   "codemirror_mode": {
    "name": "ipython",
    "version": 3
   },
   "file_extension": ".py",
   "mimetype": "text/x-python",
   "name": "python",
   "nbconvert_exporter": "python",
   "pygments_lexer": "ipython3",
   "version": "3.8.12"
  }
 },
 "nbformat": 4,
 "nbformat_minor": 5
}
