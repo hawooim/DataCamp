{
 "cells": [
  {
   "cell_type": "markdown",
   "id": "d6b5b774",
   "metadata": {},
   "source": [
    "## Which day of the week?"
   ]
  },
  {
   "cell_type": "code",
   "execution_count": 1,
   "id": "1fd8f3c4",
   "metadata": {},
   "outputs": [
    {
     "name": "stdout",
     "output_type": "stream",
     "text": [
      "0\n"
     ]
    }
   ],
   "source": [
    "# Import date from datetime\n",
    "from datetime import date\n",
    "\n",
    "# Create a date object\n",
    "hurricane_andrew = date(1992, 8, 24)\n",
    "\n",
    "# Which day of the week is the date?\n",
    "print(hurricane_andrew.weekday())"
   ]
  },
  {
   "cell_type": "markdown",
   "id": "34e0da49",
   "metadata": {},
   "source": [
    "## How many hurricanes come early?"
   ]
  },
  {
   "cell_type": "code",
   "execution_count": 10,
   "id": "047269a7",
   "metadata": {},
   "outputs": [
    {
     "data": {
      "text/plain": [
       "[datetime.date(1988, 8, 4),\n",
       " datetime.date(1990, 10, 12),\n",
       " datetime.date(2003, 4, 20),\n",
       " datetime.date(1971, 9, 1),\n",
       " datetime.date(1988, 8, 23)]"
      ]
     },
     "execution_count": 10,
     "metadata": {},
     "output_type": "execute_result"
    }
   ],
   "source": [
    "import pickle\n",
    "\n",
    "with open('florida_hurricane_dates.pkl', 'rb') as file:\n",
    "    florida_hurricane_dates = pickle.load(file)\n",
    "    \n",
    "florida_hurricane_dates[:5]"
   ]
  },
  {
   "cell_type": "code",
   "execution_count": 11,
   "id": "ae8922c9",
   "metadata": {},
   "outputs": [
    {
     "data": {
      "text/plain": [
       "235"
      ]
     },
     "execution_count": 11,
     "metadata": {},
     "output_type": "execute_result"
    }
   ],
   "source": [
    "len(florida_hurricane_dates)"
   ]
  },
  {
   "cell_type": "code",
   "execution_count": 12,
   "id": "84d399a6",
   "metadata": {},
   "outputs": [
    {
     "name": "stdout",
     "output_type": "stream",
     "text": [
      "10\n"
     ]
    }
   ],
   "source": [
    "# Counter for how many before June 1\n",
    "early_hurricanes = 0\n",
    "\n",
    "# We loop over the dates\n",
    "for hurricane in florida_hurricane_dates:\n",
    "  # Check if the month is before June (month number 6)\n",
    "  if hurricane.month < 6:\n",
    "    early_hurricanes = early_hurricanes + 1\n",
    "    \n",
    "print(early_hurricanes)"
   ]
  },
  {
   "cell_type": "markdown",
   "id": "1ce22132",
   "metadata": {},
   "source": [
    "## Subtracting dates"
   ]
  },
  {
   "cell_type": "code",
   "execution_count": 13,
   "id": "2de3ef2e",
   "metadata": {},
   "outputs": [
    {
     "name": "stdout",
     "output_type": "stream",
     "text": [
      "218\n"
     ]
    }
   ],
   "source": [
    "# Import date\n",
    "from datetime import date\n",
    "\n",
    "# Create a date object for May 9th, 2007\n",
    "start = date(2007, 5, 9)\n",
    "\n",
    "# Create a date object for December 13th, 2007\n",
    "end = date(2007, 12, 13)\n",
    "\n",
    "# Subtract the two dates and print the number of days\n",
    "print((end - start).days)"
   ]
  },
  {
   "cell_type": "markdown",
   "id": "6a64b577",
   "metadata": {},
   "source": [
    "## Counting events per calendar month"
   ]
  },
  {
   "cell_type": "code",
   "execution_count": 14,
   "id": "eedd933c",
   "metadata": {},
   "outputs": [
    {
     "name": "stdout",
     "output_type": "stream",
     "text": [
      "{1: 0, 2: 1, 3: 0, 4: 1, 5: 8, 6: 32, 7: 21, 8: 49, 9: 70, 10: 43, 11: 9, 12: 1}\n"
     ]
    }
   ],
   "source": [
    "# A dictionary to count hurricanes per calendar month\n",
    "hurricanes_each_month = {1: 0, 2: 0, 3: 0, 4: 0, 5: 0, 6: 0, 7: 0, 8: 0, 9: 0, 10: 0, 11: 0, 12: 0}\n",
    "\n",
    "# Loop over all hurricanes\n",
    "for hurricane in florida_hurricane_dates:\n",
    "    # Pull out the month\n",
    "    month = hurricane.month\n",
    "    # Increment the count in your dictionary by one\n",
    "    hurricanes_each_month[month] += 1\n",
    "  \n",
    "print(hurricanes_each_month)"
   ]
  },
  {
   "cell_type": "markdown",
   "id": "6c4ce36e",
   "metadata": {},
   "source": [
    "## Putting a list of dates in order"
   ]
  },
  {
   "cell_type": "code",
   "execution_count": 15,
   "id": "0f5d734d",
   "metadata": {},
   "outputs": [
    {
     "name": "stdout",
     "output_type": "stream",
     "text": [
      "1988-08-04\n",
      "2011-07-18\n",
      "1950-08-31\n",
      "2017-10-29\n"
     ]
    }
   ],
   "source": [
    "# Print the first and last scrambled dates\n",
    "print(florida_hurricane_dates[0])\n",
    "print(florida_hurricane_dates[-1])\n",
    "\n",
    "# Put the dates in order\n",
    "dates_ordered = sorted(florida_hurricane_dates)\n",
    "\n",
    "# Print the first and last ordered dates\n",
    "print(dates_ordered[0])\n",
    "print(dates_ordered[-1])"
   ]
  },
  {
   "cell_type": "markdown",
   "id": "42661d59",
   "metadata": {},
   "source": [
    "## Printing dates in a friendly format"
   ]
  },
  {
   "cell_type": "code",
   "execution_count": 16,
   "id": "59eef1c0",
   "metadata": {},
   "outputs": [
    {
     "name": "stdout",
     "output_type": "stream",
     "text": [
      "ISO: Our earliest hurricane date: 1950-08-31\n",
      "US: Our earliest hurricane date: 08/31/1950\n"
     ]
    }
   ],
   "source": [
    "# Assign the earliest date to first_date\n",
    "first_date = min(florida_hurricane_dates)\n",
    "\n",
    "# Convert to ISO and US formats\n",
    "iso = \"Our earliest hurricane date: \" + first_date.isoformat()\n",
    "us = \"Our earliest hurricane date: \" + first_date.strftime(\"%m/%d/%Y\")\n",
    "\n",
    "print(\"ISO: \" + iso)\n",
    "print(\"US: \" + us)"
   ]
  },
  {
   "cell_type": "markdown",
   "id": "37442ef1",
   "metadata": {},
   "source": [
    "## Representing dates in different ways"
   ]
  },
  {
   "cell_type": "code",
   "execution_count": 17,
   "id": "65f420a9",
   "metadata": {},
   "outputs": [
    {
     "name": "stdout",
     "output_type": "stream",
     "text": [
      "1992-08\n"
     ]
    }
   ],
   "source": [
    "# Import date\n",
    "from datetime import date\n",
    "\n",
    "# Create a date object\n",
    "andrew = date(1992, 8, 26)\n",
    "\n",
    "# Print the date in the format 'YYYY-MM'\n",
    "print(andrew.strftime(andrew.strftime('%Y-%m')))"
   ]
  },
  {
   "cell_type": "code",
   "execution_count": 19,
   "id": "4a2f6f2b",
   "metadata": {},
   "outputs": [
    {
     "name": "stdout",
     "output_type": "stream",
     "text": [
      "August (1992)\n"
     ]
    }
   ],
   "source": [
    "# Import date\n",
    "from datetime import date\n",
    "\n",
    "# Create a date object\n",
    "andrew = date(1992, 8, 26)\n",
    "\n",
    "# Print the date in the format 'MONTH (YYYY)'\n",
    "print(andrew.strftime('%B (%Y)'))"
   ]
  },
  {
   "cell_type": "code",
   "execution_count": 20,
   "id": "20298b15",
   "metadata": {},
   "outputs": [
    {
     "name": "stdout",
     "output_type": "stream",
     "text": [
      "1992-239\n"
     ]
    }
   ],
   "source": [
    "# Import date\n",
    "from datetime import date\n",
    "\n",
    "# Create a date object\n",
    "andrew = date(1992, 8, 26)\n",
    "\n",
    "# Print the date in the format 'YYYY-DDD'\n",
    "print(andrew.strftime('%Y-%j'))"
   ]
  },
  {
   "cell_type": "code",
   "execution_count": null,
   "id": "05f7adf1",
   "metadata": {},
   "outputs": [],
   "source": []
  }
 ],
 "metadata": {
  "kernelspec": {
   "display_name": "Python 3 (ipykernel)",
   "language": "python",
   "name": "python3"
  },
  "language_info": {
   "codemirror_mode": {
    "name": "ipython",
    "version": 3
   },
   "file_extension": ".py",
   "mimetype": "text/x-python",
   "name": "python",
   "nbconvert_exporter": "python",
   "pygments_lexer": "ipython3",
   "version": "3.8.12"
  }
 },
 "nbformat": 4,
 "nbformat_minor": 5
}
