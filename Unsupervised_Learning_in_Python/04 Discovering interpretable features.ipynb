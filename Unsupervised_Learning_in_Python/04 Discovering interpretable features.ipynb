{
 "cells": [
  {
   "cell_type": "code",
   "execution_count": 3,
   "id": "82d797af",
   "metadata": {},
   "outputs": [],
   "source": [
    "import pandas as pd\n",
    "import numpy as np\n",
    "import matplotlib.pyplot as plt\n",
    "import seaborn as sns"
   ]
  },
  {
   "cell_type": "markdown",
   "id": "e5a4040a",
   "metadata": {},
   "source": [
    "## Non-negative matrix factorization(NMF)"
   ]
  },
  {
   "cell_type": "markdown",
   "id": "ac50cffd",
   "metadata": {},
   "source": [
    "### Non-negative matrix factorization\n",
    "- NMF = 'non-negative matrix factorization\n",
    "- Dimension reduction technique\n",
    "- NMF models are interpretable (unlike PCA)\n",
    "- Easy to interpret means easy to explain!\n",
    "- However, all samples features amust be non-negative (>=0)"
   ]
  },
  {
   "cell_type": "markdown",
   "id": "d6c72731",
   "metadata": {},
   "source": [
    "### Interpretable parts\n",
    "- NMF expresses documents as combinations of topics (or 'themes')\n",
    "- NMF expresses images as combinations of patterns"
   ]
  },
  {
   "cell_type": "markdown",
   "id": "0b917750",
   "metadata": {},
   "source": [
    "### Using scikit-learn NMF\n",
    "- Follows fit() / transform() pattern\n",
    "- Must specify number of components e.g. NMF(n_components=2)\n",
    "- Works with NumPy arrays and with csr_matrix"
   ]
  },
  {
   "cell_type": "markdown",
   "id": "98586d0b",
   "metadata": {},
   "source": [
    "### Example word-frequency array\n",
    "- Word frequency array, 4 words, many documents\n",
    "- Measure presence of words in each document using 'tf-idf'\n",
    " - 'tf' = frequency of word in document\n",
    " - 'idf' reduces influence of frequent words"
   ]
  },
  {
   "cell_type": "markdown",
   "id": "2c9c068f",
   "metadata": {},
   "source": [
    "### Example usage of NMF\n",
    " - samples is the word-frequency array"
   ]
  },
  {
   "cell_type": "code",
   "execution_count": null,
   "id": "8f4d7b54",
   "metadata": {},
   "outputs": [],
   "source": [
    "from sklearn.decomposition import NMF\n",
    "model = NMF(n_components=2)\n",
    "model.fit(samples)"
   ]
  },
  {
   "cell_type": "code",
   "execution_count": null,
   "id": "9a78db89",
   "metadata": {},
   "outputs": [],
   "source": [
    "nmf_features = model.transform(samples)"
   ]
  },
  {
   "cell_type": "markdown",
   "id": "f19250e3",
   "metadata": {},
   "source": [
    "### NMF components\n",
    "- NMF has components\n",
    "- ... just like PCA has principal components\n",
    "- Dimension of components = dimension of samples\n",
    "- Entries are non-negative"
   ]
  },
  {
   "cell_type": "code",
   "execution_count": null,
   "id": "a6d7180e",
   "metadata": {},
   "outputs": [],
   "source": [
    "print(model.components_)"
   ]
  },
  {
   "cell_type": "markdown",
   "id": "db1eba1d",
   "metadata": {},
   "source": [
    "### NMF features\n",
    "- NMF feature values are non-negative\n",
    "- Can be used to reconstruct the samples\n",
    "- ... combine feature values with components"
   ]
  },
  {
   "cell_type": "code",
   "execution_count": null,
   "id": "5dc6552a",
   "metadata": {},
   "outputs": [],
   "source": [
    "print(nmf_features)"
   ]
  },
  {
   "cell_type": "markdown",
   "id": "699de417",
   "metadata": {},
   "source": [
    "### Reconstruction of a sample"
   ]
  },
  {
   "cell_type": "code",
   "execution_count": null,
   "id": "1dfec8d1",
   "metadata": {},
   "outputs": [],
   "source": [
    "print(samples[i, :])"
   ]
  },
  {
   "cell_type": "code",
   "execution_count": null,
   "id": "9dfd2257",
   "metadata": {},
   "outputs": [],
   "source": [
    "print(nmf_features[i, :])"
   ]
  },
  {
   "cell_type": "markdown",
   "id": "81d7ad47",
   "metadata": {},
   "source": [
    "### Sample reconstruction\n",
    "- Multiply components by feature values, and add up\n",
    "- Can also be expressed as a product of matrices\n",
    "- This is the 'Matrix Factorization\" in 'NMF'"
   ]
  },
  {
   "cell_type": "markdown",
   "id": "4d3b3cf3",
   "metadata": {},
   "source": [
    "### NMF fits to non-negative data only\n",
    "- Word frequencies in each document\n",
    "- Images encoded as arrays\n",
    "- Audio spectograms\n",
    "- Purchase histories on e-commerce sites\n",
    "- ... many many more!"
   ]
  },
  {
   "cell_type": "markdown",
   "id": "7d372cb5",
   "metadata": {},
   "source": [
    "### NMF applied to Wikipedia articles\n",
    "- In the video, you saw NMF applied to transform a toy word-frequency array. Now it's your turn to apply NMF, this time using the tf-idf word-frequency array of Wikipedia articles, given as a csr matrix articles. Here, fit the model and transform the articles. In the next exercise, you'll explore the result."
   ]
  },
  {
   "cell_type": "code",
   "execution_count": 18,
   "id": "563889f9",
   "metadata": {},
   "outputs": [
    {
     "data": {
      "text/plain": [
       "(60, 13125)"
      ]
     },
     "execution_count": 18,
     "metadata": {},
     "output_type": "execute_result"
    }
   ],
   "source": [
    "titles = pd.read_csv('wikipedia-vectors.csv', index_col=0).columns\n",
    "articles = pd.read_csv('wikipedia-vectors.csv', index_col=0).values.T\n",
    "from scipy.sparse import csr_matrix\n",
    "articles = csr_matrix(articles)\n",
    "articles.shape"
   ]
  },
  {
   "cell_type": "code",
   "execution_count": 19,
   "id": "786107a2",
   "metadata": {},
   "outputs": [
    {
     "name": "stdout",
     "output_type": "stream",
     "text": [
      "[[0.   0.   0.   0.   0.   0.44]\n",
      " [0.   0.   0.   0.   0.   0.57]\n",
      " [0.   0.   0.   0.   0.   0.4 ]\n",
      " [0.   0.   0.   0.   0.   0.38]\n",
      " [0.   0.   0.   0.   0.   0.49]\n",
      " [0.01 0.01 0.01 0.03 0.   0.33]\n",
      " [0.   0.   0.02 0.   0.01 0.36]\n",
      " [0.   0.   0.   0.   0.   0.49]\n",
      " [0.02 0.01 0.   0.02 0.03 0.48]\n",
      " [0.01 0.03 0.03 0.07 0.02 0.34]\n",
      " [0.   0.   0.53 0.   0.03 0.  ]\n",
      " [0.   0.   0.36 0.   0.   0.  ]\n",
      " [0.01 0.01 0.31 0.06 0.01 0.02]\n",
      " [0.   0.01 0.34 0.01 0.   0.  ]\n",
      " [0.   0.   0.43 0.   0.04 0.  ]\n",
      " [0.   0.   0.48 0.   0.   0.  ]\n",
      " [0.01 0.02 0.38 0.03 0.   0.01]\n",
      " [0.   0.   0.48 0.   0.   0.  ]\n",
      " [0.   0.01 0.55 0.   0.   0.  ]\n",
      " [0.   0.   0.47 0.   0.   0.  ]\n",
      " [0.   0.01 0.02 0.52 0.06 0.01]\n",
      " [0.   0.   0.   0.51 0.   0.  ]\n",
      " [0.   0.01 0.   0.42 0.   0.  ]\n",
      " [0.   0.   0.   0.44 0.   0.  ]\n",
      " [0.   0.   0.   0.5  0.   0.  ]\n",
      " [0.1  0.09 0.   0.38 0.   0.01]\n",
      " [0.   0.   0.   0.57 0.   0.01]\n",
      " [0.01 0.01 0.   0.47 0.   0.01]\n",
      " [0.   0.   0.   0.58 0.   0.  ]\n",
      " [0.   0.   0.   0.53 0.01 0.01]\n",
      " [0.   0.41 0.   0.   0.   0.  ]\n",
      " [0.   0.61 0.   0.01 0.   0.  ]\n",
      " [0.01 0.27 0.   0.02 0.01 0.  ]\n",
      " [0.   0.64 0.   0.   0.   0.  ]\n",
      " [0.   0.61 0.   0.   0.   0.  ]\n",
      " [0.   0.34 0.   0.   0.   0.  ]\n",
      " [0.01 0.32 0.02 0.   0.01 0.  ]\n",
      " [0.01 0.21 0.01 0.05 0.02 0.01]\n",
      " [0.01 0.47 0.   0.02 0.   0.  ]\n",
      " [0.   0.64 0.   0.   0.   0.  ]\n",
      " [0.   0.   0.   0.   0.48 0.  ]\n",
      " [0.   0.   0.   0.   0.49 0.  ]\n",
      " [0.   0.   0.   0.   0.38 0.01]\n",
      " [0.   0.   0.   0.01 0.54 0.  ]\n",
      " [0.   0.   0.01 0.   0.42 0.  ]\n",
      " [0.   0.   0.   0.   0.51 0.  ]\n",
      " [0.   0.   0.   0.   0.37 0.  ]\n",
      " [0.   0.   0.04 0.   0.23 0.  ]\n",
      " [0.01 0.   0.02 0.01 0.33 0.04]\n",
      " [0.   0.   0.   0.   0.42 0.  ]\n",
      " [0.31 0.   0.   0.   0.   0.  ]\n",
      " [0.37 0.   0.   0.   0.   0.  ]\n",
      " [0.4  0.03 0.   0.02 0.   0.02]\n",
      " [0.38 0.   0.   0.04 0.   0.01]\n",
      " [0.44 0.   0.   0.   0.   0.  ]\n",
      " [0.46 0.   0.   0.   0.   0.  ]\n",
      " [0.28 0.   0.   0.05 0.   0.02]\n",
      " [0.45 0.   0.   0.   0.01 0.  ]\n",
      " [0.29 0.01 0.01 0.01 0.19 0.01]\n",
      " [0.38 0.01 0.   0.1  0.01 0.  ]]\n"
     ]
    }
   ],
   "source": [
    "# Import NMF\n",
    "from sklearn.decomposition import NMF\n",
    "\n",
    "# Create an NMF instance: model\n",
    "model = NMF(n_components=6)\n",
    "\n",
    "# Fit the model to articles\n",
    "model.fit(articles)\n",
    "\n",
    "# Transform the articles: nmf_features\n",
    "nmf_features = model.transform(articles)\n",
    "\n",
    "# Print the NMF features\n",
    "print(nmf_features.round(2))"
   ]
  },
  {
   "cell_type": "markdown",
   "id": "d946712b",
   "metadata": {},
   "source": [
    "Fantastic - let's explore the meaning of these features in the next exercise!"
   ]
  },
  {
   "cell_type": "markdown",
   "id": "1fb7c254",
   "metadata": {},
   "source": [
    "### NMF features of the Wikipedia articles\n",
    "- Now you will explore the NMF features you created in the previous exercise. A solution to the previous exercise has been pre-loaded, so the array nmf_features is available. Also available is a list titles giving the title of each Wikipedia article.\n",
    "\n",
    "- When investigating the features, notice that for both actors, the NMF feature 3 has by far the highest value. This means that both articles are reconstructed using mainly the 3rd NMF component. In the next video, you'll see why: NMF components represent topics (for instance, acting!)."
   ]
  },
  {
   "cell_type": "code",
   "execution_count": 20,
   "id": "fd06636f",
   "metadata": {},
   "outputs": [
    {
     "name": "stdout",
     "output_type": "stream",
     "text": [
      "0    0.003845\n",
      "1    0.000000\n",
      "2    0.000000\n",
      "3    0.575612\n",
      "4    0.000000\n",
      "5    0.000000\n",
      "Name: Anne Hathaway, dtype: float64\n",
      "0    0.000000\n",
      "1    0.005601\n",
      "2    0.000000\n",
      "3    0.422308\n",
      "4    0.000000\n",
      "5    0.000000\n",
      "Name: Denzel Washington, dtype: float64\n"
     ]
    }
   ],
   "source": [
    "# Import pandas\n",
    "import pandas as pd\n",
    "\n",
    "# Create a pandas DataFrame: df\n",
    "df = pd.DataFrame(nmf_features, index=titles)\n",
    "\n",
    "# Print the row for 'Anne Hathaway'\n",
    "print(df.loc['Anne Hathaway'])\n",
    "\n",
    "# Print the row for 'Denzel Washington'\n",
    "print(df.loc['Denzel Washington'])"
   ]
  },
  {
   "cell_type": "markdown",
   "id": "6c2a0e43",
   "metadata": {},
   "source": [
    "Great work! Notice that for both actors, the NMF feature 3 has by far the highest value. This means that both articles are reconstructed using mainly the 3rd NMF component. In the next video, you'll see why: NMF components represent topics (for instance, acting!)."
   ]
  },
  {
   "cell_type": "markdown",
   "id": "1d8f931b",
   "metadata": {},
   "source": [
    "### NMF reconstructs samples\n",
    "- In this exercise, you'll check your understanding of how NMF reconstructs samples from its components using the NMF feature values. On the right are the components of an NMF model. If the NMF feature values of a sample are [2, 1], then which of the following is most likely to represent the original sample? A pen and paper will help here! You have to apply the same technique Ben used in the video to reconstruct the sample [0.1203 0.1764 0.3195 0.141]."
   ]
  },
  {
   "cell_type": "code",
   "execution_count": 15,
   "id": "98f1ddb4",
   "metadata": {},
   "outputs": [
    {
     "data": {
      "text/plain": [
       "[2.2, 1.1, 2.1]"
      ]
     },
     "execution_count": 15,
     "metadata": {},
     "output_type": "execute_result"
    }
   ],
   "source": [
    "# the components of an NMF model\n",
    "[[1.0, 0.5, 0.0], \n",
    " [0.2, 0.1, 2.1]]\n",
    "\n",
    "# the NMF feature values \n",
    "[2, 1]\n",
    "\n",
    "# the answer\n",
    "[2.2, 1.1, 2.1]\n",
    "\n",
    "#   2 * [1.0, 0.5, 0.0]\n",
    "# + 1 * [0.2, 0.1, 2.1]\n",
    "#   =   [2.2, 1.1, 2.1]"
   ]
  },
  {
   "cell_type": "markdown",
   "id": "73cdc22c",
   "metadata": {},
   "source": [
    "## NMF learns interpretable parts"
   ]
  },
  {
   "cell_type": "markdown",
   "id": "588976f4",
   "metadata": {},
   "source": [
    "## Example: NMF learns interpretable parts\n",
    "- Word-frequency array articles(tf-idf)\n",
    "- 20,000 scientific articles (rows)\n",
    "- 800 words (columns)"
   ]
  },
  {
   "cell_type": "markdown",
   "id": "7222656a",
   "metadata": {},
   "source": [
    "### Applying NMF to the articles"
   ]
  },
  {
   "cell_type": "code",
   "execution_count": null,
   "id": "d1a059ee",
   "metadata": {},
   "outputs": [],
   "source": [
    "print(articles.shape)  # (20000, 800)"
   ]
  },
  {
   "cell_type": "code",
   "execution_count": null,
   "id": "3171b492",
   "metadata": {},
   "outputs": [],
   "source": [
    "from sklearn.decomposition import NMF\n",
    "nmf = NMF(n_components=10)\n",
    "nmf.fit(articles)"
   ]
  },
  {
   "cell_type": "code",
   "execution_count": null,
   "id": "79fc4ea5",
   "metadata": {},
   "outputs": [],
   "source": [
    "print(nmf.components_.shape)  # (10, 800)"
   ]
  },
  {
   "cell_type": "markdown",
   "id": "f9b4e830",
   "metadata": {},
   "source": [
    "### NMF components\n",
    "- For documents:\n",
    " - NMF components represent topics\n",
    " - NMF features combine topics into documents\n",
    "- For images, NMF compoents are parts of images"
   ]
  },
  {
   "cell_type": "markdown",
   "id": "0f3dfd64",
   "metadata": {},
   "source": [
    "### Grayscale images\n",
    "- 'Grayscale' image = no colors, only shades of gray\n",
    "- Measure pixel brightness\n",
    "- Represent with value between 0 and 1 (0 is black)\n",
    "- Convert to 2D array"
   ]
  },
  {
   "cell_type": "markdown",
   "id": "6e0b83e4",
   "metadata": {},
   "source": [
    "### Grayscale images as flat arrays\n",
    "- Enumerate the entries\n",
    "- Row-by-row\n",
    "- From left to right top to bottom"
   ]
  },
  {
   "cell_type": "markdown",
   "id": "f165dabb",
   "metadata": {},
   "source": [
    "### Encoding a collection of images\n",
    "- collection of images of the same size\n",
    "- Encode as 2D array\n",
    "- Each row corresponds to an image\n",
    "- Each column corresponds to a pixel\n",
    "- ... can apply NMF!"
   ]
  },
  {
   "cell_type": "markdown",
   "id": "23e7df8c",
   "metadata": {},
   "source": [
    "### Visualizing samples"
   ]
  },
  {
   "cell_type": "code",
   "execution_count": null,
   "id": "eba8092b",
   "metadata": {},
   "outputs": [],
   "source": [
    "print(sample)  # [0, 1, 0.5, 1, 0, 1]"
   ]
  },
  {
   "cell_type": "code",
   "execution_count": null,
   "id": "8596bbb2",
   "metadata": {},
   "outputs": [],
   "source": [
    "bitmap = sample.reshape((2, 3))\n",
    "print(bitmap)  # [[0, 1, 0.5]\n",
    "               #  [1, 0, 1]]"
   ]
  },
  {
   "cell_type": "code",
   "execution_count": null,
   "id": "6b124b4d",
   "metadata": {},
   "outputs": [],
   "source": [
    "import matplotlib.pyplot as plt\n",
    "plt.imshow(bitmap, cmap='gray', interpolation='nearest')\n",
    "plt.show()"
   ]
  },
  {
   "cell_type": "markdown",
   "id": "15667cdd",
   "metadata": {},
   "source": [
    "### NMF learns topics of documents\n",
    "- In the video, you learned when NMF is applied to documents, the components correspond to topics of documents, and the NMF features reconstruct the documents from the topics. Verify this for yourself for the NMF model that you built earlier using the Wikipedia articles. Previously, you saw that the 3rd NMF feature value was high for the articles about actors Anne Hathaway and Denzel Washington. In this exercise, identify the topic of the corresponding NMF component.\n",
    "\n",
    "- The NMF model you built earlier is available as model, while words is a list of the words that label the columns of the word-frequency array.\n",
    "\n",
    "- After you are done, take a moment to recognise the topic that the articles about Anne Hathaway and Denzel Washington have in common!"
   ]
  },
  {
   "cell_type": "code",
   "execution_count": null,
   "id": "fd4b577b",
   "metadata": {},
   "outputs": [],
   "source": [
    "# Import pandas\n",
    "import pandas as pd\n",
    "\n",
    "# Create a DataFrame: components_df\n",
    "components_df = pd.DataFrame(model.components_, columns=words)\n",
    "\n",
    "# Print the shape of the DataFrame\n",
    "print(components_df.shape)\n",
    "\n",
    "# Select row 3: component\n",
    "component = components_df.loc[3]\n",
    "\n",
    "# Print result of nlargest\n",
    "print(component.nlargest())"
   ]
  },
  {
   "cell_type": "markdown",
   "id": "7d875004",
   "metadata": {},
   "source": [
    "Great work! Take a moment to recognise the topics that the articles about Anne Hathaway and Denzel Washington have in common!"
   ]
  },
  {
   "cell_type": "markdown",
   "id": "87086560",
   "metadata": {},
   "source": [
    "### Explore the LED digits dataset\n",
    "- In the following exercises, you'll use NMF to decompose grayscale images into their commonly occurring patterns. Firstly, explore the image dataset and see how it is encoded as an array. You are given 100 images as a 2D array samples, where each row represents a single 13x8 image. The images in your dataset are pictures of a LED digital display."
   ]
  },
  {
   "cell_type": "code",
   "execution_count": 27,
   "id": "16d9a613",
   "metadata": {},
   "outputs": [],
   "source": [
    "samples = pd.read_csv('lcd-digits.csv', header=None).values"
   ]
  },
  {
   "cell_type": "code",
   "execution_count": 28,
   "id": "a052a422",
   "metadata": {},
   "outputs": [
    {
     "name": "stdout",
     "output_type": "stream",
     "text": [
      "[0. 0. 0. 0. 0. 0. 0. 0. 0. 0. 1. 1. 1. 1. 0. 0. 0. 0. 0. 0. 0. 0. 1. 0.\n",
      " 0. 0. 0. 0. 0. 0. 1. 0. 0. 0. 0. 0. 0. 0. 1. 0. 0. 0. 0. 0. 0. 0. 1. 0.\n",
      " 0. 0. 0. 0. 0. 0. 0. 0. 0. 0. 0. 0. 0. 0. 1. 0. 0. 0. 0. 0. 0. 0. 1. 0.\n",
      " 0. 0. 0. 0. 0. 0. 1. 0. 0. 0. 0. 0. 0. 0. 1. 0. 0. 0. 0. 0. 0. 0. 0. 0.\n",
      " 0. 0. 0. 0. 0. 0. 0. 0.]\n",
      "[[0. 0. 0. 0. 0. 0. 0. 0.]\n",
      " [0. 0. 1. 1. 1. 1. 0. 0.]\n",
      " [0. 0. 0. 0. 0. 0. 1. 0.]\n",
      " [0. 0. 0. 0. 0. 0. 1. 0.]\n",
      " [0. 0. 0. 0. 0. 0. 1. 0.]\n",
      " [0. 0. 0. 0. 0. 0. 1. 0.]\n",
      " [0. 0. 0. 0. 0. 0. 0. 0.]\n",
      " [0. 0. 0. 0. 0. 0. 1. 0.]\n",
      " [0. 0. 0. 0. 0. 0. 1. 0.]\n",
      " [0. 0. 0. 0. 0. 0. 1. 0.]\n",
      " [0. 0. 0. 0. 0. 0. 1. 0.]\n",
      " [0. 0. 0. 0. 0. 0. 0. 0.]\n",
      " [0. 0. 0. 0. 0. 0. 0. 0.]]\n"
     ]
    },
    {
     "data": {
      "image/png": "[encoded data removed]",
      "text/plain": [
       "<Figure size 432x288 with 2 Axes>"
      ]
     },
     "metadata": {
      "needs_background": "light"
     },
     "output_type": "display_data"
    }
   ],
   "source": [
    "# Import pyplot\n",
    "from matplotlib import pyplot as plt\n",
    "\n",
    "# Select the 0th row: digit\n",
    "digit = samples[0, :]\n",
    "\n",
    "# Print digit\n",
    "print(digit)\n",
    "\n",
    "# Reshape digit to a 13x8 array: bitmap\n",
    "bitmap = digit.reshape((13, 8))\n",
    "\n",
    "# Print bitmap\n",
    "print(bitmap)\n",
    "\n",
    "# Use plt.imshow to display bitmap\n",
    "plt.imshow(bitmap, cmap='gray', interpolation='nearest')\n",
    "plt.colorbar()\n",
    "plt.show()"
   ]
  },
  {
   "cell_type": "markdown",
   "id": "6d54d4af",
   "metadata": {},
   "source": [
    "### NMF learns the parts of images\n",
    "- Now use what you've learned about NMF to decompose the digits dataset. You are again given the digit images as a 2D array samples. This time, you are also provided with a function show_as_image() that displays the image encoded by any 1D array:\n",
    "- After you are done, take a moment to look through the plots and notice how NMF has expressed the digit as a sum of the components!"
   ]
  },
  {
   "cell_type": "code",
   "execution_count": 29,
   "id": "c94bd619",
   "metadata": {},
   "outputs": [],
   "source": [
    "def show_as_image(sample):\n",
    "    bitmap = sample.reshape((13, 8))\n",
    "    plt.figure()\n",
    "    plt.imshow(bitmap, cmap='gray', interpolation='nearest')\n",
    "    plt.colorbar()\n",
    "    plt.show()"
   ]
  },
  {
   "cell_type": "code",
   "execution_count": 30,
   "id": "0edecfa7",
   "metadata": {
    "scrolled": false
   },
   "outputs": [
    {
     "data": {
      "image/png": "[encoded data removed]",
      "text/plain": [
       "<Figure size 432x288 with 2 Axes>"
      ]
     },
     "metadata": {
      "needs_background": "light"
     },
     "output_type": "display_data"
    },
    {
     "data": {
      "image/png": "[encoded data removed]",
      "text/plain": [
       "<Figure size 432x288 with 2 Axes>"
      ]
     },
     "metadata": {
      "needs_background": "light"
     },
     "output_type": "display_data"
    },
    {
     "data": {
      "image/png": "[encoded data removed]",
      "text/plain": [
       "<Figure size 432x288 with 2 Axes>"
      ]
     },
     "metadata": {
      "needs_background": "light"
     },
     "output_type": "display_data"
    },
    {
     "data": {
      "image/png": "[encoded data removed]",
      "text/plain": [
       "<Figure size 432x288 with 2 Axes>"
      ]
     },
     "metadata": {
      "needs_background": "light"
     },
     "output_type": "display_data"
    },
    {
     "data": {
      "image/png": "[encoded data removed]",
      "text/plain": [
       "<Figure size 432x288 with 2 Axes>"
      ]
     },
     "metadata": {
      "needs_background": "light"
     },
     "output_type": "display_data"
    },
    {
     "data": {
      "image/png": "[encoded data removed]",
      "text/plain": [
       "<Figure size 432x288 with 2 Axes>"
      ]
     },
     "metadata": {
      "needs_background": "light"
     },
     "output_type": "display_data"
    },
    {
     "data": {
      "image/png": "[encoded data removed]",
      "text/plain": [
       "<Figure size 432x288 with 2 Axes>"
      ]
     },
     "metadata": {
      "needs_background": "light"
     },
     "output_type": "display_data"
    },
    {
     "name": "stdout",
     "output_type": "stream",
     "text": [
      "[4.76823559e-01 0.00000000e+00 0.00000000e+00 5.90605054e-01\n",
      " 4.81559442e-01 0.00000000e+00 7.37562716e-16]\n"
     ]
    }
   ],
   "source": [
    "# Import NMF\n",
    "from sklearn.decomposition import NMF\n",
    "\n",
    "# Create an NMF model: model\n",
    "model = NMF(n_components=7)\n",
    "\n",
    "# Apply fit_transform to samples: features\n",
    "features = model.fit_transform(samples)\n",
    "\n",
    "# Call show_as_image on each component\n",
    "for component in model.components_:\n",
    "    show_as_image(component)\n",
    "\n",
    "# Assign the 0th row of features: digit_features\n",
    "digit_features = features[0, :]\n",
    "\n",
    "# Print digit_features\n",
    "print(digit_features)"
   ]
  },
  {
   "cell_type": "markdown",
   "id": "eb37ddf4",
   "metadata": {},
   "source": [
    "Great work! Take a moment to look through the plots and notice how NMF has expressed the digit as a sum of the components!"
   ]
  },
  {
   "cell_type": "markdown",
   "id": "51173c95",
   "metadata": {},
   "source": [
    "### PCA doesn't learn parts\n",
    "- Unlike NMF, PCA doesn't learn the parts of things. Its components do not correspond to topics (in the case of documents) or to parts of images, when trained on images. Verify this for yourself by inspecting the components of a PCA model fit to the dataset of LED digit images from the previous exercise. The images are available as a 2D array samples. Also available is a modified version of the show_as_image() function which colors a pixel red if the value is negative.\n",
    "\n",
    "- After submitting the answer, notice that the components of PCA do not represent meaningful parts of images of LED digits!"
   ]
  },
  {
   "cell_type": "code",
   "execution_count": 33,
   "id": "35beab85",
   "metadata": {
    "scrolled": false
   },
   "outputs": [
    {
     "data": {
      "image/png": "[encoded data removed]",
      "text/plain": [
       "<Figure size 432x288 with 2 Axes>"
      ]
     },
     "metadata": {
      "needs_background": "light"
     },
     "output_type": "display_data"
    },
    {
     "data": {
      "image/png": "[encoded data removed]",
      "text/plain": [
       "<Figure size 432x288 with 2 Axes>"
      ]
     },
     "metadata": {
      "needs_background": "light"
     },
     "output_type": "display_data"
    },
    {
     "data": {
      "image/png": "[encoded data removed]",
      "text/plain": [
       "<Figure size 432x288 with 2 Axes>"
      ]
     },
     "metadata": {
      "needs_background": "light"
     },
     "output_type": "display_data"
    },
    {
     "data": {
      "image/png": "[encoded data removed]",
      "text/plain": [
       "<Figure size 432x288 with 2 Axes>"
      ]
     },
     "metadata": {
      "needs_background": "light"
     },
     "output_type": "display_data"
    },
    {
     "data": {
      "image/png": "[encoded data removed]",
      "text/plain": [
       "<Figure size 432x288 with 2 Axes>"
      ]
     },
     "metadata": {
      "needs_background": "light"
     },
     "output_type": "display_data"
    },
    {
     "data": {
      "image/png": "[encoded data removed]",
      "text/plain": [
       "<Figure size 432x288 with 2 Axes>"
      ]
     },
     "metadata": {
      "needs_background": "light"
     },
     "output_type": "display_data"
    },
    {
     "data": {
      "image/png": "[encoded data removed]",
      "text/plain": [
       "<Figure size 432x288 with 2 Axes>"
      ]
     },
     "metadata": {
      "needs_background": "light"
     },
     "output_type": "display_data"
    }
   ],
   "source": [
    "# Import PCA\n",
    "from sklearn.decomposition import PCA\n",
    "\n",
    "# Create a PCA instance: model\n",
    "model = PCA(n_components=7)\n",
    "\n",
    "# Apply fit_transform to samples: features\n",
    "features = model.fit_transform(samples)\n",
    "\n",
    "# Call show_as_image on each component\n",
    "for component in model.components_:\n",
    "    show_as_image(component)"
   ]
  },
  {
   "cell_type": "markdown",
   "id": "c4330636",
   "metadata": {},
   "source": [
    "Great work! Notice that the components of PCA do not represent meaningful parts of images of LED digits!"
   ]
  },
  {
   "cell_type": "markdown",
   "id": "f5d5bb19",
   "metadata": {},
   "source": [
    "## Building recommender systems using NMF"
   ]
  },
  {
   "cell_type": "markdown",
   "id": "7c11b605",
   "metadata": {},
   "source": [
    "### Finding similar articles\n",
    "- Engineer at a large online newspaper\n",
    "- Task: recommend articles similar to article being read by customer\n",
    "- Similar articles should hae similar topics"
   ]
  },
  {
   "cell_type": "markdown",
   "id": "ca2dc74a",
   "metadata": {},
   "source": [
    "### Strategy\n",
    "- Apply NMF to the word-frequency array\n",
    "- NMF feature values describe the topics\n",
    "- ... so similar documents have similar NMF feature values\n",
    "- Compare NMF feature values?"
   ]
  },
  {
   "cell_type": "markdown",
   "id": "46232223",
   "metadata": {},
   "source": [
    "### Apply NMF to the word-frequency array\n",
    "- artiles is a word frequency array"
   ]
  },
  {
   "cell_type": "code",
   "execution_count": null,
   "id": "8b6a3821",
   "metadata": {},
   "outputs": [],
   "source": [
    "from sklearn.decomposition import NMF\n",
    "nmf = NMF(n_components=6)\n",
    "nmf_features = nmf.fit_transform(articles)"
   ]
  },
  {
   "cell_type": "markdown",
   "id": "52b266fa",
   "metadata": {},
   "source": [
    "### Versions of articles\n",
    "- Differnt versions of the same document have same topic proportions\n",
    "- ... exact feature values may be different!\n",
    "- E.g. because one version uses many meaningless words (strong version vs. weak version)\n",
    "- But all versions lie on the same line through the origin"
   ]
  },
  {
   "cell_type": "markdown",
   "id": "90a0a69a",
   "metadata": {},
   "source": [
    "### Cosine similarity\n",
    "- Uses the angle between the lines\n",
    "- Higher value means more similar\n",
    "- Maximum value is 1, when angle is 0 degrees"
   ]
  },
  {
   "cell_type": "markdown",
   "id": "2ced1931",
   "metadata": {},
   "source": [
    "### Calculating the cosine similarities"
   ]
  },
  {
   "cell_type": "code",
   "execution_count": null,
   "id": "35d25697",
   "metadata": {},
   "outputs": [],
   "source": [
    "from sklearn.preprocessing import normalize\n",
    "norm_features = normalize(nmf_features)\n",
    "# if has index 23\n",
    "current_article = norm_features[23, :]\n",
    "similarities = norm_features.dot(current_article)\n",
    "print(similarities)"
   ]
  },
  {
   "cell_type": "markdown",
   "id": "0da3145c",
   "metadata": {},
   "source": [
    "### DataFrames and labels\n",
    "- Label similarities with the article titles, using a DataFrame\n",
    "- Titles given as a list: titles"
   ]
  },
  {
   "cell_type": "code",
   "execution_count": null,
   "id": "f51c3263",
   "metadata": {},
   "outputs": [],
   "source": [
    "import pandas as pd\n",
    "norm_features = normalize(nmf_features)\n",
    "df = pd.DataFrame(norm_features, index=titles)\n",
    "current_article = df.loc['Dog bites man']\n",
    "similarities = df.dot(current_article)\n",
    "print(similarities.nlargest())"
   ]
  },
  {
   "cell_type": "markdown",
   "id": "1b9149b5",
   "metadata": {},
   "source": [
    "### Which articles are similar to 'Cristiano Ronaldo'?\n",
    "- In the video, you learned how to use NMF features and the cosine similarity to find similar articles. Apply this to your NMF model for popular Wikipedia articles, by finding the articles most similar to the article about the footballer Cristiano Ronaldo. The NMF features you obtained earlier are available as nmf_features, while titles is a list of the article titles."
   ]
  },
  {
   "cell_type": "code",
   "execution_count": 35,
   "id": "488231ae",
   "metadata": {},
   "outputs": [
    {
     "name": "stdout",
     "output_type": "stream",
     "text": [
      "Cristiano Ronaldo                1.000000\n",
      "Franck Ribéry                    0.999972\n",
      "Radamel Falcao                   0.999942\n",
      "Zlatan Ibrahimović               0.999942\n",
      "France national football team    0.999923\n",
      "dtype: float64\n"
     ]
    }
   ],
   "source": [
    "# Perform the necessary imports\n",
    "import pandas as pd\n",
    "from sklearn.preprocessing import normalize\n",
    "\n",
    "# Normalize the NMF features: norm_features\n",
    "norm_features = normalize(nmf_features)\n",
    "\n",
    "# Create a DataFrame: df\n",
    "df = pd.DataFrame(norm_features, index=titles)\n",
    "\n",
    "# Select the row corresponding to 'Cristiano Ronaldo': article\n",
    "article = df.loc['Cristiano Ronaldo']\n",
    "\n",
    "# Compute the dot products: similarities\n",
    "similarities = df.dot(article)\n",
    "\n",
    "# Display those with the largest cosine similarity\n",
    "print(similarities.nlargest())"
   ]
  },
  {
   "cell_type": "markdown",
   "id": "9c8b2895",
   "metadata": {},
   "source": [
    "Great work - although you may need to know a little about football (or soccer, depending on where you're from!) to be able to evaluate for yourself the quality of the computed similarities!"
   ]
  },
  {
   "cell_type": "markdown",
   "id": "232f519e",
   "metadata": {},
   "source": [
    "### Recommend musical artists part I\n",
    "- In this exercise and the next, you'll use what you've learned about NMF to recommend popular music artists! You are given a sparse array artists whose rows correspond to artists and whose columns correspond to users. The entries give the number of times each artist was listened to by each user.\n",
    "\n",
    "- In this exercise, build a pipeline and transform the array into normalized NMF features. The first step in the pipeline, MaxAbsScaler, transforms the data so that all users have the same influence on the model, regardless of how many different artists they've listened to. In the next exercise, you'll use the resulting normalized NMF features for recommendation!"
   ]
  },
  {
   "cell_type": "code",
   "execution_count": 63,
   "id": "61761773",
   "metadata": {},
   "outputs": [
    {
     "data": {
      "text/plain": [
       "(111, 500)"
      ]
     },
     "execution_count": 63,
     "metadata": {},
     "output_type": "execute_result"
    }
   ],
   "source": [
    "artist_names = pd.read_csv('artists.csv', header=None)[0].values\n",
    "raw_ = pd.read_csv('scrobbler-small-sample.csv')\n",
    "artists = pd.crosstab(raw_['artist_offset'], raw_['user_offset']).values\n",
    "artists.shape"
   ]
  },
  {
   "cell_type": "code",
   "execution_count": 64,
   "id": "c9b9e9c5",
   "metadata": {},
   "outputs": [],
   "source": [
    "# Perform the necessary imports\n",
    "from sklearn.decomposition import NMF\n",
    "from sklearn.preprocessing import Normalizer, MaxAbsScaler\n",
    "from sklearn.pipeline import make_pipeline\n",
    "\n",
    "# Create a MaxAbsScaler: scaler\n",
    "scaler = MaxAbsScaler()\n",
    "\n",
    "# Create an NMF model: nmf\n",
    "nmf = NMF(n_components=20)\n",
    "\n",
    "# Create a Normalizer: normalizer\n",
    "normalizer = Normalizer()\n",
    "\n",
    "# Create a pipeline: pipeline\n",
    "pipeline = make_pipeline(scaler, nmf, normalizer)\n",
    "\n",
    "# Apply fit_transform to artists: norm_features\n",
    "norm_features = pipeline.fit_transform(artists)"
   ]
  },
  {
   "cell_type": "markdown",
   "id": "da08a504",
   "metadata": {},
   "source": [
    "Excellent work - now that you've computed the normalized NMF features, you'll use them in the next exercise to recommend musical artists!"
   ]
  },
  {
   "cell_type": "markdown",
   "id": "363502dc",
   "metadata": {},
   "source": [
    "### Recommend musical artists part II\n",
    "- Suppose you were a big fan of Bruce Springsteen - which other musicial artists might you like? Use your NMF features from the previous exercise and the cosine similarity to find similar musical artists. A solution to the previous exercise has been run, so norm_features is an array containing the normalized NMF features as rows. The names of the musical artists are available as the list artist_names."
   ]
  },
  {
   "cell_type": "code",
   "execution_count": 65,
   "id": "c0ef5600",
   "metadata": {},
   "outputs": [
    {
     "name": "stdout",
     "output_type": "stream",
     "text": [
      "Bruce Springsteen    1.000000\n",
      "Neil Young           0.993596\n",
      "Bob Dylan            0.989190\n",
      "Van Morrison         0.978322\n",
      "Simon & Garfunkel    0.954246\n",
      "dtype: float64\n"
     ]
    }
   ],
   "source": [
    "# Import pandas\n",
    "import pandas as pd\n",
    "\n",
    "# Create a DataFrame: df\n",
    "df = pd.DataFrame(norm_features, index=artist_names)\n",
    "\n",
    "# Select row of 'Bruce Springsteen': artist\n",
    "artist = df.loc['Bruce Springsteen']\n",
    "\n",
    "# Compute cosine similarities: similarities\n",
    "similarities = df.dot(artist)\n",
    "\n",
    "# Display those with highest cosine similarity\n",
    "print(similarities.nlargest())"
   ]
  },
  {
   "cell_type": "markdown",
   "id": "6a7bbe3b",
   "metadata": {},
   "source": [
    "Well done, and congratulations on reaching the end of the course!"
   ]
  }
 ],
 "metadata": {
  "kernelspec": {
   "display_name": "Python 3 (ipykernel)",
   "language": "python",
   "name": "python3"
  },
  "language_info": {
   "codemirror_mode": {
    "name": "ipython",
    "version": 3
   },
   "file_extension": ".py",
   "mimetype": "text/x-python",
   "name": "python",
   "nbconvert_exporter": "python",
   "pygments_lexer": "ipython3",
   "version": "3.8.12"
  }
 },
 "nbformat": 4,
 "nbformat_minor": 5
}
